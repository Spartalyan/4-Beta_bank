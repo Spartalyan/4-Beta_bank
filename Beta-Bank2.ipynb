{
 "cells": [
  {
   "cell_type": "code",
   "execution_count": 1,
   "metadata": {},
   "outputs": [
    {
     "name": "stdout",
     "output_type": "stream",
     "text": [
      "Requirement already satisfied: scikit-learn==1.1.3 in /Users/mariaspartalan/opt/anaconda3/lib/python3.9/site-packages (1.1.3)\n",
      "Requirement already satisfied: numpy>=1.17.3 in /Users/mariaspartalan/opt/anaconda3/lib/python3.9/site-packages (from scikit-learn==1.1.3) (1.26.3)\n",
      "Requirement already satisfied: scipy>=1.3.2 in /Users/mariaspartalan/opt/anaconda3/lib/python3.9/site-packages (from scikit-learn==1.1.3) (1.12.0)\n",
      "Requirement already satisfied: joblib>=1.0.0 in /Users/mariaspartalan/opt/anaconda3/lib/python3.9/site-packages (from scikit-learn==1.1.3) (1.3.2)\n",
      "Requirement already satisfied: threadpoolctl>=2.0.0 in /Users/mariaspartalan/opt/anaconda3/lib/python3.9/site-packages (from scikit-learn==1.1.3) (3.2.0)\n"
     ]
    }
   ],
   "source": [
    "!pip install scikit-learn==1.1.3"
   ]
  },
  {
   "cell_type": "code",
   "execution_count": 2,
   "metadata": {
    "scrolled": true
   },
   "outputs": [
    {
     "name": "stdout",
     "output_type": "stream",
     "text": [
      "Requirement already satisfied: imblearn in /Users/mariaspartalan/opt/anaconda3/lib/python3.9/site-packages (0.0)\n",
      "Requirement already satisfied: imbalanced-learn in /Users/mariaspartalan/opt/anaconda3/lib/python3.9/site-packages (from imblearn) (0.12.0)\n",
      "Requirement already satisfied: numpy>=1.17.3 in /Users/mariaspartalan/opt/anaconda3/lib/python3.9/site-packages (from imbalanced-learn->imblearn) (1.26.3)\n",
      "Requirement already satisfied: scipy>=1.5.0 in /Users/mariaspartalan/opt/anaconda3/lib/python3.9/site-packages (from imbalanced-learn->imblearn) (1.12.0)\n",
      "Requirement already satisfied: scikit-learn>=1.0.2 in /Users/mariaspartalan/opt/anaconda3/lib/python3.9/site-packages (from imbalanced-learn->imblearn) (1.1.3)\n",
      "Requirement already satisfied: joblib>=1.1.1 in /Users/mariaspartalan/opt/anaconda3/lib/python3.9/site-packages (from imbalanced-learn->imblearn) (1.3.2)\n",
      "Requirement already satisfied: threadpoolctl>=2.0.0 in /Users/mariaspartalan/opt/anaconda3/lib/python3.9/site-packages (from imbalanced-learn->imblearn) (3.2.0)\n"
     ]
    }
   ],
   "source": [
    "!pip install imblearn"
   ]
  },
  {
   "cell_type": "markdown",
   "metadata": {
    "toc": true
   },
   "source": [
    "<h1>Содержание<span class=\"tocSkip\"></span></h1>\n",
    "<div class=\"toc\"><ul class=\"toc-item\"><li><span><a href=\"#Подготовка-данных\" data-toc-modified-id=\"Подготовка-данных-1\"><span class=\"toc-item-num\">1&nbsp;&nbsp;</span>Подготовка данных</a></span><ul class=\"toc-item\"><li><span><a href=\"#Выгрузка-данных\" data-toc-modified-id=\"Выгрузка-данных-1.1\"><span class=\"toc-item-num\">1.1&nbsp;&nbsp;</span>Выгрузка данных</a></span></li><li><span><a href=\"#Подготовка-признаков.\" data-toc-modified-id=\"Подготовка-признаков.-1.2\"><span class=\"toc-item-num\">1.2&nbsp;&nbsp;</span>Подготовка признаков.</a></span><ul class=\"toc-item\"><li><span><a href=\"#Удаление-лишних-признаков.\" data-toc-modified-id=\"Удаление-лишних-признаков.-1.2.1\"><span class=\"toc-item-num\">1.2.1&nbsp;&nbsp;</span>Удаление лишних признаков.</a></span></li><li><span><a href=\"#Удаление-пропусков.\" data-toc-modified-id=\"Удаление-пропусков.-1.2.2\"><span class=\"toc-item-num\">1.2.2&nbsp;&nbsp;</span>Удаление пропусков.</a></span></li><li><span><a href=\"#Выделяем-цель.\" data-toc-modified-id=\"Выделяем-цель.-1.2.3\"><span class=\"toc-item-num\">1.2.3&nbsp;&nbsp;</span>Выделяем цель.</a></span></li><li><span><a href=\"#Делим-все-данные-на-выборки\" data-toc-modified-id=\"Делим-все-данные-на-выборки-1.2.4\"><span class=\"toc-item-num\">1.2.4&nbsp;&nbsp;</span>Делим все данные на выборки</a></span></li><li><span><a href=\"#Обработка-признаков.\" data-toc-modified-id=\"Обработка-признаков.-1.2.5\"><span class=\"toc-item-num\">1.2.5&nbsp;&nbsp;</span>Обработка признаков.</a></span></li></ul></li><li><span><a href=\"#Промежуточный-вывод:\" data-toc-modified-id=\"Промежуточный-вывод:-1.3\"><span class=\"toc-item-num\">1.3&nbsp;&nbsp;</span>Промежуточный вывод:</a></span></li></ul></li><li><span><a href=\"#Исследование-задачи\" data-toc-modified-id=\"Исследование-задачи-2\"><span class=\"toc-item-num\">2&nbsp;&nbsp;</span>Исследование задачи</a></span><ul class=\"toc-item\"><li><span><a href=\"#Логистическая-регрессия\" data-toc-modified-id=\"Логистическая-регрессия-2.1\"><span class=\"toc-item-num\">2.1&nbsp;&nbsp;</span>Логистическая регрессия</a></span></li><li><span><a href=\"#Дерево-решений\" data-toc-modified-id=\"Дерево-решений-2.2\"><span class=\"toc-item-num\">2.2&nbsp;&nbsp;</span>Дерево решений</a></span></li><li><span><a href=\"#Лес-Случайных-деревьев.\" data-toc-modified-id=\"Лес-Случайных-деревьев.-2.3\"><span class=\"toc-item-num\">2.3&nbsp;&nbsp;</span>Лес Случайных деревьев.</a></span></li><li><span><a href=\"#Промежуточные-результаты:\" data-toc-modified-id=\"Промежуточные-результаты:-2.4\"><span class=\"toc-item-num\">2.4&nbsp;&nbsp;</span>Промежуточные результаты:</a></span></li></ul></li><li><span><a href=\"#Борьба-с-дисбалансом\" data-toc-modified-id=\"Борьба-с-дисбалансом-3\"><span class=\"toc-item-num\">3&nbsp;&nbsp;</span>Борьба с дисбалансом</a></span><ul class=\"toc-item\"><li><span><a href=\"#Исследование-дисбаланса.\" data-toc-modified-id=\"Исследование-дисбаланса.-3.1\"><span class=\"toc-item-num\">3.1&nbsp;&nbsp;</span>Исследование дисбаланса.</a></span></li><li><span><a href=\"#Уменьшение-мажоритарной-выборки.\" data-toc-modified-id=\"Уменьшение-мажоритарной-выборки.-3.2\"><span class=\"toc-item-num\">3.2&nbsp;&nbsp;</span>Уменьшение мажоритарной выборки.</a></span><ul class=\"toc-item\"><li><span><a href=\"#Работа-логистической-регрессии-регрессии-при-уменьшенном-мажоре\" data-toc-modified-id=\"Работа-логистической-регрессии-регрессии-при-уменьшенном-мажоре-3.2.1\"><span class=\"toc-item-num\">3.2.1&nbsp;&nbsp;</span>Работа логистической регрессии регрессии при уменьшенном мажоре</a></span></li><li><span><a href=\"#Работа-дерева-решений-при-уменьшенном-мажоре\" data-toc-modified-id=\"Работа-дерева-решений-при-уменьшенном-мажоре-3.2.2\"><span class=\"toc-item-num\">3.2.2&nbsp;&nbsp;</span>Работа дерева решений при уменьшенном мажоре</a></span></li><li><span><a href=\"#Работа-леса-случайных-деревьев-при-уменьшенном-мажоре\" data-toc-modified-id=\"Работа-леса-случайных-деревьев-при-уменьшенном-мажоре-3.2.3\"><span class=\"toc-item-num\">3.2.3&nbsp;&nbsp;</span>Работа леса случайных деревьев при уменьшенном мажоре</a></span></li></ul></li><li><span><a href=\"#Увеличение-миноритарной-выборки.\" data-toc-modified-id=\"Увеличение-миноритарной-выборки.-3.3\"><span class=\"toc-item-num\">3.3&nbsp;&nbsp;</span>Увеличение миноритарной выборки.</a></span><ul class=\"toc-item\"><li><span><a href=\"#Работа-логистической-регрессии-регрессии-при-увеличенном-миноре\" data-toc-modified-id=\"Работа-логистической-регрессии-регрессии-при-увеличенном-миноре-3.3.1\"><span class=\"toc-item-num\">3.3.1&nbsp;&nbsp;</span>Работа логистической регрессии регрессии при увеличенном миноре</a></span></li><li><span><a href=\"#Работа-дерева-решений-при-увеличенном-миноре\" data-toc-modified-id=\"Работа-дерева-решений-при-увеличенном-миноре-3.3.2\"><span class=\"toc-item-num\">3.3.2&nbsp;&nbsp;</span>Работа дерева решений при увеличенном миноре</a></span></li><li><span><a href=\"#Работа-леса-случайных-деревьев-при-увеличенном-миноре\" data-toc-modified-id=\"Работа-леса-случайных-деревьев-при-увеличенном-миноре-3.3.3\"><span class=\"toc-item-num\">3.3.3&nbsp;&nbsp;</span>Работа леса случайных деревьев при увеличенном миноре</a></span></li></ul></li><li><span><a href=\"#Вывод:\" data-toc-modified-id=\"Вывод:-3.4\"><span class=\"toc-item-num\">3.4&nbsp;&nbsp;</span>Вывод:</a></span></li></ul></li><li><span><a href=\"#Тестирование-модели\" data-toc-modified-id=\"Тестирование-модели-4\"><span class=\"toc-item-num\">4&nbsp;&nbsp;</span>Тестирование модели</a></span><ul class=\"toc-item\"><li><span><a href=\"#F1-итоговой-модели\" data-toc-modified-id=\"F1-итоговой-модели-4.1\"><span class=\"toc-item-num\">4.1&nbsp;&nbsp;</span>F1 итоговой модели</a></span></li><li><span><a href=\"#Сравнение-с-константой-моделью\" data-toc-modified-id=\"Сравнение-с-константой-моделью-4.2\"><span class=\"toc-item-num\">4.2&nbsp;&nbsp;</span>Сравнение с константой моделью</a></span></li><li><span><a href=\"#AOC---ROC-итоговой-модели\" data-toc-modified-id=\"AOC---ROC-итоговой-модели-4.3\"><span class=\"toc-item-num\">4.3&nbsp;&nbsp;</span>AOC - ROC итоговой модели</a></span></li><li><span><a href=\"#ВЫВОД:\" data-toc-modified-id=\"ВЫВОД:-4.4\"><span class=\"toc-item-num\">4.4&nbsp;&nbsp;</span>ВЫВОД:</a></span></li></ul></li></ul></div>"
   ]
  },
  {
   "cell_type": "markdown",
   "metadata": {},
   "source": [
    "# Отток клиентов"
   ]
  },
  {
   "cell_type": "markdown",
   "metadata": {},
   "source": [
    "Из «Бета-Банка» стали уходить клиенты. Каждый месяц. Немного, но заметно. Банковские маркетологи посчитали: сохранять текущих клиентов дешевле, чем привлекать новых.\n",
    "\n",
    "Нужно спрогнозировать, уйдёт клиент из банка в ближайшее время или нет. Вам предоставлены исторические данные о поведении клиентов и расторжении договоров с банком. \n",
    "\n",
    "Постройте модель с предельно большим значением *F1*-меры. Чтобы сдать проект успешно, нужно довести метрику до 0.59. Проверьте *F1*-меру на тестовой выборке самостоятельно.\n",
    "\n",
    "Дополнительно измеряйте *AUC-ROC*, сравнивайте её значение с *F1*-мерой.\n",
    "\n",
    "Источник данных: [https://www.kaggle.com/barelydedicated/bank-customer-churn-modeling](https://www.kaggle.com/barelydedicated/bank-customer-churn-modeling)"
   ]
  },
  {
   "cell_type": "markdown",
   "metadata": {},
   "source": [
    "## Подготовка данных"
   ]
  },
  {
   "cell_type": "markdown",
   "metadata": {},
   "source": [
    "### Выгрузка данных"
   ]
  },
  {
   "cell_type": "code",
   "execution_count": 3,
   "metadata": {},
   "outputs": [],
   "source": [
    "#Импортируем необходимые нам инструменты и библиотеки для работы\n",
    "import pandas as pd\n",
    "import numpy as np\n",
    "import matplotlib.pyplot as plt\n",
    "import imblearn\n",
    "from sklearn.model_selection import train_test_split \n",
    "from sklearn.preprocessing import StandardScaler, OneHotEncoder, LabelBinarizer\n",
    "from sklearn.linear_model import LogisticRegression\n",
    "from sklearn.metrics import accuracy_score, confusion_matrix, f1_score, roc_curve, roc_auc_score, recall_score\n",
    "from sklearn.tree import DecisionTreeClassifier\n",
    "from sklearn.ensemble import RandomForestClassifier\n",
    "from sklearn.utils import shuffle\n",
    "from sklearn.dummy import DummyClassifier\n",
    "from imblearn.over_sampling import SMOTE"
   ]
  },
  {
   "cell_type": "code",
   "execution_count": 4,
   "metadata": {},
   "outputs": [],
   "source": [
    "#Выгружаем данные\n",
    "data = pd.read_csv('/Users/mariaspartalan/Desktop/готовые проекты/4 Beta/Churn.csv')"
   ]
  },
  {
   "cell_type": "code",
   "execution_count": 5,
   "metadata": {},
   "outputs": [
    {
     "name": "stdout",
     "output_type": "stream",
     "text": [
      "<class 'pandas.core.frame.DataFrame'>\n",
      "RangeIndex: 10000 entries, 0 to 9999\n",
      "Data columns (total 14 columns):\n",
      " #   Column           Non-Null Count  Dtype  \n",
      "---  ------           --------------  -----  \n",
      " 0   RowNumber        10000 non-null  int64  \n",
      " 1   CustomerId       10000 non-null  int64  \n",
      " 2   Surname          10000 non-null  object \n",
      " 3   CreditScore      10000 non-null  int64  \n",
      " 4   Geography        10000 non-null  object \n",
      " 5   Gender           10000 non-null  object \n",
      " 6   Age              10000 non-null  int64  \n",
      " 7   Tenure           9091 non-null   float64\n",
      " 8   Balance          10000 non-null  float64\n",
      " 9   NumOfProducts    10000 non-null  int64  \n",
      " 10  HasCrCard        10000 non-null  int64  \n",
      " 11  IsActiveMember   10000 non-null  int64  \n",
      " 12  EstimatedSalary  10000 non-null  float64\n",
      " 13  Exited           10000 non-null  int64  \n",
      "dtypes: float64(3), int64(8), object(3)\n",
      "memory usage: 1.1+ MB\n"
     ]
    }
   ],
   "source": [
    "#Рассмотрим получившийся дафрейм \n",
    "data.info()"
   ]
  },
  {
   "cell_type": "markdown",
   "metadata": {},
   "source": [
    "В датасете представлены данные о 10000 обьектах по таким признакам как:\n",
    "\n",
    "* RowNumber — индекс строки в данных\n",
    "* CustomerId — уникальный идентификатор клиента\n",
    "* Surname — фамилия\n",
    "* CreditScore — кредитный рейтинг\n",
    "* Geography — страна проживания\n",
    "* Gender — пол\n",
    "* Age — возраст\n",
    "* Tenure — сколько лет человек является клиентом банка\n",
    "* Balance — баланс на счёте\n",
    "* NumOfProducts — количество продуктов банка, используемых клиентом\n",
    "* HasCrCard — наличие кредитной карты\n",
    "* IsActiveMember — активность клиента\n",
    "* EstimatedSalary — предполагаемая зарплата\n",
    "\n",
    "Целевым признаком, то есть обектом исследования является столбец:\n",
    "* Exited — факт ухода клиента\n",
    "\n",
    "Есть пропуски в данных \"Tenure\". Нужно это исправить.\n",
    "\n",
    "Данные хранящиеся в столбцах RowNumber, CustomerId, Surname для создания модели нам не понадобяться.\n",
    "При создании актуальных выборок их можно удалить.\n",
    "\n",
    "Часть данные не численные, а категориальные. То есть нам нужно будет преобразовать наши данные."
   ]
  },
  {
   "cell_type": "code",
   "execution_count": 6,
   "metadata": {
    "scrolled": true
   },
   "outputs": [
    {
     "data": {
      "text/html": [
       "<div>\n",
       "<style scoped>\n",
       "    .dataframe tbody tr th:only-of-type {\n",
       "        vertical-align: middle;\n",
       "    }\n",
       "\n",
       "    .dataframe tbody tr th {\n",
       "        vertical-align: top;\n",
       "    }\n",
       "\n",
       "    .dataframe thead th {\n",
       "        text-align: right;\n",
       "    }\n",
       "</style>\n",
       "<table border=\"1\" class=\"dataframe\">\n",
       "  <thead>\n",
       "    <tr style=\"text-align: right;\">\n",
       "      <th></th>\n",
       "      <th>RowNumber</th>\n",
       "      <th>CustomerId</th>\n",
       "      <th>Surname</th>\n",
       "      <th>CreditScore</th>\n",
       "      <th>Geography</th>\n",
       "      <th>Gender</th>\n",
       "      <th>Age</th>\n",
       "      <th>Tenure</th>\n",
       "      <th>Balance</th>\n",
       "      <th>NumOfProducts</th>\n",
       "      <th>HasCrCard</th>\n",
       "      <th>IsActiveMember</th>\n",
       "      <th>EstimatedSalary</th>\n",
       "      <th>Exited</th>\n",
       "    </tr>\n",
       "  </thead>\n",
       "  <tbody>\n",
       "    <tr>\n",
       "      <th>0</th>\n",
       "      <td>1</td>\n",
       "      <td>15634602</td>\n",
       "      <td>Hargrave</td>\n",
       "      <td>619</td>\n",
       "      <td>France</td>\n",
       "      <td>Female</td>\n",
       "      <td>42</td>\n",
       "      <td>2.0</td>\n",
       "      <td>0.00</td>\n",
       "      <td>1</td>\n",
       "      <td>1</td>\n",
       "      <td>1</td>\n",
       "      <td>101348.88</td>\n",
       "      <td>1</td>\n",
       "    </tr>\n",
       "    <tr>\n",
       "      <th>1</th>\n",
       "      <td>2</td>\n",
       "      <td>15647311</td>\n",
       "      <td>Hill</td>\n",
       "      <td>608</td>\n",
       "      <td>Spain</td>\n",
       "      <td>Female</td>\n",
       "      <td>41</td>\n",
       "      <td>1.0</td>\n",
       "      <td>83807.86</td>\n",
       "      <td>1</td>\n",
       "      <td>0</td>\n",
       "      <td>1</td>\n",
       "      <td>112542.58</td>\n",
       "      <td>0</td>\n",
       "    </tr>\n",
       "    <tr>\n",
       "      <th>2</th>\n",
       "      <td>3</td>\n",
       "      <td>15619304</td>\n",
       "      <td>Onio</td>\n",
       "      <td>502</td>\n",
       "      <td>France</td>\n",
       "      <td>Female</td>\n",
       "      <td>42</td>\n",
       "      <td>8.0</td>\n",
       "      <td>159660.80</td>\n",
       "      <td>3</td>\n",
       "      <td>1</td>\n",
       "      <td>0</td>\n",
       "      <td>113931.57</td>\n",
       "      <td>1</td>\n",
       "    </tr>\n",
       "    <tr>\n",
       "      <th>3</th>\n",
       "      <td>4</td>\n",
       "      <td>15701354</td>\n",
       "      <td>Boni</td>\n",
       "      <td>699</td>\n",
       "      <td>France</td>\n",
       "      <td>Female</td>\n",
       "      <td>39</td>\n",
       "      <td>1.0</td>\n",
       "      <td>0.00</td>\n",
       "      <td>2</td>\n",
       "      <td>0</td>\n",
       "      <td>0</td>\n",
       "      <td>93826.63</td>\n",
       "      <td>0</td>\n",
       "    </tr>\n",
       "    <tr>\n",
       "      <th>4</th>\n",
       "      <td>5</td>\n",
       "      <td>15737888</td>\n",
       "      <td>Mitchell</td>\n",
       "      <td>850</td>\n",
       "      <td>Spain</td>\n",
       "      <td>Female</td>\n",
       "      <td>43</td>\n",
       "      <td>2.0</td>\n",
       "      <td>125510.82</td>\n",
       "      <td>1</td>\n",
       "      <td>1</td>\n",
       "      <td>1</td>\n",
       "      <td>79084.10</td>\n",
       "      <td>0</td>\n",
       "    </tr>\n",
       "    <tr>\n",
       "      <th>5</th>\n",
       "      <td>6</td>\n",
       "      <td>15574012</td>\n",
       "      <td>Chu</td>\n",
       "      <td>645</td>\n",
       "      <td>Spain</td>\n",
       "      <td>Male</td>\n",
       "      <td>44</td>\n",
       "      <td>8.0</td>\n",
       "      <td>113755.78</td>\n",
       "      <td>2</td>\n",
       "      <td>1</td>\n",
       "      <td>0</td>\n",
       "      <td>149756.71</td>\n",
       "      <td>1</td>\n",
       "    </tr>\n",
       "    <tr>\n",
       "      <th>6</th>\n",
       "      <td>7</td>\n",
       "      <td>15592531</td>\n",
       "      <td>Bartlett</td>\n",
       "      <td>822</td>\n",
       "      <td>France</td>\n",
       "      <td>Male</td>\n",
       "      <td>50</td>\n",
       "      <td>7.0</td>\n",
       "      <td>0.00</td>\n",
       "      <td>2</td>\n",
       "      <td>1</td>\n",
       "      <td>1</td>\n",
       "      <td>10062.80</td>\n",
       "      <td>0</td>\n",
       "    </tr>\n",
       "    <tr>\n",
       "      <th>7</th>\n",
       "      <td>8</td>\n",
       "      <td>15656148</td>\n",
       "      <td>Obinna</td>\n",
       "      <td>376</td>\n",
       "      <td>Germany</td>\n",
       "      <td>Female</td>\n",
       "      <td>29</td>\n",
       "      <td>4.0</td>\n",
       "      <td>115046.74</td>\n",
       "      <td>4</td>\n",
       "      <td>1</td>\n",
       "      <td>0</td>\n",
       "      <td>119346.88</td>\n",
       "      <td>1</td>\n",
       "    </tr>\n",
       "    <tr>\n",
       "      <th>8</th>\n",
       "      <td>9</td>\n",
       "      <td>15792365</td>\n",
       "      <td>He</td>\n",
       "      <td>501</td>\n",
       "      <td>France</td>\n",
       "      <td>Male</td>\n",
       "      <td>44</td>\n",
       "      <td>4.0</td>\n",
       "      <td>142051.07</td>\n",
       "      <td>2</td>\n",
       "      <td>0</td>\n",
       "      <td>1</td>\n",
       "      <td>74940.50</td>\n",
       "      <td>0</td>\n",
       "    </tr>\n",
       "    <tr>\n",
       "      <th>9</th>\n",
       "      <td>10</td>\n",
       "      <td>15592389</td>\n",
       "      <td>H?</td>\n",
       "      <td>684</td>\n",
       "      <td>France</td>\n",
       "      <td>Male</td>\n",
       "      <td>27</td>\n",
       "      <td>2.0</td>\n",
       "      <td>134603.88</td>\n",
       "      <td>1</td>\n",
       "      <td>1</td>\n",
       "      <td>1</td>\n",
       "      <td>71725.73</td>\n",
       "      <td>0</td>\n",
       "    </tr>\n",
       "  </tbody>\n",
       "</table>\n",
       "</div>"
      ],
      "text/plain": [
       "   RowNumber  CustomerId   Surname  CreditScore Geography  Gender  Age  \\\n",
       "0          1    15634602  Hargrave          619    France  Female   42   \n",
       "1          2    15647311      Hill          608     Spain  Female   41   \n",
       "2          3    15619304      Onio          502    France  Female   42   \n",
       "3          4    15701354      Boni          699    France  Female   39   \n",
       "4          5    15737888  Mitchell          850     Spain  Female   43   \n",
       "5          6    15574012       Chu          645     Spain    Male   44   \n",
       "6          7    15592531  Bartlett          822    France    Male   50   \n",
       "7          8    15656148    Obinna          376   Germany  Female   29   \n",
       "8          9    15792365        He          501    France    Male   44   \n",
       "9         10    15592389        H?          684    France    Male   27   \n",
       "\n",
       "   Tenure    Balance  NumOfProducts  HasCrCard  IsActiveMember  \\\n",
       "0     2.0       0.00              1          1               1   \n",
       "1     1.0   83807.86              1          0               1   \n",
       "2     8.0  159660.80              3          1               0   \n",
       "3     1.0       0.00              2          0               0   \n",
       "4     2.0  125510.82              1          1               1   \n",
       "5     8.0  113755.78              2          1               0   \n",
       "6     7.0       0.00              2          1               1   \n",
       "7     4.0  115046.74              4          1               0   \n",
       "8     4.0  142051.07              2          0               1   \n",
       "9     2.0  134603.88              1          1               1   \n",
       "\n",
       "   EstimatedSalary  Exited  \n",
       "0        101348.88       1  \n",
       "1        112542.58       0  \n",
       "2        113931.57       1  \n",
       "3         93826.63       0  \n",
       "4         79084.10       0  \n",
       "5        149756.71       1  \n",
       "6         10062.80       0  \n",
       "7        119346.88       1  \n",
       "8         74940.50       0  \n",
       "9         71725.73       0  "
      ]
     },
     "execution_count": 6,
     "metadata": {},
     "output_type": "execute_result"
    }
   ],
   "source": [
    "data.head(10)"
   ]
  },
  {
   "cell_type": "markdown",
   "metadata": {},
   "source": [
    "В численных данных очень разные размеры.\n",
    "\n",
    "Т.е. в данных о количестве продуктов банка используемых клиентом, небольшие числа, в то время как баланс на счет может быть очень разный от 0 до млн. \n",
    "\n",
    "Для корректной работы модели нужно стандартизировать признаки:\n",
    "- CreditScore\n",
    "- Tenure\n",
    "- Balance\n",
    "- NumOfProducts"
   ]
  },
  {
   "cell_type": "markdown",
   "metadata": {},
   "source": [
    "### Подготовка признаков.\n",
    "#### Удаление лишних признаков.\n",
    "\n",
    "Пропуски содержаться графе \"Tenure\". В ней указано сколько лет сколько лет человек является клиентом банка. Расмотрим возможные значения."
   ]
  },
  {
   "cell_type": "code",
   "execution_count": 7,
   "metadata": {},
   "outputs": [],
   "source": [
    "data = data.drop(['RowNumber', 'CustomerId', 'Surname'], axis = 1)"
   ]
  },
  {
   "cell_type": "markdown",
   "metadata": {},
   "source": [
    "Еще раз взглянем на данные"
   ]
  },
  {
   "cell_type": "code",
   "execution_count": 8,
   "metadata": {},
   "outputs": [
    {
     "name": "stdout",
     "output_type": "stream",
     "text": [
      "<class 'pandas.core.frame.DataFrame'>\n",
      "RangeIndex: 10000 entries, 0 to 9999\n",
      "Data columns (total 11 columns):\n",
      " #   Column           Non-Null Count  Dtype  \n",
      "---  ------           --------------  -----  \n",
      " 0   CreditScore      10000 non-null  int64  \n",
      " 1   Geography        10000 non-null  object \n",
      " 2   Gender           10000 non-null  object \n",
      " 3   Age              10000 non-null  int64  \n",
      " 4   Tenure           9091 non-null   float64\n",
      " 5   Balance          10000 non-null  float64\n",
      " 6   NumOfProducts    10000 non-null  int64  \n",
      " 7   HasCrCard        10000 non-null  int64  \n",
      " 8   IsActiveMember   10000 non-null  int64  \n",
      " 9   EstimatedSalary  10000 non-null  float64\n",
      " 10  Exited           10000 non-null  int64  \n",
      "dtypes: float64(3), int64(6), object(2)\n",
      "memory usage: 859.5+ KB\n"
     ]
    }
   ],
   "source": [
    "data.info()"
   ]
  },
  {
   "cell_type": "markdown",
   "metadata": {},
   "source": [
    "#### Удаление пропусков.\n",
    "Пропуски содержаться графе \"Tenure\". В ней указано сколько лет сколько лет человек является клиентом банка. Расмотрим возможные значения."
   ]
  },
  {
   "cell_type": "code",
   "execution_count": 9,
   "metadata": {},
   "outputs": [
    {
     "data": {
      "text/plain": [
       "Tenure\n",
       "1.0     952\n",
       "2.0     950\n",
       "8.0     933\n",
       "3.0     928\n",
       "5.0     927\n",
       "7.0     925\n",
       "4.0     885\n",
       "9.0     882\n",
       "6.0     881\n",
       "10.0    446\n",
       "0.0     382\n",
       "Name: count, dtype: int64"
      ]
     },
     "execution_count": 9,
     "metadata": {},
     "output_type": "execute_result"
    }
   ],
   "source": [
    "data['Tenure'].value_counts()"
   ]
  },
  {
   "cell_type": "markdown",
   "metadata": {},
   "source": [
    "В таблице представлены значения от 0 до 11.\n",
    "\n",
    "Следовательно, помно заменить пропуски среднеарифметическим."
   ]
  },
  {
   "cell_type": "code",
   "execution_count": 10,
   "metadata": {},
   "outputs": [
    {
     "name": "stdout",
     "output_type": "stream",
     "text": [
      "В данных имеется 0 пропусков\n"
     ]
    }
   ],
   "source": [
    "#Заполняем пропуски средним значением \n",
    "data['Tenure'] = data['Tenure'].fillna(data['Tenure'].median())\n",
    "#Проверяем данные на наличие пропусков\n",
    "print('В данных имеется {} пропусков'.format(data.isna().sum().sum()))"
   ]
  },
  {
   "cell_type": "markdown",
   "metadata": {},
   "source": [
    "#### Выделяем цель. "
   ]
  },
  {
   "cell_type": "code",
   "execution_count": 11,
   "metadata": {
    "scrolled": true
   },
   "outputs": [],
   "source": [
    "#Выделяем отдельно цель\n",
    "features = data.drop('Exited', axis = 1)\n",
    "target = data['Exited']"
   ]
  },
  {
   "cell_type": "markdown",
   "metadata": {},
   "source": [
    "#### Делим все данные на выборки"
   ]
  },
  {
   "cell_type": "code",
   "execution_count": 12,
   "metadata": {},
   "outputs": [
    {
     "name": "stdout",
     "output_type": "stream",
     "text": [
      "Размер тестовой выборки: 2000\n",
      "Размер валидационной выборки: 2000\n",
      "Размер обучающей выборки: 6000\n"
     ]
    }
   ],
   "source": [
    "features_train, features_valid_test, target_train, target_valid_test = train_test_split(features, target, \n",
    "                                                                              test_size = 0.4, \n",
    "                                                                             random_state = 12345)\n",
    "\n",
    "features_valid, features_test, target_valid, target_test = train_test_split(features_valid_test, target_valid_test, \n",
    "                                                                              test_size = 0.5, \n",
    "                                                                             random_state = 12345)\n",
    "\n",
    "#проверяем размеры\n",
    "print('Размер тестовой выборки:', target_test.shape[0])\n",
    "print('Размер валидационной выборки:', target_valid.shape[0])\n",
    "print('Размер обучающей выборки:', target_train.shape[0])"
   ]
  },
  {
   "cell_type": "markdown",
   "metadata": {},
   "source": [
    "Получились 3 выборки с соотношением 3:1:1."
   ]
  },
  {
   "cell_type": "markdown",
   "metadata": {},
   "source": [
    "#### Обработка признаков.\n",
    "\n",
    "Рассмотрим получившуюся таблицу с признакми."
   ]
  },
  {
   "cell_type": "code",
   "execution_count": 13,
   "metadata": {},
   "outputs": [
    {
     "name": "stdout",
     "output_type": "stream",
     "text": [
      "<class 'pandas.core.frame.DataFrame'>\n",
      "Index: 6000 entries, 7479 to 4578\n",
      "Data columns (total 10 columns):\n",
      " #   Column           Non-Null Count  Dtype  \n",
      "---  ------           --------------  -----  \n",
      " 0   CreditScore      6000 non-null   int64  \n",
      " 1   Geography        6000 non-null   object \n",
      " 2   Gender           6000 non-null   object \n",
      " 3   Age              6000 non-null   int64  \n",
      " 4   Tenure           6000 non-null   float64\n",
      " 5   Balance          6000 non-null   float64\n",
      " 6   NumOfProducts    6000 non-null   int64  \n",
      " 7   HasCrCard        6000 non-null   int64  \n",
      " 8   IsActiveMember   6000 non-null   int64  \n",
      " 9   EstimatedSalary  6000 non-null   float64\n",
      "dtypes: float64(3), int64(5), object(2)\n",
      "memory usage: 515.6+ KB\n"
     ]
    }
   ],
   "source": [
    "features_train.info()"
   ]
  },
  {
   "cell_type": "markdown",
   "metadata": {},
   "source": [
    "Данные представленные НЕчисловыми значениями, представлены в столбцах \"Geography\" и \"Gender\".\n",
    "\n",
    "Их нам и нужно преобразовать. \n",
    "Воспользуемся для этого методом OHE-кодирования.\n",
    "\n",
    "Признаки HasCrCard  и IsActiveMember являются бинарными, их оставляем без изменения.\n",
    "\n",
    "Остальные численные признаки нужно стандартизировать для корректной работы модели."
   ]
  },
  {
   "cell_type": "code",
   "execution_count": 14,
   "metadata": {
    "scrolled": true
   },
   "outputs": [
    {
     "data": {
      "text/html": [
       "<div>\n",
       "<style scoped>\n",
       "    .dataframe tbody tr th:only-of-type {\n",
       "        vertical-align: middle;\n",
       "    }\n",
       "\n",
       "    .dataframe tbody tr th {\n",
       "        vertical-align: top;\n",
       "    }\n",
       "\n",
       "    .dataframe thead th {\n",
       "        text-align: right;\n",
       "    }\n",
       "</style>\n",
       "<table border=\"1\" class=\"dataframe\">\n",
       "  <thead>\n",
       "    <tr style=\"text-align: right;\">\n",
       "      <th></th>\n",
       "      <th>CreditScore</th>\n",
       "      <th>Age</th>\n",
       "      <th>Tenure</th>\n",
       "      <th>Balance</th>\n",
       "      <th>NumOfProducts</th>\n",
       "      <th>HasCrCard</th>\n",
       "      <th>IsActiveMember</th>\n",
       "      <th>EstimatedSalary</th>\n",
       "      <th>Geography_Germany</th>\n",
       "      <th>Geography_Spain</th>\n",
       "      <th>Gender_Male</th>\n",
       "    </tr>\n",
       "  </thead>\n",
       "  <tbody>\n",
       "    <tr>\n",
       "      <th>7479</th>\n",
       "      <td>-0.886751</td>\n",
       "      <td>-0.373192</td>\n",
       "      <td>1.082277</td>\n",
       "      <td>1.232271</td>\n",
       "      <td>-0.891560</td>\n",
       "      <td>1</td>\n",
       "      <td>0</td>\n",
       "      <td>-0.187705</td>\n",
       "      <td>0.0</td>\n",
       "      <td>1.0</td>\n",
       "      <td>1.0</td>\n",
       "    </tr>\n",
       "    <tr>\n",
       "      <th>3411</th>\n",
       "      <td>0.608663</td>\n",
       "      <td>-0.183385</td>\n",
       "      <td>1.082277</td>\n",
       "      <td>0.600563</td>\n",
       "      <td>-0.891560</td>\n",
       "      <td>0</td>\n",
       "      <td>0</td>\n",
       "      <td>-0.333945</td>\n",
       "      <td>0.0</td>\n",
       "      <td>0.0</td>\n",
       "      <td>0.0</td>\n",
       "    </tr>\n",
       "    <tr>\n",
       "      <th>6027</th>\n",
       "      <td>2.052152</td>\n",
       "      <td>0.480939</td>\n",
       "      <td>-0.737696</td>\n",
       "      <td>1.027098</td>\n",
       "      <td>0.830152</td>\n",
       "      <td>0</td>\n",
       "      <td>1</td>\n",
       "      <td>1.503095</td>\n",
       "      <td>1.0</td>\n",
       "      <td>0.0</td>\n",
       "      <td>1.0</td>\n",
       "    </tr>\n",
       "    <tr>\n",
       "      <th>1247</th>\n",
       "      <td>-1.457915</td>\n",
       "      <td>-1.417129</td>\n",
       "      <td>0.354288</td>\n",
       "      <td>-1.233163</td>\n",
       "      <td>0.830152</td>\n",
       "      <td>1</td>\n",
       "      <td>0</td>\n",
       "      <td>-1.071061</td>\n",
       "      <td>0.0</td>\n",
       "      <td>0.0</td>\n",
       "      <td>1.0</td>\n",
       "    </tr>\n",
       "    <tr>\n",
       "      <th>3716</th>\n",
       "      <td>0.130961</td>\n",
       "      <td>-1.132419</td>\n",
       "      <td>-1.101690</td>\n",
       "      <td>1.140475</td>\n",
       "      <td>-0.891560</td>\n",
       "      <td>0</td>\n",
       "      <td>0</td>\n",
       "      <td>1.524268</td>\n",
       "      <td>1.0</td>\n",
       "      <td>0.0</td>\n",
       "      <td>0.0</td>\n",
       "    </tr>\n",
       "  </tbody>\n",
       "</table>\n",
       "</div>"
      ],
      "text/plain": [
       "      CreditScore       Age    Tenure   Balance  NumOfProducts  HasCrCard  \\\n",
       "7479    -0.886751 -0.373192  1.082277  1.232271      -0.891560          1   \n",
       "3411     0.608663 -0.183385  1.082277  0.600563      -0.891560          0   \n",
       "6027     2.052152  0.480939 -0.737696  1.027098       0.830152          0   \n",
       "1247    -1.457915 -1.417129  0.354288 -1.233163       0.830152          1   \n",
       "3716     0.130961 -1.132419 -1.101690  1.140475      -0.891560          0   \n",
       "\n",
       "      IsActiveMember  EstimatedSalary  Geography_Germany  Geography_Spain  \\\n",
       "7479               0        -0.187705                0.0              1.0   \n",
       "3411               0        -0.333945                0.0              0.0   \n",
       "6027               1         1.503095                1.0              0.0   \n",
       "1247               0        -1.071061                0.0              0.0   \n",
       "3716               0         1.524268                1.0              0.0   \n",
       "\n",
       "      Gender_Male  \n",
       "7479          1.0  \n",
       "3411          0.0  \n",
       "6027          1.0  \n",
       "1247          1.0  \n",
       "3716          0.0  "
      ]
     },
     "execution_count": 14,
     "metadata": {},
     "output_type": "execute_result"
    }
   ],
   "source": [
    "#создаем список категориальных признаков\n",
    "ohe_features = features_train.select_dtypes(include='object').columns.to_list()\n",
    "\n",
    "#численные признаки\n",
    "num_features = features_train.select_dtypes(exclude='object').columns.to_list()\n",
    "#удаляем бинарные признаки\n",
    "num_features.remove('HasCrCard')\n",
    "num_features.remove('IsActiveMember')\n",
    "\n",
    "\n",
    "# drop='first' удаляет первый признак из закодированных:\n",
    "# таким образом обходим dummy-ловушку\n",
    "# задаём handle_unknown='ignore':\n",
    "# игнорируется ранее невстречающиеся значения признака (при transform)\n",
    "encoder_ohe = OneHotEncoder(drop='first', handle_unknown='ignore', sparse_output=False)\n",
    "\n",
    "# обучаем энкодер на заданных категориальных признаках тренировочной выборки\n",
    "encoder_ohe.fit(features_train[ohe_features])\n",
    "\n",
    "# добавляем закодированные признаки в \n",
    "# encoder_ohe.get_feature_names_out() позволяет получить названия колонок\n",
    "features_train[\n",
    "    encoder_ohe.get_feature_names_out()\n",
    "] = encoder_ohe.transform(features_train[ohe_features])\n",
    "\n",
    "# удаляем незакодированные категориальные признаки (изначальные колонки)\n",
    "features_train = features_train.drop(ohe_features, axis=1)\n",
    "\n",
    "#импортируем объект стандартизации\n",
    "scaler = StandardScaler()\n",
    "\n",
    "# обучаем его на численных признаках тренировочной выборки, трансформируем её же\n",
    "features_train[num_features] = scaler.fit_transform(features_train[num_features])\n",
    "\n",
    "# смотрим на результат\n",
    "features_train.head()"
   ]
  },
  {
   "cell_type": "code",
   "execution_count": 15,
   "metadata": {},
   "outputs": [
    {
     "name": "stdout",
     "output_type": "stream",
     "text": [
      "<class 'pandas.core.frame.DataFrame'>\n",
      "Index: 6000 entries, 7479 to 4578\n",
      "Data columns (total 11 columns):\n",
      " #   Column             Non-Null Count  Dtype  \n",
      "---  ------             --------------  -----  \n",
      " 0   CreditScore        6000 non-null   float64\n",
      " 1   Age                6000 non-null   float64\n",
      " 2   Tenure             6000 non-null   float64\n",
      " 3   Balance            6000 non-null   float64\n",
      " 4   NumOfProducts      6000 non-null   float64\n",
      " 5   HasCrCard          6000 non-null   int64  \n",
      " 6   IsActiveMember     6000 non-null   int64  \n",
      " 7   EstimatedSalary    6000 non-null   float64\n",
      " 8   Geography_Germany  6000 non-null   float64\n",
      " 9   Geography_Spain    6000 non-null   float64\n",
      " 10  Gender_Male        6000 non-null   float64\n",
      "dtypes: float64(9), int64(2)\n",
      "memory usage: 562.5 KB\n"
     ]
    }
   ],
   "source": [
    "features_train.info()"
   ]
  },
  {
   "cell_type": "markdown",
   "metadata": {},
   "source": [
    "Все работает корректно, таким же образом преобразуем валидационную и тестовую подборки"
   ]
  },
  {
   "cell_type": "code",
   "execution_count": 16,
   "metadata": {},
   "outputs": [],
   "source": [
    "features_valid[\n",
    "    encoder_ohe.get_feature_names_out()\n",
    "] = encoder_ohe.transform(features_valid[ohe_features])\n",
    "features_valid = features_valid.drop(ohe_features, axis=1)\n",
    "\n",
    "features_test[\n",
    "    encoder_ohe.get_feature_names_out()\n",
    "] = encoder_ohe.transform(features_test[ohe_features])\n",
    "features_test = features_test.drop(ohe_features, axis=1)"
   ]
  },
  {
   "cell_type": "code",
   "execution_count": 17,
   "metadata": {},
   "outputs": [
    {
     "data": {
      "text/html": [
       "<div>\n",
       "<style scoped>\n",
       "    .dataframe tbody tr th:only-of-type {\n",
       "        vertical-align: middle;\n",
       "    }\n",
       "\n",
       "    .dataframe tbody tr th {\n",
       "        vertical-align: top;\n",
       "    }\n",
       "\n",
       "    .dataframe thead th {\n",
       "        text-align: right;\n",
       "    }\n",
       "</style>\n",
       "<table border=\"1\" class=\"dataframe\">\n",
       "  <thead>\n",
       "    <tr style=\"text-align: right;\">\n",
       "      <th></th>\n",
       "      <th>CreditScore</th>\n",
       "      <th>Age</th>\n",
       "      <th>Tenure</th>\n",
       "      <th>Balance</th>\n",
       "      <th>NumOfProducts</th>\n",
       "      <th>HasCrCard</th>\n",
       "      <th>IsActiveMember</th>\n",
       "      <th>EstimatedSalary</th>\n",
       "      <th>Geography_Germany</th>\n",
       "      <th>Geography_Spain</th>\n",
       "      <th>Gender_Male</th>\n",
       "    </tr>\n",
       "  </thead>\n",
       "  <tbody>\n",
       "    <tr>\n",
       "      <th>8532</th>\n",
       "      <td>585</td>\n",
       "      <td>35</td>\n",
       "      <td>2.0</td>\n",
       "      <td>0.00</td>\n",
       "      <td>2</td>\n",
       "      <td>1</td>\n",
       "      <td>0</td>\n",
       "      <td>98621.04</td>\n",
       "      <td>0.0</td>\n",
       "      <td>0.0</td>\n",
       "      <td>0.0</td>\n",
       "    </tr>\n",
       "    <tr>\n",
       "      <th>5799</th>\n",
       "      <td>625</td>\n",
       "      <td>45</td>\n",
       "      <td>3.0</td>\n",
       "      <td>0.00</td>\n",
       "      <td>1</td>\n",
       "      <td>1</td>\n",
       "      <td>1</td>\n",
       "      <td>184474.15</td>\n",
       "      <td>0.0</td>\n",
       "      <td>0.0</td>\n",
       "      <td>0.0</td>\n",
       "    </tr>\n",
       "    <tr>\n",
       "      <th>5511</th>\n",
       "      <td>667</td>\n",
       "      <td>32</td>\n",
       "      <td>0.0</td>\n",
       "      <td>103846.65</td>\n",
       "      <td>1</td>\n",
       "      <td>1</td>\n",
       "      <td>0</td>\n",
       "      <td>20560.69</td>\n",
       "      <td>1.0</td>\n",
       "      <td>0.0</td>\n",
       "      <td>1.0</td>\n",
       "    </tr>\n",
       "    <tr>\n",
       "      <th>7365</th>\n",
       "      <td>568</td>\n",
       "      <td>36</td>\n",
       "      <td>10.0</td>\n",
       "      <td>153610.61</td>\n",
       "      <td>1</td>\n",
       "      <td>1</td>\n",
       "      <td>1</td>\n",
       "      <td>54083.80</td>\n",
       "      <td>0.0</td>\n",
       "      <td>1.0</td>\n",
       "      <td>0.0</td>\n",
       "    </tr>\n",
       "    <tr>\n",
       "      <th>7367</th>\n",
       "      <td>606</td>\n",
       "      <td>42</td>\n",
       "      <td>10.0</td>\n",
       "      <td>0.00</td>\n",
       "      <td>2</td>\n",
       "      <td>1</td>\n",
       "      <td>0</td>\n",
       "      <td>177938.52</td>\n",
       "      <td>0.0</td>\n",
       "      <td>1.0</td>\n",
       "      <td>1.0</td>\n",
       "    </tr>\n",
       "  </tbody>\n",
       "</table>\n",
       "</div>"
      ],
      "text/plain": [
       "      CreditScore  Age  Tenure    Balance  NumOfProducts  HasCrCard  \\\n",
       "8532          585   35     2.0       0.00              2          1   \n",
       "5799          625   45     3.0       0.00              1          1   \n",
       "5511          667   32     0.0  103846.65              1          1   \n",
       "7365          568   36    10.0  153610.61              1          1   \n",
       "7367          606   42    10.0       0.00              2          1   \n",
       "\n",
       "      IsActiveMember  EstimatedSalary  Geography_Germany  Geography_Spain  \\\n",
       "8532               0         98621.04                0.0              0.0   \n",
       "5799               1        184474.15                0.0              0.0   \n",
       "5511               0         20560.69                1.0              0.0   \n",
       "7365               1         54083.80                0.0              1.0   \n",
       "7367               0        177938.52                0.0              1.0   \n",
       "\n",
       "      Gender_Male  \n",
       "8532          0.0  \n",
       "5799          0.0  \n",
       "5511          1.0  \n",
       "7365          0.0  \n",
       "7367          1.0  "
      ]
     },
     "execution_count": 17,
     "metadata": {},
     "output_type": "execute_result"
    }
   ],
   "source": [
    "features_valid.head()"
   ]
  },
  {
   "cell_type": "code",
   "execution_count": 18,
   "metadata": {},
   "outputs": [],
   "source": [
    "features_valid[num_features] = scaler.fit_transform(features_valid[num_features])\n",
    "features_test[num_features] = scaler.fit_transform(features_test[num_features])"
   ]
  },
  {
   "cell_type": "markdown",
   "metadata": {},
   "source": [
    "### Промежуточный вывод:\n",
    "\n",
    "   В этой части работы, мы подготовили признаки к созданию модели:\n",
    "    \n",
    "- Удалили признаки которые не понадобяться при создании модели.\n",
    "- Убрали пропуски в данных, путем замены их медианными значениями признака.\n",
    "- Выделили целевой признак в отдельных датафрейм.\n",
    "- Разделили данные на тренировочную, валидационную и тестовые выборки.\n",
    "- Преобразовали категориальные признаки методом OHE.\n",
    "- Стандартизировали численные признаки."
   ]
  },
  {
   "cell_type": "markdown",
   "metadata": {},
   "source": [
    "## Исследование задачи"
   ]
  },
  {
   "cell_type": "markdown",
   "metadata": {},
   "source": [
    "### Логистическая регрессия\n",
    "\n",
    "ДЛя решения данного задания сначала создадим модель логистической регрессии"
   ]
  },
  {
   "cell_type": "code",
   "execution_count": 19,
   "metadata": {},
   "outputs": [
    {
     "name": "stdout",
     "output_type": "stream",
     "text": [
      "F1 модели линейной регрессии 0.32081911262798635\n"
     ]
    }
   ],
   "source": [
    "#Инициируем модель\n",
    "model = LogisticRegression(random_state=12345, solver='liblinear')\n",
    "#Обучаем\n",
    "model.fit(features_train, target_train)\n",
    "#Предсказываем значение целевого признака\n",
    "predicted_valid = model.predict(features_valid)\n",
    "#Проверяем точность\n",
    "f1 = f1_score(predicted_valid, target_valid)\n",
    "print('F1 модели линейной регрессии', f1)\n",
    "\n"
   ]
  },
  {
   "cell_type": "markdown",
   "metadata": {},
   "source": [
    "### Дерево решений \n",
    "\n",
    "В этой части работы обучим модель дерева решений, Попробуем деревья с глубиной от 1 до 50.\n",
    "Рассчитаем Accuracy для каждого и сохраним лучший результат."
   ]
  },
  {
   "cell_type": "code",
   "execution_count": 20,
   "metadata": {},
   "outputs": [
    {
     "name": "stdout",
     "output_type": "stream",
     "text": [
      "\n",
      "Лучший результа F1 = 0.56752655538695, показало дерево с глубиной - 6\n"
     ]
    }
   ],
   "source": [
    "#Создадим цикл в котором создадим и обучим модели дерева решений с глубиной от 1 до 15.\n",
    " \n",
    "best_result_tree = 0\n",
    "best_tree = 0\n",
    "\n",
    "for depth in range(1, 15, 1):\n",
    "    model = DecisionTreeClassifier(max_depth = depth, random_state = 12345)\n",
    "    model.fit(features_train, target_train)\n",
    "    predicted_valid = model.predict(features_valid)\n",
    "    f1 = f1_score(predicted_valid, target_valid)\n",
    "    if f1 > best_result_tree:\n",
    "        best_result_tree = f1\n",
    "        best_tree = depth\n",
    "\n",
    "print()        \n",
    "print('Лучший результа F1 = {}, показало дерево с глубиной - {}'.format(best_result_tree, best_tree))\n"
   ]
  },
  {
   "cell_type": "markdown",
   "metadata": {},
   "source": [
    "Деревья глубиной до 6, недообучены.\n",
    "Глубиной после 6, переобучены, их результат меньше."
   ]
  },
  {
   "cell_type": "markdown",
   "metadata": {},
   "source": [
    "### Лес Случайных деревьев.\n",
    "\n",
    "Теперь обучим модель лес случайных деревьев. Подберем оптимальные варианты гиперпараметров, такие как глубина деревьев, количество деревьев."
   ]
  },
  {
   "cell_type": "code",
   "execution_count": 21,
   "metadata": {},
   "outputs": [
    {
     "name": "stdout",
     "output_type": "stream",
     "text": [
      "f1 лучшей модели для леса: 0.5933734939759037\n",
      "Глубина для лучшей модели: 15\n",
      "Количество деревьев для лучшей модели: 140\n"
     ]
    }
   ],
   "source": [
    "#Создадим цикл, который подберет модель леса случайных деревьев, который будет подсказывать лучшую модель\n",
    "\n",
    "best_result_forest = 0\n",
    "best_depth_forest = 0\n",
    "best_est = 0\n",
    "dep = 0\n",
    "\n",
    "for est in range(10, 151, 10):\n",
    "    for depth in range (1, 21):\n",
    "        model = RandomForestClassifier(n_estimators = est, max_depth = depth, random_state = 12345)\n",
    "        model.fit(features_train, target_train)\n",
    "        predicted_valid = model.predict(features_valid) \n",
    "        f1 = f1_score(predicted_valid, target_valid)\n",
    "        if f1 > best_result_forest:\n",
    "            best_result_forest = f1\n",
    "            best_depth_forest = depth\n",
    "            best_est = est\n",
    "\n",
    "\n",
    "print('f1 лучшей модели для леса:', best_result_forest)\n",
    "print('Глубина для лучшей модели:', best_depth_forest)\n",
    "print('Количество деревьев для лучшей модели:', best_est)"
   ]
  },
  {
   "cell_type": "markdown",
   "metadata": {},
   "source": [
    "Это лучший показатель, сохраним это модель отдельно, для дальнейшего анализа."
   ]
  },
  {
   "cell_type": "code",
   "execution_count": 22,
   "metadata": {},
   "outputs": [],
   "source": [
    "best_model_raw = RandomForestClassifier(n_estimators = best_est, max_depth = best_depth_forest, random_state = 12345)"
   ]
  },
  {
   "cell_type": "markdown",
   "metadata": {},
   "source": [
    "### Промежуточные результаты:\n",
    "\n",
    "* Модель линейной регрессии показывает лучший **F1 = 0.321**.\n",
    "\n",
    "* Модель дерева показала лучший результат **F1 = 0.568**, при глубине 9.\n",
    "\n",
    "* Модель случайного леса показала лучший результат **F1 = 0.599**, количество деревьев 11, глубина 18."
   ]
  },
  {
   "cell_type": "markdown",
   "metadata": {},
   "source": [
    "## Борьба с дисбалансом\n",
    "\n",
    "### Исследование дисбаланса.\n",
    "\n",
    "Проверим адекватность модели, для этого узнаем сбалансированы ли данные.\n",
    "\n",
    "\n",
    "Изучим как часто в нашем массиве встречаются положительные и отрицательные ответы."
   ]
  },
  {
   "cell_type": "code",
   "execution_count": 23,
   "metadata": {
    "scrolled": true
   },
   "outputs": [
    {
     "name": "stdout",
     "output_type": "stream",
     "text": [
      "Exited\n",
      "0    0.7963\n",
      "1    0.2037\n",
      "Name: proportion, dtype: float64\n"
     ]
    },
    {
     "data": {
      "image/png": "[encoded data removed]",
      "text/plain": [
       "<Figure size 640x480 with 1 Axes>"
      ]
     },
     "metadata": {},
     "output_type": "display_data"
    }
   ],
   "source": [
    "class_frequency = data['Exited'].value_counts(normalize=True)\n",
    "print(class_frequency)\n",
    "class_frequency.plot(kind='bar')\n",
    "plt.title('соотношение значений целевого признака');"
   ]
  },
  {
   "cell_type": "code",
   "execution_count": 24,
   "metadata": {},
   "outputs": [
    {
     "name": "stdout",
     "output_type": "stream",
     "text": [
      "Отрицательных значений 4804\n",
      "\n",
      "Положительных значений 1196\n"
     ]
    }
   ],
   "source": [
    "#Поделим подборку по значению целевого признака.\n",
    "\n",
    "features_zeros = features_train[target_train == 0] \n",
    "target_zeros = target_train[target_train == 0] \n",
    "\n",
    "features_ones = features_train[target_train == 1]\n",
    "target_ones = target_train[target_train == 1]\n",
    "\n",
    "print('Отрицательных значений', target_zeros.shape[0])\n",
    "print()\n",
    "print('Положительных значений', target_ones.shape[0])\n"
   ]
  },
  {
   "cell_type": "markdown",
   "metadata": {},
   "source": [
    "Отрицательные значение встречаются примерно в 4 раза чаще положительных.\n",
    "\n",
    "Попробуем сместить баланс в разные стороны, и посмотрим как это повлияет на показатель моделей.\n",
    "\n",
    "### Уменьшение мажоритарной выборки.\n"
   ]
  },
  {
   "cell_type": "code",
   "execution_count": 25,
   "metadata": {},
   "outputs": [],
   "source": [
    "#Напишем функцию которая принимает на вход массив данных, возвращает обновленные данные в которых реже\n",
    "#встречаются обекты с целевым признаком который приянл отрицательное значение\n",
    "\n",
    "def downsample (features, target, fraction):\n",
    "    #Делим подборку по значению целевого признака\n",
    "    features_zeros = features[target == 0]\n",
    "    features_ones = features[target == 1]\n",
    "    target_zeros = target[target == 0]\n",
    "    target_ones = target[target == 1]\n",
    "    \n",
    "    features_downsamled = pd.concat([features_zeros.sample(frac = fraction, random_state = 12345)] +\n",
    "                                 [features_ones])\n",
    "    target_downsamled = pd.concat([target_zeros.sample(frac = fraction, random_state = 12345)] +\n",
    "                               [target_ones])\n",
    "     \n",
    "    features_downsamled, target_downsampled = shuffle(\n",
    "        features_downsamled, target_downsamled, random_state=12345)\n",
    "    \n",
    "    return features_downsamled, target_downsampled \n",
    "\n",
    "features_downsamled, target_downsampled = downsample(features_train, target_train, 0.25)"
   ]
  },
  {
   "cell_type": "code",
   "execution_count": 26,
   "metadata": {},
   "outputs": [
    {
     "name": "stdout",
     "output_type": "stream",
     "text": [
      "Отрицательных значений 1201\n",
      "\n",
      "Положительных значений 1196\n"
     ]
    }
   ],
   "source": [
    "#проверим количество объектов в урезанной подборке\n",
    "\n",
    "print('Отрицательных значений', len(target_downsampled[target_downsampled == 0]))\n",
    "print()\n",
    "print('Положительных значений', len(target_downsampled[target_downsampled == 1]))\n"
   ]
  },
  {
   "cell_type": "markdown",
   "metadata": {},
   "source": [
    "Функция работает корректно, соотношение выборок изменилось, стало примерно 1:1."
   ]
  },
  {
   "cell_type": "markdown",
   "metadata": {},
   "source": [
    "#### Работа логистической регрессии регрессии при уменьшенном мажоре"
   ]
  },
  {
   "cell_type": "code",
   "execution_count": 27,
   "metadata": {},
   "outputs": [
    {
     "name": "stdout",
     "output_type": "stream",
     "text": [
      "F1 линейной регреессии на отредактированной (уменьшенной) выборке равно 0.4826989619377163\n"
     ]
    }
   ],
   "source": [
    "#Инициируем модель\n",
    "model = LogisticRegression(random_state=12345, solver='liblinear')\n",
    "#Обучаем\n",
    "model.fit(features_downsamled, target_downsampled)\n",
    "#Предсказываем значение целевого признака\n",
    "predicted_valid = model.predict(features_valid)\n",
    "\n",
    "print('F1 линейной регреессии на отредактированной (уменьшенной) выборке равно', f1_score(predicted_valid, target_valid))\n",
    "\n"
   ]
  },
  {
   "cell_type": "markdown",
   "metadata": {},
   "source": [
    "Линейная регерссия на такой выборке показала более лучший результат"
   ]
  },
  {
   "cell_type": "markdown",
   "metadata": {},
   "source": [
    "#### Работа дерева решений при уменьшенном мажоре"
   ]
  },
  {
   "cell_type": "code",
   "execution_count": 28,
   "metadata": {},
   "outputs": [
    {
     "name": "stdout",
     "output_type": "stream",
     "text": [
      "Лучший результа F1 = 0.5959183673469388, показало дерево с глубиной - 5\n"
     ]
    }
   ],
   "source": [
    "#Создадим цикл в котором создадим и обучим модели дерева решений с глубиной от 1 до 15.\n",
    " \n",
    "best_result_tree = 0\n",
    "best_tree = 0\n",
    "\n",
    "for depth in range(1, 15, 1):\n",
    "    model = DecisionTreeClassifier(max_depth = depth, random_state = 12345)\n",
    "    model.fit(features_downsamled, target_downsampled)\n",
    "    predicted_valid = model.predict(features_valid)\n",
    "    f1 = f1_score(predicted_valid, target_valid)\n",
    "    if f1 > best_result_tree:\n",
    "        best_result_tree = f1\n",
    "        best_tree = depth\n",
    "\n",
    "print('Лучший результа F1 = {}, показало дерево с глубиной - {}'.format(best_result_tree, best_tree))\n"
   ]
  },
  {
   "cell_type": "markdown",
   "metadata": {},
   "source": [
    "Было:\n",
    "\n",
    "Лучший результа F1 = 0.567, показало дерево с глубиной - 6\n",
    "\n",
    "Показатель улучшился, то есть модель стала работать корректнее."
   ]
  },
  {
   "cell_type": "markdown",
   "metadata": {},
   "source": [
    "#### Работа леса случайных деревьев при уменьшенном мажоре"
   ]
  },
  {
   "cell_type": "code",
   "execution_count": 29,
   "metadata": {},
   "outputs": [
    {
     "name": "stdout",
     "output_type": "stream",
     "text": [
      "f1 лучшей модели для леса: 0.6096579476861167\n",
      "Глубина для лучшей модели: 4\n",
      "Количество деревьев для лучшей модели: 10\n"
     ]
    }
   ],
   "source": [
    "#Создадим цикл, который подберет модель леса случайных деревьев, который будет подсказывать лучшую модель\n",
    "\n",
    "best_result_forest = 0\n",
    "best_depth_forest = 0\n",
    "best_est = 0\n",
    "dep = 0\n",
    "\n",
    "for est in range(10, 151, 10):\n",
    "    for depth in range (1, 21):\n",
    "        model = RandomForestClassifier(n_estimators = est, max_depth = depth, random_state = 12345)\n",
    "        model.fit(features_downsamled, target_downsampled)\n",
    "        predicted_valid = model.predict(features_valid) \n",
    "        f1 = f1_score(predicted_valid, target_valid)\n",
    "        if f1 > best_result_forest:\n",
    "            best_result_forest = f1\n",
    "            best_depth_forest = depth\n",
    "            best_est = est\n",
    "\n",
    "\n",
    "print('f1 лучшей модели для леса:', best_result_forest)\n",
    "print('Глубина для лучшей модели:', best_depth_forest)\n",
    "print('Количество деревьев для лучшей модели:', best_est)"
   ]
  },
  {
   "cell_type": "markdown",
   "metadata": {},
   "source": [
    "Было:\n",
    "\n",
    "Лучший результат показала модель случайного леса из 10 дерева с глубиной 4, F1 составила 0.61\n",
    "\n",
    "Но выборке с уменьшенным мажором модель обучилась лучше, результат увеличился.\n",
    "\n",
    "Так же эта модель показала лучший результат на данной выборке, сохраним ее для дальнейших исследований."
   ]
  },
  {
   "cell_type": "code",
   "execution_count": 30,
   "metadata": {},
   "outputs": [],
   "source": [
    "best_model_major = RandomForestClassifier(n_estimators = best_est, max_depth = best_depth_forest, random_state = 12345)"
   ]
  },
  {
   "cell_type": "markdown",
   "metadata": {},
   "source": [
    "### Увеличение миноритарной выборки."
   ]
  },
  {
   "cell_type": "code",
   "execution_count": 31,
   "metadata": {},
   "outputs": [],
   "source": [
    "oversample = SMOTE(random_state=12345)\n",
    "features_train_up, target_train_up = oversample.fit_resample(features_train, target_train)"
   ]
  },
  {
   "cell_type": "code",
   "execution_count": 32,
   "metadata": {},
   "outputs": [
    {
     "name": "stdout",
     "output_type": "stream",
     "text": [
      "Отрицательных значений 4804\n",
      "\n",
      "Положительных значений 4804\n"
     ]
    }
   ],
   "source": [
    "print('Отрицательных значений', len(target_train_up[target_train_up == 0]))\n",
    "print()\n",
    "print('Положительных значений', len(target_train_up[target_train_up == 1]))"
   ]
  },
  {
   "cell_type": "markdown",
   "metadata": {},
   "source": [
    "Соотношение положительной и отрицательной выборок 1:1"
   ]
  },
  {
   "cell_type": "markdown",
   "metadata": {},
   "source": [
    "#### Работа логистической регрессии регрессии при увеличенном миноре"
   ]
  },
  {
   "cell_type": "code",
   "execution_count": 33,
   "metadata": {},
   "outputs": [
    {
     "name": "stdout",
     "output_type": "stream",
     "text": [
      "F1 линейной регреессии на отредактированной (увеличенной) выборке равно 0.47685589519650656\n"
     ]
    }
   ],
   "source": [
    "#Инициируем модель\n",
    "model = LogisticRegression(random_state=12345, solver='liblinear')\n",
    "#Обучаем\n",
    "model.fit(features_train_up, target_train_up)\n",
    "#Предсказываем значение целевого признака\n",
    "predicted_valid = model.predict(features_valid)\n",
    "\n",
    "print('F1 линейной регреессии на отредактированной (увеличенной) выборке равно', f1_score(predicted_valid, target_valid))"
   ]
  },
  {
   "cell_type": "markdown",
   "metadata": {},
   "source": [
    "F1 на уменьшенной выборке был 0.482, то  есть была лучше."
   ]
  },
  {
   "cell_type": "markdown",
   "metadata": {},
   "source": [
    "#### Работа дерева решений при увеличенном миноре"
   ]
  },
  {
   "cell_type": "code",
   "execution_count": 34,
   "metadata": {},
   "outputs": [
    {
     "name": "stdout",
     "output_type": "stream",
     "text": [
      "\n",
      "Лучший результат F1 = 0.5681341719077568, показало дерево с глубиной - 5\n"
     ]
    }
   ],
   "source": [
    "#Создадим цикл в котором создадим и обучим модели дерева решений с глубиной от 1 до 15.\n",
    " \n",
    "best_result_tree = 0\n",
    "best_tree = 0\n",
    "\n",
    "for depth in range(1, 15, 1):\n",
    "    model = DecisionTreeClassifier(max_depth = depth, random_state = 12345)\n",
    "    model.fit(features_train_up, target_train_up)\n",
    "    predicted_valid = model.predict(features_valid)\n",
    "    f1 = f1_score(predicted_valid, target_valid)\n",
    "    if f1 > best_result_tree:\n",
    "        best_result_tree = f1\n",
    "        best_tree = depth\n",
    "\n",
    "print()        \n",
    "print('Лучший результат F1 = {}, показало дерево с глубиной - {}'.format(best_result_tree, best_tree))\n"
   ]
  },
  {
   "cell_type": "markdown",
   "metadata": {},
   "source": [
    "Было:\n",
    "\n",
    "на уменьшенной выборке результат был 0.5959.\n",
    "\n",
    "На выборке с увеличенным минором результат стал хуже."
   ]
  },
  {
   "cell_type": "markdown",
   "metadata": {},
   "source": [
    "#### Работа леса случайных деревьев при увеличенном миноре"
   ]
  },
  {
   "cell_type": "code",
   "execution_count": 35,
   "metadata": {},
   "outputs": [
    {
     "name": "stdout",
     "output_type": "stream",
     "text": [
      "f1 лучшей модели для леса: 0.6129753914988815\n",
      "Глубина для лучшей модели: 12\n",
      "Количество деревьев для лучшей модели: 130\n"
     ]
    }
   ],
   "source": [
    "#Создадим цикл, который подберет модель леса случайных деревьев, который будет подсказывать лучшую модель\n",
    "\n",
    "best_result_forest = 0\n",
    "best_depth_forest = 0\n",
    "best_est = 0\n",
    "dep = 0\n",
    "\n",
    "for est in range(10, 151, 10):\n",
    "    for depth in range (1, 21):\n",
    "        model = RandomForestClassifier(n_estimators = est, max_depth = depth, random_state = 12345) \n",
    "        model.fit(features_train_up, target_train_up)\n",
    "        predicted_valid = model.predict(features_valid) \n",
    "        f1 = f1_score(predicted_valid, target_valid)\n",
    "        if f1 > best_result_forest:\n",
    "            best_result_forest = f1\n",
    "            best_depth_forest = depth\n",
    "            best_est = est\n",
    "\n",
    "print('f1 лучшей модели для леса:', best_result_forest)\n",
    "print('Глубина для лучшей модели:', best_depth_forest)\n",
    "print('Количество деревьев для лучшей модели:', best_est)"
   ]
  },
  {
   "cell_type": "markdown",
   "metadata": {},
   "source": [
    "Это показатель самый высокий.\n",
    "\n",
    "Это самая лучшая модель и в этой подборке, и из всех сохраненных ранее, сохраним ее для дальнейшего анализа"
   ]
  },
  {
   "cell_type": "code",
   "execution_count": 36,
   "metadata": {},
   "outputs": [],
   "source": [
    "best_model = RandomForestClassifier(n_estimators = best_est, max_depth = best_depth_forest, random_state = 12345)"
   ]
  },
  {
   "cell_type": "markdown",
   "metadata": {},
   "source": [
    "### Вывод:\n",
    "\n",
    "Показетели f1 на различных выборках c использованием лучших моделей\n",
    "\n",
    "\n",
    "\n",
    "| Модель                     | Несблансированная выборка| Уменьшенный минор | Увеличенный минор |\n",
    "|----------------------------|--------------------------|-------------------|-------------------|\n",
    "| Логистическая регрессия    |          0.32            |       0.483       |       0.476       |\n",
    "| Дерево решений             |          0.568           |       0.5959      |       0.568       |\n",
    "| Лес случайных деревьев     |          0.593           |       0.61        |     **0.613**     |\n",
    "\n",
    "\n",
    "Лучший результат показала модель дерева решений на выборке с уменьшенным минором.\n",
    "\n",
    "\n",
    "Оптимальные гиперпараметры:\n",
    "- Количество деревьев 130\n",
    "- Глубина 12."
   ]
  },
  {
   "cell_type": "markdown",
   "metadata": {},
   "source": [
    "## Тестирование модели"
   ]
  },
  {
   "cell_type": "markdown",
   "metadata": {},
   "source": [
    "### F1 итоговой модели"
   ]
  },
  {
   "cell_type": "code",
   "execution_count": 37,
   "metadata": {},
   "outputs": [
    {
     "data": {
      "text/plain": [
       "0.5937834941050375"
      ]
     },
     "execution_count": 37,
     "metadata": {},
     "output_type": "execute_result"
    }
   ],
   "source": [
    "best_model.fit(features_train_up, target_train_up)\n",
    "predicted_test = best_model.predict(features_test) \n",
    "f1_score(target_test, predicted_test)"
   ]
  },
  {
   "cell_type": "markdown",
   "metadata": {},
   "source": [
    "В первоначальном задании критерий F1 должен был быть не менее 0.59.\n",
    "\n",
    "Созданная модель ему соответсвует."
   ]
  },
  {
   "cell_type": "markdown",
   "metadata": {},
   "source": [
    "Как мы уже писала в постановке задачи, маркетологами было выявлено, что сохранять имеющихся клиентов компании выгоднее, нежели искать новых. То есть нам важно насколько верно наша модель определяет положительные значения целевового признака.\n",
    "\n",
    "Это нам наглядно сможет показать метрика RECALL. Посчитаем этот показатель для нашей модели."
   ]
  },
  {
   "cell_type": "code",
   "execution_count": 38,
   "metadata": {},
   "outputs": [
    {
     "name": "stdout",
     "output_type": "stream",
     "text": [
      "RECALL = 0.6548463356973995\n"
     ]
    }
   ],
   "source": [
    "print('RECALL =', recall_score(target_test, predicted_test))"
   ]
  },
  {
   "cell_type": "markdown",
   "metadata": {},
   "source": [
    "Показатель 0.65 говорит нам о том что из 100 положительных кейсов, мы определили 65.\n"
   ]
  },
  {
   "cell_type": "markdown",
   "metadata": {},
   "source": [
    "### Сравнение с константой моделью\n",
    "\n",
    "Чтобы лучше понять эффективность модели сравним со константной моделью, которая помечает все обьекты как положительные."
   ]
  },
  {
   "cell_type": "code",
   "execution_count": 39,
   "metadata": {},
   "outputs": [
    {
     "name": "stdout",
     "output_type": "stream",
     "text": [
      "F1 константной модели= 0.3491539413949649\n",
      "RECALL константной модели= 0.2115\n"
     ]
    }
   ],
   "source": [
    "#создаем модель, которая все объекты отмечает 1\n",
    "\n",
    "dummy_model = DummyClassifier(strategy='constant', constant=1)\n",
    "dummy_model.fit(features_train, target_train)\n",
    "\n",
    "#высчитываем ее \n",
    "print('F1 константной модели=', f1_score(dummy_model.predict(features_test), target_test))\n",
    "print('RECALL константной модели=', recall_score(dummy_model.predict(features_test), target_test))"
   ]
  },
  {
   "cell_type": "markdown",
   "metadata": {},
   "source": [
    "F1 подобранной модели 0.594, против 0.349 константной.\n",
    "RECALL подобранной модели 0.655, против 0.212 константной.\n",
    "\n",
    "Разница очень существенна."
   ]
  },
  {
   "cell_type": "markdown",
   "metadata": {},
   "source": [
    "### AOC - ROC итоговой модели"
   ]
  },
  {
   "cell_type": "code",
   "execution_count": 40,
   "metadata": {},
   "outputs": [
    {
     "data": {
      "image/png": "[encoded data removed]",
      "text/plain": [
       "<Figure size 640x480 with 1 Axes>"
      ]
     },
     "metadata": {},
     "output_type": "display_data"
    }
   ],
   "source": [
    "#Построим график \n",
    "probabilities_test = best_model.predict_proba(features_test)\n",
    "probabilities_one_test = probabilities_test[:,1]\n",
    "\n",
    "fpr, tpr, tresholds = roc_curve(target_test, probabilities_one_test)\n",
    "\n",
    "plt.figure()\n",
    "\n",
    "plt.plot([0,1], [0,1], linestyle = '--')\n",
    "plt.plot(fpr, tpr)\n",
    "\n",
    "plt.ylabel('True Positove Rate')\n",
    "plt.xlabel('False Positive Rate')\n",
    "plt.title('ROC - кривая');"
   ]
  },
  {
   "cell_type": "markdown",
   "metadata": {},
   "source": [
    "Чтобы понять насколько сильно наша модель находит положительные объекты нариусем кривую ошибок.\n",
    "\n",
    "Пунктиром обозначена кривая ошибок модели которая отвечает случайно. \n",
    "\n",
    "Рыжей линией обозначена кривая ошибок нашей модели. ЧЕм она выше, тем лучше работает наша модель.\n",
    "Чтобы оценить как насколько лучше наша модель, модели которая отвечает случайно, нужно посчитать AOC-ROC.\n"
   ]
  },
  {
   "cell_type": "code",
   "execution_count": 41,
   "metadata": {},
   "outputs": [
    {
     "name": "stdout",
     "output_type": "stream",
     "text": [
      "ROC-AOC для нашей модели 0.8251625389201449\n"
     ]
    }
   ],
   "source": [
    "roc_auc = roc_auc_score(target_test, probabilities_one_test)\n",
    "print('ROC-AOC для нашей модели', roc_auc)"
   ]
  },
  {
   "cell_type": "markdown",
   "metadata": {},
   "source": [
    "Есть гипотеза, что показатель ROC-AUC не сильно реагирует на баланс классов.\n",
    "\n",
    "Проверим ее, сравнив показатели модели подготовленной на выборке без учета дисбаланса, на выборке с с уменьшенным мажором.\n",
    "\n",
    "ROC-AUC подготовленной на выборке с уменьшенным минором, просчитана выше.\n"
   ]
  },
  {
   "cell_type": "code",
   "execution_count": 42,
   "metadata": {
    "scrolled": true
   },
   "outputs": [
    {
     "name": "stdout",
     "output_type": "stream",
     "text": [
      "ROC_AOC для модели подготовленной на несбалансированной выборке 0.8251625389201449\n",
      "ROC_AOC для модели подготовленной на выборке с уменьшенным мажором 0.8251625389201449\n"
     ]
    }
   ],
   "source": [
    "best_model.fit(features_test, target_test)\n",
    "predicted_test_raw = best_model.predict(features_test)\n",
    "prababilites_test_raw = best_model.predict_proba(features_test)\n",
    "probabilities_one_test_raw = probabilities_test[:,1]\n",
    "roc_auc_raw = roc_auc_score(target_test, probabilities_one_test_raw)\n",
    "print('ROC_AOC для модели подготовленной на несбалансированной выборке', roc_auc_raw)\n",
    "best_model.fit(features_downsamled, target_downsampled)\n",
    "predicted_test_major = best_model.predict(features_test)\n",
    "prababilites_test_major = best_model.predict_proba(features_test)\n",
    "probabilities_one_test_major = probabilities_test[:,1]\n",
    "roc_auc_major = roc_auc_score(target_test, probabilities_one_test_major)\n",
    "print('ROC_AOC для модели подготовленной на выборке с уменьшенным мажором', roc_auc_raw)"
   ]
  },
  {
   "cell_type": "markdown",
   "metadata": {},
   "source": [
    "Все 3 показателя идентичны.\n",
    "\n",
    "Гипотеза подтверждена. Баланс классов не оказывает влияние на ROC-AUC."
   ]
  },
  {
   "cell_type": "markdown",
   "metadata": {},
   "source": [
    "### ВЫВОД:\n",
    "\n",
    "В данной работе мы получили данные о клиентах \"Бета-Банка\". \n",
    "\n",
    "Эти данные были в выгружены в датафрейм.\n",
    "\n",
    "Далее мы подготовили их к работе:\n",
    "\n",
    "- Удалили лишние признаки\n",
    "- Обработали пропуски\n",
    "- Провели кодирование категориальных признаков\n",
    "- Выделили цель\n",
    "- Разделили данные на три выборки, тренировочную, валидационную и тестовую.\n",
    "\n",
    "Провели исследование задачи.\n",
    "\n",
    "Создали различные модели для предсказания целевого признака (расторгнет ли клиент длоговор с банком), Вычислили их F1, это показатель качества работы модели.\n",
    "\n",
    "Выявили дисбаланс.\n",
    "\n",
    "Различными способами меняли балас, создавали и тестировали модели на новых выборках. Показатели качества данных моделей свели в итоговую таблицу.\n",
    "\n",
    "Выбрали модель с лучшими показателями, протестировали ее на тестовой выборке. Получили F1 выше заявленного в задании.\n",
    "\n",
    "Построили кривую ошибок для данной модели и вычислили показатель AOC-ROC.\n",
    "\n",
    "Так же исследовали влияние баланса классов на ROC-AUС:\n",
    "\n",
    " Баланс классов на величину ROC-AUC не влияет."
   ]
  },
  {
   "cell_type": "markdown",
   "metadata": {},
   "source": [
    "***[Сылка на работу на Github](https://github.com/MariyaSparta/Beta)***"
   ]
  }
 ],
 "metadata": {
  "ExecuteTimeLog": [
   {
    "duration": 403,
    "start_time": "2023-08-19T17:19:00.059Z"
   },
   {
    "duration": 92,
    "start_time": "2023-08-19T17:19:29.540Z"
   },
   {
    "duration": 12,
    "start_time": "2023-08-19T17:21:31.454Z"
   },
   {
    "duration": 26,
    "start_time": "2023-08-19T17:26:45.901Z"
   },
   {
    "duration": 99,
    "start_time": "2023-08-19T17:28:43.071Z"
   },
   {
    "duration": 5,
    "start_time": "2023-08-19T17:29:14.890Z"
   },
   {
    "duration": 814,
    "start_time": "2023-08-19T17:39:16.130Z"
   },
   {
    "duration": 19,
    "start_time": "2023-08-19T17:39:46.646Z"
   },
   {
    "duration": 9,
    "start_time": "2023-08-19T17:41:42.793Z"
   },
   {
    "duration": 10,
    "start_time": "2023-08-19T18:49:44.974Z"
   },
   {
    "duration": 1399,
    "start_time": "2023-08-23T14:58:47.801Z"
   },
   {
    "duration": 169,
    "start_time": "2023-08-23T14:58:49.205Z"
   },
   {
    "duration": 22,
    "start_time": "2023-08-23T14:58:49.380Z"
   },
   {
    "duration": 16,
    "start_time": "2023-08-23T14:58:49.405Z"
   },
   {
    "duration": 203,
    "start_time": "2023-08-23T15:22:10.689Z"
   },
   {
    "duration": 226,
    "start_time": "2023-08-23T15:22:16.435Z"
   },
   {
    "duration": 216,
    "start_time": "2023-08-23T15:22:36.818Z"
   },
   {
    "duration": 216,
    "start_time": "2023-08-23T15:22:56.388Z"
   },
   {
    "duration": 147,
    "start_time": "2023-08-23T15:23:19.725Z"
   },
   {
    "duration": 14,
    "start_time": "2023-08-23T15:25:06.524Z"
   },
   {
    "duration": 107,
    "start_time": "2023-08-23T15:26:14.141Z"
   },
   {
    "duration": 4,
    "start_time": "2023-08-23T15:30:33.831Z"
   },
   {
    "duration": 149,
    "start_time": "2023-08-23T15:44:17.837Z"
   },
   {
    "duration": 16,
    "start_time": "2023-08-23T15:45:10.442Z"
   },
   {
    "duration": 19,
    "start_time": "2023-08-23T15:45:27.720Z"
   },
   {
    "duration": 13,
    "start_time": "2023-08-23T15:46:05.427Z"
   },
   {
    "duration": 21,
    "start_time": "2023-08-23T15:47:07.744Z"
   },
   {
    "duration": 233,
    "start_time": "2023-08-23T15:47:38.555Z"
   },
   {
    "duration": 214,
    "start_time": "2023-08-23T15:47:44.938Z"
   },
   {
    "duration": 43,
    "start_time": "2023-08-23T15:48:00.228Z"
   },
   {
    "duration": 42,
    "start_time": "2023-08-23T15:48:11.915Z"
   },
   {
    "duration": 5,
    "start_time": "2023-08-23T16:39:12.515Z"
   },
   {
    "duration": 156,
    "start_time": "2023-08-23T16:39:12.523Z"
   },
   {
    "duration": 35,
    "start_time": "2023-08-23T16:39:12.685Z"
   },
   {
    "duration": 37,
    "start_time": "2023-08-23T16:39:12.726Z"
   },
   {
    "duration": 257,
    "start_time": "2023-08-23T16:39:12.769Z"
   },
   {
    "duration": 79,
    "start_time": "2023-08-23T16:39:13.033Z"
   },
   {
    "duration": 156,
    "start_time": "2023-08-23T16:39:13.118Z"
   },
   {
    "duration": 174,
    "start_time": "2023-08-23T16:39:40.135Z"
   },
   {
    "duration": 51,
    "start_time": "2023-08-23T16:59:51.337Z"
   },
   {
    "duration": 34,
    "start_time": "2023-08-23T17:01:16.124Z"
   },
   {
    "duration": 3,
    "start_time": "2023-08-23T17:01:41.936Z"
   },
   {
    "duration": 21,
    "start_time": "2023-08-23T17:04:44.586Z"
   },
   {
    "duration": 20,
    "start_time": "2023-08-23T17:08:11.958Z"
   },
   {
    "duration": 7,
    "start_time": "2023-08-23T17:08:44.571Z"
   },
   {
    "duration": 1139,
    "start_time": "2023-08-24T11:29:47.498Z"
   },
   {
    "duration": 173,
    "start_time": "2023-08-24T11:29:48.639Z"
   },
   {
    "duration": 17,
    "start_time": "2023-08-24T11:29:48.815Z"
   },
   {
    "duration": 28,
    "start_time": "2023-08-24T11:29:48.835Z"
   },
   {
    "duration": 221,
    "start_time": "2023-08-24T11:29:48.865Z"
   },
   {
    "duration": 88,
    "start_time": "2023-08-24T11:29:49.088Z"
   },
   {
    "duration": 234,
    "start_time": "2023-08-24T11:29:49.178Z"
   },
   {
    "duration": 0,
    "start_time": "2023-08-24T11:29:49.414Z"
   },
   {
    "duration": 110,
    "start_time": "2023-08-24T11:30:14.574Z"
   },
   {
    "duration": 3,
    "start_time": "2023-08-24T11:30:18.447Z"
   },
   {
    "duration": 49,
    "start_time": "2023-08-24T11:30:18.452Z"
   },
   {
    "duration": 14,
    "start_time": "2023-08-24T11:30:18.502Z"
   },
   {
    "duration": 19,
    "start_time": "2023-08-24T11:30:18.518Z"
   },
   {
    "duration": 214,
    "start_time": "2023-08-24T11:30:18.539Z"
   },
   {
    "duration": 53,
    "start_time": "2023-08-24T11:30:18.754Z"
   },
   {
    "duration": 107,
    "start_time": "2023-08-24T11:30:18.809Z"
   },
   {
    "duration": 414,
    "start_time": "2023-08-24T11:30:18.918Z"
   },
   {
    "duration": 4,
    "start_time": "2023-08-24T11:50:34.809Z"
   },
   {
    "duration": 52,
    "start_time": "2023-08-24T11:50:34.816Z"
   },
   {
    "duration": 16,
    "start_time": "2023-08-24T11:50:34.870Z"
   },
   {
    "duration": 23,
    "start_time": "2023-08-24T11:50:34.888Z"
   },
   {
    "duration": 214,
    "start_time": "2023-08-24T11:50:34.913Z"
   },
   {
    "duration": 68,
    "start_time": "2023-08-24T11:50:35.129Z"
   },
   {
    "duration": 137,
    "start_time": "2023-08-24T11:50:35.199Z"
   },
   {
    "duration": 440,
    "start_time": "2023-08-24T11:50:35.338Z"
   },
   {
    "duration": 475,
    "start_time": "2023-08-24T11:50:53.257Z"
   },
   {
    "duration": 114,
    "start_time": "2023-08-24T11:55:52.732Z"
   },
   {
    "duration": 45,
    "start_time": "2023-08-24T11:55:56.839Z"
   },
   {
    "duration": 8,
    "start_time": "2023-08-24T12:10:37.352Z"
   },
   {
    "duration": 5,
    "start_time": "2023-08-24T12:10:43.988Z"
   },
   {
    "duration": 54,
    "start_time": "2023-08-24T12:10:43.995Z"
   },
   {
    "duration": 16,
    "start_time": "2023-08-24T12:10:44.052Z"
   },
   {
    "duration": 39,
    "start_time": "2023-08-24T12:10:44.071Z"
   },
   {
    "duration": 33,
    "start_time": "2023-08-24T12:10:44.113Z"
   },
   {
    "duration": 221,
    "start_time": "2023-08-24T12:10:44.150Z"
   },
   {
    "duration": 62,
    "start_time": "2023-08-24T12:10:44.373Z"
   },
   {
    "duration": 128,
    "start_time": "2023-08-24T12:10:44.437Z"
   },
   {
    "duration": 644,
    "start_time": "2023-08-24T12:10:44.567Z"
   },
   {
    "duration": 728,
    "start_time": "2023-08-24T12:11:44.310Z"
   },
   {
    "duration": 4,
    "start_time": "2023-08-24T12:11:53.109Z"
   },
   {
    "duration": 57,
    "start_time": "2023-08-24T12:11:53.115Z"
   },
   {
    "duration": 15,
    "start_time": "2023-08-24T12:11:53.174Z"
   },
   {
    "duration": 41,
    "start_time": "2023-08-24T12:11:53.191Z"
   },
   {
    "duration": 25,
    "start_time": "2023-08-24T12:11:53.235Z"
   },
   {
    "duration": 146,
    "start_time": "2023-08-24T12:11:53.262Z"
   },
   {
    "duration": 209,
    "start_time": "2023-08-24T12:11:53.410Z"
   },
   {
    "duration": 80,
    "start_time": "2023-08-24T12:11:53.621Z"
   },
   {
    "duration": 113,
    "start_time": "2023-08-24T12:11:53.703Z"
   },
   {
    "duration": 490,
    "start_time": "2023-08-24T12:11:53.818Z"
   },
   {
    "duration": 177,
    "start_time": "2023-08-24T12:14:58.254Z"
   },
   {
    "duration": 197,
    "start_time": "2023-08-24T12:17:14.196Z"
   },
   {
    "duration": 4,
    "start_time": "2023-08-24T12:20:55.908Z"
   },
   {
    "duration": 46,
    "start_time": "2023-08-24T12:22:11.954Z"
   },
   {
    "duration": 59,
    "start_time": "2023-08-24T12:22:20.336Z"
   },
   {
    "duration": 45,
    "start_time": "2023-08-24T12:23:10.280Z"
   },
   {
    "duration": 45,
    "start_time": "2023-08-24T12:23:47.917Z"
   },
   {
    "duration": 4,
    "start_time": "2023-08-24T12:23:58.114Z"
   },
   {
    "duration": 51,
    "start_time": "2023-08-24T12:23:58.121Z"
   },
   {
    "duration": 17,
    "start_time": "2023-08-24T12:23:58.174Z"
   },
   {
    "duration": 31,
    "start_time": "2023-08-24T12:23:58.194Z"
   },
   {
    "duration": 14,
    "start_time": "2023-08-24T12:23:58.227Z"
   },
   {
    "duration": 52,
    "start_time": "2023-08-24T12:23:58.243Z"
   },
   {
    "duration": 203,
    "start_time": "2023-08-24T12:23:58.297Z"
   },
   {
    "duration": 70,
    "start_time": "2023-08-24T12:23:58.504Z"
   },
   {
    "duration": 113,
    "start_time": "2023-08-24T12:23:58.577Z"
   },
   {
    "duration": 579,
    "start_time": "2023-08-24T12:23:58.692Z"
   },
   {
    "duration": 580,
    "start_time": "2023-08-24T12:25:15.678Z"
   },
   {
    "duration": 1094,
    "start_time": "2023-08-27T10:12:27.243Z"
   },
   {
    "duration": 94,
    "start_time": "2023-08-27T10:12:28.339Z"
   },
   {
    "duration": 19,
    "start_time": "2023-08-27T10:12:28.435Z"
   },
   {
    "duration": 35,
    "start_time": "2023-08-27T10:12:28.458Z"
   },
   {
    "duration": 29,
    "start_time": "2023-08-27T10:12:28.501Z"
   },
   {
    "duration": 22,
    "start_time": "2023-08-27T10:12:28.532Z"
   },
   {
    "duration": 193,
    "start_time": "2023-08-27T10:12:28.556Z"
   },
   {
    "duration": 55,
    "start_time": "2023-08-27T10:12:28.751Z"
   },
   {
    "duration": 105,
    "start_time": "2023-08-27T10:12:28.807Z"
   },
   {
    "duration": 536,
    "start_time": "2023-08-27T10:12:28.913Z"
   },
   {
    "duration": 115,
    "start_time": "2023-08-27T10:20:38.125Z"
   },
   {
    "duration": 3,
    "start_time": "2023-08-27T10:20:56.626Z"
   },
   {
    "duration": 141,
    "start_time": "2023-08-27T10:35:49.573Z"
   },
   {
    "duration": 256,
    "start_time": "2023-08-27T10:36:08.771Z"
   },
   {
    "duration": 4700,
    "start_time": "2023-08-27T10:36:15.333Z"
   },
   {
    "duration": 4487,
    "start_time": "2023-08-27T10:36:43.504Z"
   },
   {
    "duration": 5046,
    "start_time": "2023-08-27T10:36:58.038Z"
   },
   {
    "duration": 3,
    "start_time": "2023-08-27T10:42:04.163Z"
   },
   {
    "duration": 4227,
    "start_time": "2023-08-27T11:53:45.903Z"
   },
   {
    "duration": 9,
    "start_time": "2023-08-27T11:55:49.001Z"
   },
   {
    "duration": 8,
    "start_time": "2023-08-27T11:56:38.306Z"
   },
   {
    "duration": 22,
    "start_time": "2023-08-27T11:56:41.234Z"
   },
   {
    "duration": 3,
    "start_time": "2023-08-27T11:56:59.698Z"
   },
   {
    "duration": 10,
    "start_time": "2023-08-27T12:11:55.725Z"
   },
   {
    "duration": 238,
    "start_time": "2023-08-27T12:14:07.030Z"
   },
   {
    "duration": 5392,
    "start_time": "2023-08-27T12:14:36.894Z"
   },
   {
    "duration": 5462,
    "start_time": "2023-08-27T12:15:14.360Z"
   },
   {
    "duration": 5430,
    "start_time": "2023-08-27T12:15:44.481Z"
   },
   {
    "duration": 4123,
    "start_time": "2023-08-27T12:17:26.351Z"
   },
   {
    "duration": 4534,
    "start_time": "2023-08-27T12:17:39.751Z"
   },
   {
    "duration": 4359,
    "start_time": "2023-08-27T12:18:30.186Z"
   },
   {
    "duration": 4,
    "start_time": "2023-08-27T12:42:15.430Z"
   },
   {
    "duration": 48,
    "start_time": "2023-08-27T12:42:15.436Z"
   },
   {
    "duration": 12,
    "start_time": "2023-08-27T12:42:15.486Z"
   },
   {
    "duration": 15,
    "start_time": "2023-08-27T12:42:15.500Z"
   },
   {
    "duration": 6,
    "start_time": "2023-08-27T12:42:15.516Z"
   },
   {
    "duration": 7,
    "start_time": "2023-08-27T12:42:15.524Z"
   },
   {
    "duration": 192,
    "start_time": "2023-08-27T12:42:15.533Z"
   },
   {
    "duration": 54,
    "start_time": "2023-08-27T12:42:15.727Z"
   },
   {
    "duration": 83,
    "start_time": "2023-08-27T12:42:15.783Z"
   },
   {
    "duration": 585,
    "start_time": "2023-08-27T12:42:15.868Z"
   },
   {
    "duration": 4275,
    "start_time": "2023-08-27T12:42:16.456Z"
   },
   {
    "duration": 0,
    "start_time": "2023-08-27T12:42:20.732Z"
   },
   {
    "duration": 4166,
    "start_time": "2023-08-27T12:42:28.356Z"
   },
   {
    "duration": 4177,
    "start_time": "2023-08-27T12:42:47.075Z"
   },
   {
    "duration": 5192,
    "start_time": "2023-08-27T12:43:35.816Z"
   },
   {
    "duration": 7177,
    "start_time": "2023-08-27T12:45:27.164Z"
   },
   {
    "duration": 7656,
    "start_time": "2023-08-27T12:46:20.329Z"
   },
   {
    "duration": 5590,
    "start_time": "2023-08-27T12:48:52.316Z"
   },
   {
    "duration": 4,
    "start_time": "2023-08-27T12:55:35.710Z"
   },
   {
    "duration": 660,
    "start_time": "2023-08-27T12:59:28.597Z"
   },
   {
    "duration": 1220,
    "start_time": "2023-08-27T13:00:06.963Z"
   },
   {
    "duration": 2256,
    "start_time": "2023-08-27T13:00:48.488Z"
   },
   {
    "duration": 2276,
    "start_time": "2023-08-27T13:01:13.518Z"
   },
   {
    "duration": 24269,
    "start_time": "2023-08-27T13:02:16.382Z"
   },
   {
    "duration": 6149,
    "start_time": "2023-08-27T13:03:00.221Z"
   },
   {
    "duration": 1359,
    "start_time": "2023-08-27T15:58:16.022Z"
   },
   {
    "duration": 0,
    "start_time": "2023-08-27T15:58:17.384Z"
   },
   {
    "duration": 0,
    "start_time": "2023-08-27T15:58:17.384Z"
   },
   {
    "duration": 0,
    "start_time": "2023-08-27T15:58:17.386Z"
   },
   {
    "duration": 0,
    "start_time": "2023-08-27T15:58:17.387Z"
   },
   {
    "duration": 0,
    "start_time": "2023-08-27T15:58:17.388Z"
   },
   {
    "duration": 0,
    "start_time": "2023-08-27T15:58:17.389Z"
   },
   {
    "duration": 0,
    "start_time": "2023-08-27T15:58:17.390Z"
   },
   {
    "duration": 0,
    "start_time": "2023-08-27T15:58:17.391Z"
   },
   {
    "duration": 0,
    "start_time": "2023-08-27T15:58:17.392Z"
   },
   {
    "duration": 0,
    "start_time": "2023-08-27T15:58:17.394Z"
   },
   {
    "duration": 0,
    "start_time": "2023-08-27T15:58:17.395Z"
   },
   {
    "duration": 0,
    "start_time": "2023-08-27T15:58:17.396Z"
   },
   {
    "duration": 11,
    "start_time": "2023-08-27T15:58:38.670Z"
   },
   {
    "duration": 0,
    "start_time": "2023-08-27T15:58:38.683Z"
   },
   {
    "duration": 0,
    "start_time": "2023-08-27T15:58:38.684Z"
   },
   {
    "duration": 0,
    "start_time": "2023-08-27T15:58:38.685Z"
   },
   {
    "duration": 0,
    "start_time": "2023-08-27T15:58:38.686Z"
   },
   {
    "duration": 0,
    "start_time": "2023-08-27T15:58:38.687Z"
   },
   {
    "duration": 0,
    "start_time": "2023-08-27T15:58:38.689Z"
   },
   {
    "duration": 0,
    "start_time": "2023-08-27T15:58:38.690Z"
   },
   {
    "duration": 0,
    "start_time": "2023-08-27T15:58:38.691Z"
   },
   {
    "duration": 0,
    "start_time": "2023-08-27T15:58:38.692Z"
   },
   {
    "duration": 0,
    "start_time": "2023-08-27T15:58:38.693Z"
   },
   {
    "duration": 0,
    "start_time": "2023-08-27T15:58:38.695Z"
   },
   {
    "duration": 0,
    "start_time": "2023-08-27T15:58:38.697Z"
   },
   {
    "duration": 29,
    "start_time": "2023-08-27T15:59:00.020Z"
   },
   {
    "duration": 4,
    "start_time": "2023-08-27T15:59:03.053Z"
   },
   {
    "duration": 98,
    "start_time": "2023-08-27T15:59:03.059Z"
   },
   {
    "duration": 12,
    "start_time": "2023-08-27T15:59:03.159Z"
   },
   {
    "duration": 33,
    "start_time": "2023-08-27T15:59:03.172Z"
   },
   {
    "duration": 14,
    "start_time": "2023-08-27T15:59:03.207Z"
   },
   {
    "duration": 31,
    "start_time": "2023-08-27T15:59:03.222Z"
   },
   {
    "duration": 205,
    "start_time": "2023-08-27T15:59:03.255Z"
   },
   {
    "duration": 65,
    "start_time": "2023-08-27T15:59:03.462Z"
   },
   {
    "duration": 103,
    "start_time": "2023-08-27T15:59:03.528Z"
   },
   {
    "duration": 499,
    "start_time": "2023-08-27T15:59:03.633Z"
   },
   {
    "duration": 4510,
    "start_time": "2023-08-27T15:59:04.134Z"
   },
   {
    "duration": 7899,
    "start_time": "2023-08-27T15:59:08.646Z"
   },
   {
    "duration": 6093,
    "start_time": "2023-08-27T15:59:16.548Z"
   },
   {
    "duration": 488,
    "start_time": "2023-08-27T16:04:41.492Z"
   },
   {
    "duration": 104,
    "start_time": "2023-08-27T16:33:14.441Z"
   },
   {
    "duration": 3,
    "start_time": "2023-08-27T16:33:21.482Z"
   },
   {
    "duration": 39,
    "start_time": "2023-08-27T16:33:21.487Z"
   },
   {
    "duration": 12,
    "start_time": "2023-08-27T16:33:21.528Z"
   },
   {
    "duration": 13,
    "start_time": "2023-08-27T16:33:21.541Z"
   },
   {
    "duration": 6,
    "start_time": "2023-08-27T16:33:21.556Z"
   },
   {
    "duration": 6,
    "start_time": "2023-08-27T16:33:21.564Z"
   },
   {
    "duration": 208,
    "start_time": "2023-08-27T16:33:21.572Z"
   },
   {
    "duration": 66,
    "start_time": "2023-08-27T16:33:21.782Z"
   },
   {
    "duration": 123,
    "start_time": "2023-08-27T16:33:21.849Z"
   },
   {
    "duration": 449,
    "start_time": "2023-08-27T16:33:21.974Z"
   },
   {
    "duration": 3235,
    "start_time": "2023-08-27T16:33:22.425Z"
   },
   {
    "duration": 6354,
    "start_time": "2023-08-27T16:33:25.662Z"
   },
   {
    "duration": 4685,
    "start_time": "2023-08-27T16:33:32.018Z"
   },
   {
    "duration": 410,
    "start_time": "2023-08-27T16:33:36.706Z"
   },
   {
    "duration": 381,
    "start_time": "2023-08-27T16:35:35.459Z"
   },
   {
    "duration": 5,
    "start_time": "2023-08-27T16:54:52.720Z"
   },
   {
    "duration": 5,
    "start_time": "2023-08-27T16:56:43.740Z"
   },
   {
    "duration": 14,
    "start_time": "2023-08-27T16:57:59.692Z"
   },
   {
    "duration": 564,
    "start_time": "2023-08-27T16:58:05.600Z"
   },
   {
    "duration": 109,
    "start_time": "2023-08-27T16:58:14.338Z"
   },
   {
    "duration": 148,
    "start_time": "2023-08-27T17:00:29.682Z"
   },
   {
    "duration": 105,
    "start_time": "2023-08-27T17:00:36.919Z"
   },
   {
    "duration": 96,
    "start_time": "2023-08-27T17:00:56.329Z"
   },
   {
    "duration": 202,
    "start_time": "2023-08-27T17:05:08.040Z"
   },
   {
    "duration": 124,
    "start_time": "2023-08-27T17:05:22.501Z"
   },
   {
    "duration": 100,
    "start_time": "2023-08-27T17:05:31.024Z"
   },
   {
    "duration": 126,
    "start_time": "2023-08-27T17:05:53.316Z"
   },
   {
    "duration": 128,
    "start_time": "2023-08-27T17:05:58.138Z"
   },
   {
    "duration": 1213,
    "start_time": "2023-08-30T10:44:51.470Z"
   },
   {
    "duration": 162,
    "start_time": "2023-08-30T10:44:52.685Z"
   },
   {
    "duration": 20,
    "start_time": "2023-08-30T10:44:52.849Z"
   },
   {
    "duration": 40,
    "start_time": "2023-08-30T10:44:52.871Z"
   },
   {
    "duration": 6,
    "start_time": "2023-08-30T10:44:52.913Z"
   },
   {
    "duration": 18,
    "start_time": "2023-08-30T10:44:52.921Z"
   },
   {
    "duration": 217,
    "start_time": "2023-08-30T10:44:52.941Z"
   },
   {
    "duration": 71,
    "start_time": "2023-08-30T10:44:53.160Z"
   },
   {
    "duration": 148,
    "start_time": "2023-08-30T10:44:53.234Z"
   },
   {
    "duration": 428,
    "start_time": "2023-08-30T10:44:53.384Z"
   },
   {
    "duration": 3721,
    "start_time": "2023-08-30T10:44:53.813Z"
   },
   {
    "duration": 7434,
    "start_time": "2023-08-30T10:44:57.536Z"
   },
   {
    "duration": 5281,
    "start_time": "2023-08-30T10:45:04.972Z"
   },
   {
    "duration": 604,
    "start_time": "2023-08-30T10:45:10.256Z"
   },
   {
    "duration": 478,
    "start_time": "2023-08-30T10:45:10.862Z"
   },
   {
    "duration": 4,
    "start_time": "2023-08-30T10:45:11.342Z"
   },
   {
    "duration": 164,
    "start_time": "2023-08-30T10:54:42.209Z"
   },
   {
    "duration": 55,
    "start_time": "2023-08-30T10:55:19.234Z"
   },
   {
    "duration": 74,
    "start_time": "2023-08-30T10:56:36.430Z"
   },
   {
    "duration": 77,
    "start_time": "2023-08-30T10:56:44.061Z"
   },
   {
    "duration": 76,
    "start_time": "2023-08-30T10:57:28.116Z"
   },
   {
    "duration": 75,
    "start_time": "2023-08-30T10:58:17.115Z"
   },
   {
    "duration": 4,
    "start_time": "2023-08-30T10:59:22.548Z"
   },
   {
    "duration": 102,
    "start_time": "2023-08-30T10:59:32.086Z"
   },
   {
    "duration": 82,
    "start_time": "2023-08-30T11:01:13.078Z"
   },
   {
    "duration": 87,
    "start_time": "2023-08-30T11:01:35.910Z"
   },
   {
    "duration": 2111,
    "start_time": "2023-08-30T11:02:52.698Z"
   },
   {
    "duration": 4,
    "start_time": "2023-08-30T11:04:13.916Z"
   },
   {
    "duration": 3,
    "start_time": "2023-08-30T11:05:28.200Z"
   },
   {
    "duration": 5,
    "start_time": "2023-08-30T11:07:02.434Z"
   },
   {
    "duration": 75,
    "start_time": "2023-08-30T11:07:02.442Z"
   },
   {
    "duration": 16,
    "start_time": "2023-08-30T11:07:02.519Z"
   },
   {
    "duration": 48,
    "start_time": "2023-08-30T11:07:02.537Z"
   },
   {
    "duration": 40,
    "start_time": "2023-08-30T11:07:02.587Z"
   },
   {
    "duration": 23,
    "start_time": "2023-08-30T11:07:02.628Z"
   },
   {
    "duration": 471,
    "start_time": "2023-08-30T11:07:02.653Z"
   },
   {
    "duration": 76,
    "start_time": "2023-08-30T11:07:03.126Z"
   },
   {
    "duration": 127,
    "start_time": "2023-08-30T11:07:03.204Z"
   },
   {
    "duration": 447,
    "start_time": "2023-08-30T11:07:03.333Z"
   },
   {
    "duration": 3462,
    "start_time": "2023-08-30T11:07:03.868Z"
   },
   {
    "duration": 7257,
    "start_time": "2023-08-30T11:07:07.332Z"
   },
   {
    "duration": 5143,
    "start_time": "2023-08-30T11:07:14.590Z"
   },
   {
    "duration": 116,
    "start_time": "2023-08-30T11:07:19.736Z"
   },
   {
    "duration": 430,
    "start_time": "2023-08-30T11:07:19.854Z"
   },
   {
    "duration": 4,
    "start_time": "2023-08-30T11:07:20.286Z"
   },
   {
    "duration": 38,
    "start_time": "2023-08-30T11:07:20.291Z"
   },
   {
    "duration": 99,
    "start_time": "2023-08-30T11:07:20.331Z"
   },
   {
    "duration": 3,
    "start_time": "2023-08-30T11:07:20.432Z"
   },
   {
    "duration": 31,
    "start_time": "2023-08-30T11:08:40.801Z"
   },
   {
    "duration": 43,
    "start_time": "2023-08-30T11:16:51.608Z"
   },
   {
    "duration": 130,
    "start_time": "2023-08-30T11:18:06.521Z"
   },
   {
    "duration": 32,
    "start_time": "2023-08-30T11:18:27.158Z"
   },
   {
    "duration": 1099,
    "start_time": "2023-08-30T13:39:28.231Z"
   },
   {
    "duration": 4,
    "start_time": "2023-08-30T13:39:36.197Z"
   },
   {
    "duration": 92,
    "start_time": "2023-08-30T13:39:36.203Z"
   },
   {
    "duration": 12,
    "start_time": "2023-08-30T13:39:36.297Z"
   },
   {
    "duration": 38,
    "start_time": "2023-08-30T13:39:36.310Z"
   },
   {
    "duration": 6,
    "start_time": "2023-08-30T13:39:36.350Z"
   },
   {
    "duration": 43,
    "start_time": "2023-08-30T13:39:36.357Z"
   },
   {
    "duration": 205,
    "start_time": "2023-08-30T13:39:36.402Z"
   },
   {
    "duration": 61,
    "start_time": "2023-08-30T13:39:36.609Z"
   },
   {
    "duration": 147,
    "start_time": "2023-08-30T13:39:36.671Z"
   },
   {
    "duration": 615,
    "start_time": "2023-08-30T13:39:36.820Z"
   },
   {
    "duration": 3272,
    "start_time": "2023-08-30T13:39:37.438Z"
   },
   {
    "duration": 6486,
    "start_time": "2023-08-30T13:39:40.712Z"
   },
   {
    "duration": 4517,
    "start_time": "2023-08-30T13:39:47.200Z"
   },
   {
    "duration": 575,
    "start_time": "2023-08-30T13:39:51.720Z"
   },
   {
    "duration": 429,
    "start_time": "2023-08-30T13:39:52.296Z"
   },
   {
    "duration": 34,
    "start_time": "2023-08-30T13:39:52.727Z"
   },
   {
    "duration": 113,
    "start_time": "2023-08-30T13:39:52.763Z"
   },
   {
    "duration": 28,
    "start_time": "2023-08-30T13:39:52.877Z"
   },
   {
    "duration": 3,
    "start_time": "2023-08-30T13:42:37.324Z"
   },
   {
    "duration": 55,
    "start_time": "2023-08-30T13:42:37.329Z"
   },
   {
    "duration": 11,
    "start_time": "2023-08-30T13:42:37.386Z"
   },
   {
    "duration": 34,
    "start_time": "2023-08-30T13:42:37.399Z"
   },
   {
    "duration": 19,
    "start_time": "2023-08-30T13:42:37.435Z"
   },
   {
    "duration": 23,
    "start_time": "2023-08-30T13:42:37.455Z"
   },
   {
    "duration": 184,
    "start_time": "2023-08-30T13:42:37.479Z"
   },
   {
    "duration": 48,
    "start_time": "2023-08-30T13:42:37.664Z"
   },
   {
    "duration": 114,
    "start_time": "2023-08-30T13:42:37.713Z"
   },
   {
    "duration": 405,
    "start_time": "2023-08-30T13:42:37.834Z"
   },
   {
    "duration": 3269,
    "start_time": "2023-08-30T13:42:38.240Z"
   },
   {
    "duration": 6488,
    "start_time": "2023-08-30T13:42:41.511Z"
   },
   {
    "duration": 4562,
    "start_time": "2023-08-30T13:42:48.000Z"
   },
   {
    "duration": 116,
    "start_time": "2023-08-30T13:42:52.564Z"
   },
   {
    "duration": 470,
    "start_time": "2023-08-30T13:42:52.681Z"
   },
   {
    "duration": 35,
    "start_time": "2023-08-30T13:42:53.153Z"
   },
   {
    "duration": 95,
    "start_time": "2023-08-30T13:42:53.189Z"
   },
   {
    "duration": 30,
    "start_time": "2023-08-30T13:42:53.286Z"
   },
   {
    "duration": 4947,
    "start_time": "2023-08-30T13:44:07.954Z"
   },
   {
    "duration": 4,
    "start_time": "2023-08-30T13:44:23.932Z"
   },
   {
    "duration": 52,
    "start_time": "2023-08-30T13:44:23.939Z"
   },
   {
    "duration": 16,
    "start_time": "2023-08-30T13:44:23.993Z"
   },
   {
    "duration": 18,
    "start_time": "2023-08-30T13:44:24.010Z"
   },
   {
    "duration": 15,
    "start_time": "2023-08-30T13:44:24.030Z"
   },
   {
    "duration": 24,
    "start_time": "2023-08-30T13:44:24.047Z"
   },
   {
    "duration": 171,
    "start_time": "2023-08-30T13:44:24.073Z"
   },
   {
    "duration": 47,
    "start_time": "2023-08-30T13:44:24.246Z"
   },
   {
    "duration": 116,
    "start_time": "2023-08-30T13:44:24.295Z"
   },
   {
    "duration": 426,
    "start_time": "2023-08-30T13:44:24.413Z"
   },
   {
    "duration": 3234,
    "start_time": "2023-08-30T13:44:24.840Z"
   },
   {
    "duration": 4968,
    "start_time": "2023-08-30T13:44:28.076Z"
   },
   {
    "duration": 4815,
    "start_time": "2023-08-30T13:44:33.046Z"
   },
   {
    "duration": 109,
    "start_time": "2023-08-30T13:44:37.863Z"
   },
   {
    "duration": 411,
    "start_time": "2023-08-30T13:44:37.974Z"
   },
   {
    "duration": 35,
    "start_time": "2023-08-30T13:44:38.387Z"
   },
   {
    "duration": 90,
    "start_time": "2023-08-30T13:44:38.433Z"
   },
   {
    "duration": 34,
    "start_time": "2023-08-30T13:44:38.525Z"
   },
   {
    "duration": 27600,
    "start_time": "2023-08-30T13:45:17.869Z"
   },
   {
    "duration": 11291,
    "start_time": "2023-08-30T13:46:20.035Z"
   },
   {
    "duration": 4,
    "start_time": "2023-08-30T13:46:51.045Z"
   },
   {
    "duration": 59,
    "start_time": "2023-08-30T13:46:51.052Z"
   },
   {
    "duration": 14,
    "start_time": "2023-08-30T13:46:51.114Z"
   },
   {
    "duration": 24,
    "start_time": "2023-08-30T13:46:51.131Z"
   },
   {
    "duration": 7,
    "start_time": "2023-08-30T13:46:51.157Z"
   },
   {
    "duration": 16,
    "start_time": "2023-08-30T13:46:51.165Z"
   },
   {
    "duration": 171,
    "start_time": "2023-08-30T13:46:51.183Z"
   },
   {
    "duration": 50,
    "start_time": "2023-08-30T13:46:51.356Z"
   },
   {
    "duration": 118,
    "start_time": "2023-08-30T13:46:51.410Z"
   },
   {
    "duration": 405,
    "start_time": "2023-08-30T13:46:51.535Z"
   },
   {
    "duration": 3512,
    "start_time": "2023-08-30T13:46:51.941Z"
   },
   {
    "duration": 11479,
    "start_time": "2023-08-30T13:46:55.455Z"
   },
   {
    "duration": 4702,
    "start_time": "2023-08-30T13:47:06.935Z"
   },
   {
    "duration": 103,
    "start_time": "2023-08-30T13:47:11.639Z"
   },
   {
    "duration": 417,
    "start_time": "2023-08-30T13:47:11.744Z"
   },
   {
    "duration": 33,
    "start_time": "2023-08-30T13:47:12.163Z"
   },
   {
    "duration": 90,
    "start_time": "2023-08-30T13:47:12.198Z"
   },
   {
    "duration": 30,
    "start_time": "2023-08-30T13:47:12.290Z"
   },
   {
    "duration": 448,
    "start_time": "2023-08-30T13:47:44.789Z"
   },
   {
    "duration": 394,
    "start_time": "2023-08-30T13:47:58.489Z"
   },
   {
    "duration": 3155,
    "start_time": "2023-08-30T13:48:39.840Z"
   },
   {
    "duration": 3272,
    "start_time": "2023-08-30T13:49:23.213Z"
   },
   {
    "duration": 3120,
    "start_time": "2023-08-30T13:49:35.687Z"
   },
   {
    "duration": 4890,
    "start_time": "2023-08-30T13:50:14.883Z"
   },
   {
    "duration": 7641,
    "start_time": "2023-08-30T13:50:29.543Z"
   },
   {
    "duration": 10438,
    "start_time": "2023-08-30T13:50:44.687Z"
   },
   {
    "duration": 4,
    "start_time": "2023-08-30T14:15:06.237Z"
   },
   {
    "duration": 60,
    "start_time": "2023-08-30T14:15:06.243Z"
   },
   {
    "duration": 18,
    "start_time": "2023-08-30T14:15:06.304Z"
   },
   {
    "duration": 15,
    "start_time": "2023-08-30T14:15:06.324Z"
   },
   {
    "duration": 57,
    "start_time": "2023-08-30T14:15:06.342Z"
   },
   {
    "duration": 52,
    "start_time": "2023-08-30T14:15:06.401Z"
   },
   {
    "duration": 187,
    "start_time": "2023-08-30T14:15:06.456Z"
   },
   {
    "duration": 44,
    "start_time": "2023-08-30T14:15:06.645Z"
   },
   {
    "duration": 109,
    "start_time": "2023-08-30T14:15:06.691Z"
   },
   {
    "duration": 434,
    "start_time": "2023-08-30T14:15:06.802Z"
   },
   {
    "duration": 10167,
    "start_time": "2023-08-30T14:15:07.239Z"
   },
   {
    "duration": 11151,
    "start_time": "2023-08-30T14:15:17.408Z"
   },
   {
    "duration": 4602,
    "start_time": "2023-08-30T14:15:28.561Z"
   },
   {
    "duration": 123,
    "start_time": "2023-08-30T14:15:33.166Z"
   },
   {
    "duration": 585,
    "start_time": "2023-08-30T14:15:33.290Z"
   },
   {
    "duration": 32,
    "start_time": "2023-08-30T14:15:33.877Z"
   },
   {
    "duration": 90,
    "start_time": "2023-08-30T14:15:33.910Z"
   },
   {
    "duration": 33,
    "start_time": "2023-08-30T14:15:34.002Z"
   },
   {
    "duration": 27439,
    "start_time": "2023-08-30T14:15:38.265Z"
   },
   {
    "duration": 13143,
    "start_time": "2023-08-30T14:16:16.175Z"
   },
   {
    "duration": 4794,
    "start_time": "2023-08-30T14:16:35.457Z"
   },
   {
    "duration": 7067,
    "start_time": "2023-08-30T14:17:08.932Z"
   },
   {
    "duration": 11292,
    "start_time": "2023-08-30T14:17:22.847Z"
   },
   {
    "duration": 11193,
    "start_time": "2023-08-30T14:17:40.640Z"
   },
   {
    "duration": 125,
    "start_time": "2023-08-30T14:19:07.193Z"
   },
   {
    "duration": 11036,
    "start_time": "2023-08-30T14:19:19.173Z"
   },
   {
    "duration": 7369,
    "start_time": "2023-08-30T14:21:05.756Z"
   },
   {
    "duration": 11760,
    "start_time": "2023-08-30T14:21:47.670Z"
   },
   {
    "duration": 13,
    "start_time": "2023-08-30T14:23:46.407Z"
   },
   {
    "duration": 5371,
    "start_time": "2023-08-30T14:26:09.951Z"
   },
   {
    "duration": 4,
    "start_time": "2023-08-30T15:05:23.775Z"
   },
   {
    "duration": 141,
    "start_time": "2023-08-30T15:07:01.790Z"
   },
   {
    "duration": 37,
    "start_time": "2023-08-30T15:07:37.771Z"
   },
   {
    "duration": 492,
    "start_time": "2023-08-30T15:07:52.896Z"
   },
   {
    "duration": 432,
    "start_time": "2023-08-30T15:08:06.310Z"
   },
   {
    "duration": 335,
    "start_time": "2023-08-30T15:13:45.413Z"
   },
   {
    "duration": 2458,
    "start_time": "2023-08-30T15:13:59.790Z"
   },
   {
    "duration": 2306,
    "start_time": "2023-08-30T15:14:31.854Z"
   },
   {
    "duration": 2355,
    "start_time": "2023-08-30T15:14:46.901Z"
   },
   {
    "duration": 5056,
    "start_time": "2023-08-30T15:18:08.858Z"
   },
   {
    "duration": 5097,
    "start_time": "2023-08-30T15:18:27.130Z"
   },
   {
    "duration": 12351,
    "start_time": "2023-08-30T15:18:45.004Z"
   },
   {
    "duration": 12260,
    "start_time": "2023-08-30T15:18:58.254Z"
   },
   {
    "duration": 11958,
    "start_time": "2023-08-30T15:21:53.656Z"
   },
   {
    "duration": 5114,
    "start_time": "2023-08-30T15:22:11.815Z"
   },
   {
    "duration": 5031,
    "start_time": "2023-08-30T15:22:23.913Z"
   },
   {
    "duration": 11824,
    "start_time": "2023-08-30T15:23:21.358Z"
   },
   {
    "duration": 11747,
    "start_time": "2023-08-30T15:23:39.307Z"
   },
   {
    "duration": 12175,
    "start_time": "2023-08-30T15:24:33.316Z"
   },
   {
    "duration": 2,
    "start_time": "2023-08-30T15:26:40.675Z"
   },
   {
    "duration": 11,
    "start_time": "2023-08-30T15:28:53.249Z"
   },
   {
    "duration": 8,
    "start_time": "2023-08-30T15:28:59.896Z"
   },
   {
    "duration": 367,
    "start_time": "2023-08-30T15:30:46.124Z"
   },
   {
    "duration": 397,
    "start_time": "2023-08-30T15:30:54.244Z"
   },
   {
    "duration": 3,
    "start_time": "2023-08-30T15:33:12.135Z"
   },
   {
    "duration": 61,
    "start_time": "2023-08-30T15:33:12.140Z"
   },
   {
    "duration": 11,
    "start_time": "2023-08-30T15:33:12.203Z"
   },
   {
    "duration": 28,
    "start_time": "2023-08-30T15:33:12.215Z"
   },
   {
    "duration": 36,
    "start_time": "2023-08-30T15:33:12.245Z"
   },
   {
    "duration": 18,
    "start_time": "2023-08-30T15:33:12.282Z"
   },
   {
    "duration": 188,
    "start_time": "2023-08-30T15:33:12.301Z"
   },
   {
    "duration": 57,
    "start_time": "2023-08-30T15:33:12.491Z"
   },
   {
    "duration": 102,
    "start_time": "2023-08-30T15:33:12.549Z"
   },
   {
    "duration": 388,
    "start_time": "2023-08-30T15:33:12.653Z"
   },
   {
    "duration": 3200,
    "start_time": "2023-08-30T15:33:13.044Z"
   },
   {
    "duration": 4675,
    "start_time": "2023-08-30T15:33:16.247Z"
   },
   {
    "duration": 10640,
    "start_time": "2023-08-30T15:33:20.923Z"
   },
   {
    "duration": 10809,
    "start_time": "2023-08-30T15:33:31.564Z"
   },
   {
    "duration": 94,
    "start_time": "2023-08-30T15:33:42.375Z"
   },
   {
    "duration": 398,
    "start_time": "2023-08-30T15:33:42.470Z"
   },
   {
    "duration": 31,
    "start_time": "2023-08-30T15:33:42.870Z"
   },
   {
    "duration": 83,
    "start_time": "2023-08-30T15:33:42.903Z"
   },
   {
    "duration": 26,
    "start_time": "2023-08-30T15:33:42.988Z"
   },
   {
    "duration": 392,
    "start_time": "2023-08-30T15:33:43.016Z"
   },
   {
    "duration": 4669,
    "start_time": "2023-08-30T15:34:32.508Z"
   },
   {
    "duration": 233,
    "start_time": "2023-08-30T15:35:22.874Z"
   },
   {
    "duration": 4,
    "start_time": "2023-08-30T16:25:23.808Z"
   },
   {
    "duration": 51,
    "start_time": "2023-08-30T16:25:23.813Z"
   },
   {
    "duration": 11,
    "start_time": "2023-08-30T16:25:23.865Z"
   },
   {
    "duration": 21,
    "start_time": "2023-08-30T16:25:23.877Z"
   },
   {
    "duration": 20,
    "start_time": "2023-08-30T16:25:23.900Z"
   },
   {
    "duration": 7,
    "start_time": "2023-08-30T16:25:23.921Z"
   },
   {
    "duration": 173,
    "start_time": "2023-08-30T16:25:23.930Z"
   },
   {
    "duration": 46,
    "start_time": "2023-08-30T16:25:24.105Z"
   },
   {
    "duration": 116,
    "start_time": "2023-08-30T16:25:24.152Z"
   },
   {
    "duration": 475,
    "start_time": "2023-08-30T16:25:24.270Z"
   },
   {
    "duration": 2903,
    "start_time": "2023-08-30T16:25:24.753Z"
   },
   {
    "duration": 5167,
    "start_time": "2023-08-30T16:25:27.659Z"
   },
   {
    "duration": 11197,
    "start_time": "2023-08-30T16:25:32.828Z"
   },
   {
    "duration": 11769,
    "start_time": "2023-08-30T16:25:44.028Z"
   },
   {
    "duration": 117,
    "start_time": "2023-08-30T16:25:55.799Z"
   },
   {
    "duration": 412,
    "start_time": "2023-08-30T16:25:55.918Z"
   },
   {
    "duration": 48,
    "start_time": "2023-08-30T16:25:56.331Z"
   },
   {
    "duration": 85,
    "start_time": "2023-08-30T16:25:56.381Z"
   },
   {
    "duration": 28,
    "start_time": "2023-08-30T16:25:56.468Z"
   },
   {
    "duration": 298,
    "start_time": "2023-08-30T16:25:56.497Z"
   },
   {
    "duration": 3481,
    "start_time": "2023-08-30T16:26:55.404Z"
   },
   {
    "duration": 3503,
    "start_time": "2023-08-30T16:30:56.604Z"
   },
   {
    "duration": 3566,
    "start_time": "2023-08-30T16:32:30.239Z"
   },
   {
    "duration": 394,
    "start_time": "2023-08-30T16:37:26.966Z"
   },
   {
    "duration": 388,
    "start_time": "2023-08-30T16:37:30.575Z"
   },
   {
    "duration": 286,
    "start_time": "2023-08-30T16:37:48.727Z"
   },
   {
    "duration": 10549,
    "start_time": "2023-08-30T16:44:20.014Z"
   },
   {
    "duration": 44113,
    "start_time": "2023-08-30T16:44:37.660Z"
   },
   {
    "duration": 4,
    "start_time": "2023-08-30T16:47:37.531Z"
   },
   {
    "duration": 39,
    "start_time": "2023-08-30T16:47:37.537Z"
   },
   {
    "duration": 12,
    "start_time": "2023-08-30T16:47:37.578Z"
   },
   {
    "duration": 13,
    "start_time": "2023-08-30T16:47:37.592Z"
   },
   {
    "duration": 10,
    "start_time": "2023-08-30T16:47:37.607Z"
   },
   {
    "duration": 15,
    "start_time": "2023-08-30T16:47:37.619Z"
   },
   {
    "duration": 166,
    "start_time": "2023-08-30T16:47:37.636Z"
   },
   {
    "duration": 53,
    "start_time": "2023-08-30T16:47:37.803Z"
   },
   {
    "duration": 105,
    "start_time": "2023-08-30T16:47:37.858Z"
   },
   {
    "duration": 395,
    "start_time": "2023-08-30T16:47:37.964Z"
   },
   {
    "duration": 3200,
    "start_time": "2023-08-30T16:47:38.361Z"
   },
   {
    "duration": 4851,
    "start_time": "2023-08-30T16:47:41.635Z"
   },
   {
    "duration": 10748,
    "start_time": "2023-08-30T16:47:46.488Z"
   },
   {
    "duration": 11049,
    "start_time": "2023-08-30T16:47:57.238Z"
   },
   {
    "duration": 96,
    "start_time": "2023-08-30T16:48:08.289Z"
   },
   {
    "duration": 383,
    "start_time": "2023-08-30T16:48:08.386Z"
   },
   {
    "duration": 31,
    "start_time": "2023-08-30T16:48:08.771Z"
   },
   {
    "duration": 83,
    "start_time": "2023-08-30T16:48:08.804Z"
   },
   {
    "duration": 27,
    "start_time": "2023-08-30T16:48:08.889Z"
   },
   {
    "duration": 270,
    "start_time": "2023-08-30T16:48:08.918Z"
   },
   {
    "duration": 3283,
    "start_time": "2023-08-30T16:48:09.189Z"
   },
   {
    "duration": 286,
    "start_time": "2023-08-30T16:48:12.473Z"
   },
   {
    "duration": 97,
    "start_time": "2023-08-30T17:00:12.783Z"
   },
   {
    "duration": 4,
    "start_time": "2023-08-30T17:07:06.979Z"
   },
   {
    "duration": 50,
    "start_time": "2023-08-30T17:07:06.985Z"
   },
   {
    "duration": 15,
    "start_time": "2023-08-30T17:07:07.036Z"
   },
   {
    "duration": 13,
    "start_time": "2023-08-30T17:07:07.053Z"
   },
   {
    "duration": 15,
    "start_time": "2023-08-30T17:07:07.068Z"
   },
   {
    "duration": 10,
    "start_time": "2023-08-30T17:07:07.085Z"
   },
   {
    "duration": 179,
    "start_time": "2023-08-30T17:07:07.097Z"
   },
   {
    "duration": 42,
    "start_time": "2023-08-30T17:07:07.278Z"
   },
   {
    "duration": 104,
    "start_time": "2023-08-30T17:07:07.322Z"
   },
   {
    "duration": 411,
    "start_time": "2023-08-30T17:07:07.434Z"
   },
   {
    "duration": 3117,
    "start_time": "2023-08-30T17:07:07.937Z"
   },
   {
    "duration": 5042,
    "start_time": "2023-08-30T17:07:11.056Z"
   },
   {
    "duration": 85,
    "start_time": "2023-08-30T17:07:16.100Z"
   },
   {
    "duration": 0,
    "start_time": "2023-08-30T17:07:16.187Z"
   },
   {
    "duration": 0,
    "start_time": "2023-08-30T17:07:16.189Z"
   },
   {
    "duration": 0,
    "start_time": "2023-08-30T17:07:16.190Z"
   },
   {
    "duration": 0,
    "start_time": "2023-08-30T17:07:16.191Z"
   },
   {
    "duration": 0,
    "start_time": "2023-08-30T17:07:16.192Z"
   },
   {
    "duration": 0,
    "start_time": "2023-08-30T17:07:16.194Z"
   },
   {
    "duration": 0,
    "start_time": "2023-08-30T17:07:16.195Z"
   },
   {
    "duration": 0,
    "start_time": "2023-08-30T17:07:16.196Z"
   },
   {
    "duration": 114,
    "start_time": "2023-08-30T17:07:49.035Z"
   },
   {
    "duration": 72203,
    "start_time": "2023-08-30T17:08:03.560Z"
   },
   {
    "duration": 28198,
    "start_time": "2023-08-30T17:09:23.956Z"
   },
   {
    "duration": 3,
    "start_time": "2023-08-30T17:27:30.522Z"
   },
   {
    "duration": 36,
    "start_time": "2023-08-30T17:27:32.861Z"
   },
   {
    "duration": 10,
    "start_time": "2023-08-30T17:27:34.750Z"
   },
   {
    "duration": 13,
    "start_time": "2023-08-30T17:27:38.437Z"
   },
   {
    "duration": 11,
    "start_time": "2023-08-30T17:27:42.659Z"
   },
   {
    "duration": 4,
    "start_time": "2023-08-30T17:28:01.849Z"
   },
   {
    "duration": 5,
    "start_time": "2023-08-30T17:28:18.841Z"
   },
   {
    "duration": 7,
    "start_time": "2023-08-30T17:28:22.170Z"
   },
   {
    "duration": 10,
    "start_time": "2023-08-30T17:28:25.331Z"
   },
   {
    "duration": 23,
    "start_time": "2023-08-30T17:28:30.675Z"
   },
   {
    "duration": 10,
    "start_time": "2023-08-30T17:28:46.260Z"
   },
   {
    "duration": 17,
    "start_time": "2023-08-30T17:28:58.403Z"
   },
   {
    "duration": 9,
    "start_time": "2023-08-30T17:29:09.071Z"
   },
   {
    "duration": 11,
    "start_time": "2023-08-30T17:30:30.362Z"
   },
   {
    "duration": 5,
    "start_time": "2023-08-30T17:35:07.839Z"
   },
   {
    "duration": 7,
    "start_time": "2023-08-30T17:35:12.410Z"
   },
   {
    "duration": 22,
    "start_time": "2023-08-30T17:35:16.559Z"
   },
   {
    "duration": 13,
    "start_time": "2023-08-30T17:35:20.224Z"
   },
   {
    "duration": 25,
    "start_time": "2023-08-30T17:36:07.336Z"
   },
   {
    "duration": 574,
    "start_time": "2023-08-30T17:36:10.370Z"
   },
   {
    "duration": 250,
    "start_time": "2023-08-30T17:40:39.064Z"
   },
   {
    "duration": 11092,
    "start_time": "2023-08-30T17:40:55.535Z"
   },
   {
    "duration": 4,
    "start_time": "2023-08-30T17:48:16.864Z"
   },
   {
    "duration": 79,
    "start_time": "2023-08-30T17:48:16.870Z"
   },
   {
    "duration": 12,
    "start_time": "2023-08-30T17:48:16.950Z"
   },
   {
    "duration": 14,
    "start_time": "2023-08-30T17:48:16.965Z"
   },
   {
    "duration": 10,
    "start_time": "2023-08-30T17:48:16.981Z"
   },
   {
    "duration": 22,
    "start_time": "2023-08-30T17:48:16.993Z"
   },
   {
    "duration": 18,
    "start_time": "2023-08-30T17:48:17.017Z"
   },
   {
    "duration": 9,
    "start_time": "2023-08-30T17:48:17.037Z"
   },
   {
    "duration": 11,
    "start_time": "2023-08-30T17:48:17.049Z"
   },
   {
    "duration": 25,
    "start_time": "2023-08-30T17:48:17.062Z"
   },
   {
    "duration": 55,
    "start_time": "2023-08-30T17:48:17.089Z"
   },
   {
    "duration": 88,
    "start_time": "2023-08-30T17:48:17.146Z"
   },
   {
    "duration": 901,
    "start_time": "2023-08-30T17:48:17.236Z"
   },
   {
    "duration": 361,
    "start_time": "2023-08-30T17:48:18.139Z"
   },
   {
    "duration": 11027,
    "start_time": "2023-08-30T17:48:18.501Z"
   },
   {
    "duration": 109,
    "start_time": "2023-08-30T17:48:29.530Z"
   },
   {
    "duration": 28,
    "start_time": "2023-08-30T17:48:29.640Z"
   },
   {
    "duration": 7,
    "start_time": "2023-08-30T17:48:29.670Z"
   },
   {
    "duration": 16,
    "start_time": "2023-08-30T17:48:29.679Z"
   },
   {
    "duration": 8,
    "start_time": "2023-08-30T17:48:29.696Z"
   },
   {
    "duration": 227,
    "start_time": "2023-08-30T17:48:29.734Z"
   },
   {
    "duration": 22,
    "start_time": "2023-08-30T17:48:29.962Z"
   },
   {
    "duration": 10,
    "start_time": "2023-08-30T18:01:22.701Z"
   },
   {
    "duration": 4,
    "start_time": "2023-08-30T18:05:32.243Z"
   },
   {
    "duration": 22,
    "start_time": "2023-08-30T18:06:45.908Z"
   },
   {
    "duration": 17,
    "start_time": "2023-08-30T18:06:53.494Z"
   },
   {
    "duration": 11,
    "start_time": "2023-08-30T18:08:16.595Z"
   },
   {
    "duration": 7,
    "start_time": "2023-08-30T18:08:20.494Z"
   },
   {
    "duration": 3,
    "start_time": "2023-08-30T18:08:37.508Z"
   },
   {
    "duration": 41,
    "start_time": "2023-08-30T18:08:37.513Z"
   },
   {
    "duration": 11,
    "start_time": "2023-08-30T18:08:37.556Z"
   },
   {
    "duration": 18,
    "start_time": "2023-08-30T18:08:37.568Z"
   },
   {
    "duration": 5,
    "start_time": "2023-08-30T18:08:37.588Z"
   },
   {
    "duration": 29,
    "start_time": "2023-08-30T18:08:37.595Z"
   },
   {
    "duration": 5,
    "start_time": "2023-08-30T18:08:37.626Z"
   },
   {
    "duration": 11,
    "start_time": "2023-08-30T18:08:37.633Z"
   },
   {
    "duration": 12,
    "start_time": "2023-08-30T18:08:37.645Z"
   },
   {
    "duration": 28,
    "start_time": "2023-08-30T18:08:37.658Z"
   },
   {
    "duration": 10,
    "start_time": "2023-08-30T18:08:37.687Z"
   },
   {
    "duration": 44,
    "start_time": "2023-08-30T18:08:37.698Z"
   },
   {
    "duration": 791,
    "start_time": "2023-08-30T18:08:37.744Z"
   },
   {
    "duration": 368,
    "start_time": "2023-08-30T18:08:38.539Z"
   },
   {
    "duration": 10943,
    "start_time": "2023-08-30T18:08:38.909Z"
   },
   {
    "duration": 123,
    "start_time": "2023-08-30T18:08:49.853Z"
   },
   {
    "duration": 8,
    "start_time": "2023-08-30T18:08:49.978Z"
   },
   {
    "duration": 22,
    "start_time": "2023-08-30T18:08:49.988Z"
   },
   {
    "duration": 26,
    "start_time": "2023-08-30T18:08:50.012Z"
   },
   {
    "duration": 231,
    "start_time": "2023-08-30T18:08:50.040Z"
   },
   {
    "duration": 21,
    "start_time": "2023-08-30T18:08:50.273Z"
   },
   {
    "duration": 3,
    "start_time": "2023-08-30T18:45:04.118Z"
   },
   {
    "duration": 45,
    "start_time": "2023-08-30T18:45:04.123Z"
   },
   {
    "duration": 11,
    "start_time": "2023-08-30T18:45:04.169Z"
   },
   {
    "duration": 24,
    "start_time": "2023-08-30T18:45:04.182Z"
   },
   {
    "duration": 21,
    "start_time": "2023-08-30T18:45:04.208Z"
   },
   {
    "duration": 37,
    "start_time": "2023-08-30T18:45:04.230Z"
   },
   {
    "duration": 29,
    "start_time": "2023-08-30T18:45:04.269Z"
   },
   {
    "duration": 20,
    "start_time": "2023-08-30T18:45:04.300Z"
   },
   {
    "duration": 28,
    "start_time": "2023-08-30T18:45:04.322Z"
   },
   {
    "duration": 38,
    "start_time": "2023-08-30T18:45:04.352Z"
   },
   {
    "duration": 15,
    "start_time": "2023-08-30T18:45:04.394Z"
   },
   {
    "duration": 31,
    "start_time": "2023-08-30T18:45:04.411Z"
   },
   {
    "duration": 698,
    "start_time": "2023-08-30T18:45:04.444Z"
   },
   {
    "duration": 463,
    "start_time": "2023-08-30T18:45:05.144Z"
   },
   {
    "duration": 10723,
    "start_time": "2023-08-30T18:45:05.609Z"
   },
   {
    "duration": 110,
    "start_time": "2023-08-30T18:45:16.333Z"
   },
   {
    "duration": 7,
    "start_time": "2023-08-30T18:45:16.445Z"
   },
   {
    "duration": 11,
    "start_time": "2023-08-30T18:45:16.454Z"
   },
   {
    "duration": 32,
    "start_time": "2023-08-30T18:45:16.466Z"
   },
   {
    "duration": 206,
    "start_time": "2023-08-30T18:45:16.500Z"
   },
   {
    "duration": 31,
    "start_time": "2023-08-30T18:45:16.708Z"
   },
   {
    "duration": 7,
    "start_time": "2023-08-30T18:47:35.212Z"
   },
   {
    "duration": 11,
    "start_time": "2023-08-30T18:50:00.598Z"
   },
   {
    "duration": 18,
    "start_time": "2023-08-30T18:52:56.597Z"
   },
   {
    "duration": 10,
    "start_time": "2023-08-30T18:57:17.610Z"
   },
   {
    "duration": 7,
    "start_time": "2023-08-30T18:57:23.601Z"
   },
   {
    "duration": 7,
    "start_time": "2023-08-30T18:58:25.356Z"
   },
   {
    "duration": 1336,
    "start_time": "2023-08-31T12:21:34.879Z"
   },
   {
    "duration": 87,
    "start_time": "2023-08-31T12:21:36.217Z"
   },
   {
    "duration": 13,
    "start_time": "2023-08-31T12:21:36.306Z"
   },
   {
    "duration": 45,
    "start_time": "2023-08-31T12:21:36.321Z"
   },
   {
    "duration": 20,
    "start_time": "2023-08-31T12:21:36.369Z"
   },
   {
    "duration": 54,
    "start_time": "2023-08-31T12:21:36.391Z"
   },
   {
    "duration": 23,
    "start_time": "2023-08-31T12:21:36.447Z"
   },
   {
    "duration": 37,
    "start_time": "2023-08-31T12:21:36.472Z"
   },
   {
    "duration": 46,
    "start_time": "2023-08-31T12:21:36.512Z"
   },
   {
    "duration": 39,
    "start_time": "2023-08-31T12:21:36.560Z"
   },
   {
    "duration": 27,
    "start_time": "2023-08-31T12:21:36.601Z"
   },
   {
    "duration": 53,
    "start_time": "2023-08-31T12:21:36.630Z"
   },
   {
    "duration": 902,
    "start_time": "2023-08-31T12:21:36.708Z"
   },
   {
    "duration": 419,
    "start_time": "2023-08-31T12:21:37.615Z"
   },
   {
    "duration": 13604,
    "start_time": "2023-08-31T12:21:38.036Z"
   },
   {
    "duration": 720,
    "start_time": "2023-08-31T12:21:51.642Z"
   },
   {
    "duration": 10,
    "start_time": "2023-08-31T12:21:52.365Z"
   },
   {
    "duration": 34,
    "start_time": "2023-08-31T12:21:52.377Z"
   },
   {
    "duration": 13,
    "start_time": "2023-08-31T12:21:52.414Z"
   },
   {
    "duration": 24,
    "start_time": "2023-08-31T12:21:52.430Z"
   },
   {
    "duration": 32,
    "start_time": "2023-08-31T12:21:52.457Z"
   },
   {
    "duration": 163,
    "start_time": "2023-08-31T12:21:52.492Z"
   },
   {
    "duration": 0,
    "start_time": "2023-08-31T12:21:52.657Z"
   },
   {
    "duration": 75,
    "start_time": "2023-08-31T12:27:23.535Z"
   },
   {
    "duration": 1388,
    "start_time": "2023-08-31T12:28:09.621Z"
   },
   {
    "duration": 294,
    "start_time": "2023-08-31T12:30:18.664Z"
   },
   {
    "duration": 13477,
    "start_time": "2023-08-31T12:33:06.492Z"
   },
   {
    "duration": 9407,
    "start_time": "2023-08-31T12:33:23.127Z"
   },
   {
    "duration": 767,
    "start_time": "2023-08-31T12:37:46.647Z"
   },
   {
    "duration": 3,
    "start_time": "2023-08-31T12:38:33.386Z"
   },
   {
    "duration": 3,
    "start_time": "2023-08-31T12:38:45.120Z"
   },
   {
    "duration": 356,
    "start_time": "2023-08-31T12:39:28.942Z"
   },
   {
    "duration": 15109,
    "start_time": "2023-08-31T12:42:41.278Z"
   },
   {
    "duration": 125,
    "start_time": "2023-08-31T12:44:43.520Z"
   },
   {
    "duration": 9,
    "start_time": "2023-08-31T12:59:37.895Z"
   },
   {
    "duration": 28,
    "start_time": "2023-08-31T12:59:43.688Z"
   },
   {
    "duration": 5,
    "start_time": "2023-08-31T13:00:12.627Z"
   },
   {
    "duration": 124,
    "start_time": "2023-08-31T13:00:12.635Z"
   },
   {
    "duration": 14,
    "start_time": "2023-08-31T13:00:12.761Z"
   },
   {
    "duration": 17,
    "start_time": "2023-08-31T13:00:12.777Z"
   },
   {
    "duration": 11,
    "start_time": "2023-08-31T13:00:12.797Z"
   },
   {
    "duration": 18,
    "start_time": "2023-08-31T13:00:12.810Z"
   },
   {
    "duration": 6,
    "start_time": "2023-08-31T13:00:12.830Z"
   },
   {
    "duration": 16,
    "start_time": "2023-08-31T13:00:12.837Z"
   },
   {
    "duration": 11,
    "start_time": "2023-08-31T13:00:12.854Z"
   },
   {
    "duration": 43,
    "start_time": "2023-08-31T13:00:12.867Z"
   },
   {
    "duration": 12,
    "start_time": "2023-08-31T13:00:12.912Z"
   },
   {
    "duration": 23,
    "start_time": "2023-08-31T13:00:12.926Z"
   },
   {
    "duration": 904,
    "start_time": "2023-08-31T13:00:13.011Z"
   },
   {
    "duration": 497,
    "start_time": "2023-08-31T13:00:13.919Z"
   },
   {
    "duration": 13505,
    "start_time": "2023-08-31T13:00:14.418Z"
   },
   {
    "duration": 128,
    "start_time": "2023-08-31T13:00:27.924Z"
   },
   {
    "duration": 8,
    "start_time": "2023-08-31T13:00:28.053Z"
   },
   {
    "duration": 12,
    "start_time": "2023-08-31T13:00:28.063Z"
   },
   {
    "duration": 33,
    "start_time": "2023-08-31T13:00:28.077Z"
   },
   {
    "duration": 1001,
    "start_time": "2023-08-31T13:00:28.112Z"
   },
   {
    "duration": 307,
    "start_time": "2023-08-31T13:00:29.132Z"
   },
   {
    "duration": 9608,
    "start_time": "2023-08-31T13:00:29.440Z"
   },
   {
    "duration": 11,
    "start_time": "2023-08-31T13:00:39.050Z"
   },
   {
    "duration": 14,
    "start_time": "2023-08-31T13:00:39.063Z"
   },
   {
    "duration": 737,
    "start_time": "2023-08-31T13:00:39.078Z"
   },
   {
    "duration": 514,
    "start_time": "2023-08-31T13:00:39.817Z"
   },
   {
    "duration": 15135,
    "start_time": "2023-08-31T13:00:40.333Z"
   },
   {
    "duration": 24,
    "start_time": "2023-08-31T13:00:55.470Z"
   },
   {
    "duration": 423,
    "start_time": "2023-08-31T13:04:14.046Z"
   },
   {
    "duration": 1202,
    "start_time": "2023-08-31T16:11:46.000Z"
   },
   {
    "duration": 82,
    "start_time": "2023-08-31T16:11:47.203Z"
   },
   {
    "duration": 15,
    "start_time": "2023-08-31T16:11:47.287Z"
   },
   {
    "duration": 22,
    "start_time": "2023-08-31T16:11:47.304Z"
   },
   {
    "duration": 4,
    "start_time": "2023-08-31T16:11:47.328Z"
   },
   {
    "duration": 28,
    "start_time": "2023-08-31T16:11:47.334Z"
   },
   {
    "duration": 15,
    "start_time": "2023-08-31T16:11:47.364Z"
   },
   {
    "duration": 30,
    "start_time": "2023-08-31T16:11:47.381Z"
   },
   {
    "duration": 26,
    "start_time": "2023-08-31T16:11:47.413Z"
   },
   {
    "duration": 34,
    "start_time": "2023-08-31T16:11:47.442Z"
   },
   {
    "duration": 13,
    "start_time": "2023-08-31T16:11:47.478Z"
   },
   {
    "duration": 36,
    "start_time": "2023-08-31T16:11:47.493Z"
   },
   {
    "duration": 712,
    "start_time": "2023-08-31T16:11:47.600Z"
   },
   {
    "duration": 502,
    "start_time": "2023-08-31T16:11:48.314Z"
   },
   {
    "duration": 12908,
    "start_time": "2023-08-31T16:11:48.818Z"
   },
   {
    "duration": 665,
    "start_time": "2023-08-31T16:12:01.728Z"
   },
   {
    "duration": 14,
    "start_time": "2023-08-31T16:12:02.395Z"
   },
   {
    "duration": 52,
    "start_time": "2023-08-31T16:12:02.412Z"
   },
   {
    "duration": 40,
    "start_time": "2023-08-31T16:12:02.466Z"
   },
   {
    "duration": 798,
    "start_time": "2023-08-31T16:12:02.508Z"
   },
   {
    "duration": 402,
    "start_time": "2023-08-31T16:12:03.309Z"
   },
   {
    "duration": 9122,
    "start_time": "2023-08-31T16:12:03.712Z"
   },
   {
    "duration": 12,
    "start_time": "2023-08-31T16:12:12.836Z"
   },
   {
    "duration": 16,
    "start_time": "2023-08-31T16:12:12.850Z"
   },
   {
    "duration": 736,
    "start_time": "2023-08-31T16:12:12.868Z"
   },
   {
    "duration": 424,
    "start_time": "2023-08-31T16:12:13.606Z"
   },
   {
    "duration": 14569,
    "start_time": "2023-08-31T16:12:14.032Z"
   },
   {
    "duration": 437,
    "start_time": "2023-08-31T16:12:28.604Z"
   },
   {
    "duration": 4,
    "start_time": "2023-08-31T17:30:20.011Z"
   },
   {
    "duration": 61,
    "start_time": "2023-08-31T17:30:20.017Z"
   },
   {
    "duration": 15,
    "start_time": "2023-08-31T17:30:20.080Z"
   },
   {
    "duration": 41,
    "start_time": "2023-08-31T17:30:20.096Z"
   },
   {
    "duration": 6,
    "start_time": "2023-08-31T17:30:20.139Z"
   },
   {
    "duration": 16,
    "start_time": "2023-08-31T17:30:20.147Z"
   },
   {
    "duration": 14,
    "start_time": "2023-08-31T17:30:20.165Z"
   },
   {
    "duration": 26,
    "start_time": "2023-08-31T17:30:20.181Z"
   },
   {
    "duration": 33,
    "start_time": "2023-08-31T17:30:20.208Z"
   },
   {
    "duration": 28,
    "start_time": "2023-08-31T17:30:20.242Z"
   },
   {
    "duration": 12,
    "start_time": "2023-08-31T17:30:20.271Z"
   },
   {
    "duration": 39,
    "start_time": "2023-08-31T17:30:20.285Z"
   },
   {
    "duration": 904,
    "start_time": "2023-08-31T17:30:20.400Z"
   },
   {
    "duration": 396,
    "start_time": "2023-08-31T17:30:21.309Z"
   },
   {
    "duration": 12742,
    "start_time": "2023-08-31T17:30:21.707Z"
   },
   {
    "duration": 122,
    "start_time": "2023-08-31T17:30:34.450Z"
   },
   {
    "duration": 8,
    "start_time": "2023-08-31T17:30:34.573Z"
   },
   {
    "duration": 23,
    "start_time": "2023-08-31T17:30:34.582Z"
   },
   {
    "duration": 9,
    "start_time": "2023-08-31T17:30:34.607Z"
   },
   {
    "duration": 784,
    "start_time": "2023-08-31T17:30:34.618Z"
   },
   {
    "duration": 308,
    "start_time": "2023-08-31T17:30:35.405Z"
   },
   {
    "duration": 9165,
    "start_time": "2023-08-31T17:30:35.714Z"
   },
   {
    "duration": 20,
    "start_time": "2023-08-31T17:30:44.881Z"
   },
   {
    "duration": 11,
    "start_time": "2023-08-31T17:30:44.903Z"
   },
   {
    "duration": 793,
    "start_time": "2023-08-31T17:30:44.916Z"
   },
   {
    "duration": 461,
    "start_time": "2023-08-31T17:30:45.711Z"
   },
   {
    "duration": 14253,
    "start_time": "2023-08-31T17:30:46.174Z"
   },
   {
    "duration": 480,
    "start_time": "2023-08-31T17:31:00.429Z"
   },
   {
    "duration": 160,
    "start_time": "2023-08-31T17:31:00.910Z"
   },
   {
    "duration": 4,
    "start_time": "2023-08-31T17:31:05.189Z"
   },
   {
    "duration": 50,
    "start_time": "2023-08-31T17:33:26.971Z"
   },
   {
    "duration": 174,
    "start_time": "2023-08-31T17:33:44.227Z"
   },
   {
    "duration": 240,
    "start_time": "2023-08-31T17:34:10.163Z"
   },
   {
    "duration": 166,
    "start_time": "2023-08-31T17:34:33.056Z"
   },
   {
    "duration": 159,
    "start_time": "2023-08-31T17:34:39.144Z"
   },
   {
    "duration": 159,
    "start_time": "2023-08-31T17:35:22.607Z"
   },
   {
    "duration": 175,
    "start_time": "2023-08-31T17:36:36.283Z"
   },
   {
    "duration": 176,
    "start_time": "2023-08-31T17:36:44.043Z"
   },
   {
    "duration": 172,
    "start_time": "2023-08-31T17:36:49.248Z"
   },
   {
    "duration": 11,
    "start_time": "2023-08-31T17:44:09.731Z"
   },
   {
    "duration": 4,
    "start_time": "2023-08-31T17:44:26.851Z"
   },
   {
    "duration": 84,
    "start_time": "2023-08-31T17:47:32.930Z"
   },
   {
    "duration": 12,
    "start_time": "2023-08-31T17:48:04.291Z"
   },
   {
    "duration": 6,
    "start_time": "2023-08-31T17:48:15.212Z"
   },
   {
    "duration": 4,
    "start_time": "2023-08-31T17:54:29.018Z"
   },
   {
    "duration": 90,
    "start_time": "2023-08-31T17:54:41.823Z"
   },
   {
    "duration": 11,
    "start_time": "2023-08-31T17:55:09.705Z"
   },
   {
    "duration": 10,
    "start_time": "2023-08-31T17:55:20.081Z"
   },
   {
    "duration": 5,
    "start_time": "2023-08-31T18:01:44.353Z"
   },
   {
    "duration": 107,
    "start_time": "2023-08-31T18:01:44.360Z"
   },
   {
    "duration": 14,
    "start_time": "2023-08-31T18:01:44.470Z"
   },
   {
    "duration": 31,
    "start_time": "2023-08-31T18:01:44.486Z"
   },
   {
    "duration": 216,
    "start_time": "2023-08-31T18:01:44.523Z"
   },
   {
    "duration": 111,
    "start_time": "2023-08-31T18:01:44.741Z"
   },
   {
    "duration": 14,
    "start_time": "2023-08-31T18:01:44.854Z"
   },
   {
    "duration": 9,
    "start_time": "2023-08-31T18:01:44.871Z"
   },
   {
    "duration": 17,
    "start_time": "2023-08-31T18:01:44.883Z"
   },
   {
    "duration": 52,
    "start_time": "2023-08-31T18:01:44.903Z"
   },
   {
    "duration": 6,
    "start_time": "2023-08-31T18:01:44.957Z"
   },
   {
    "duration": 21,
    "start_time": "2023-08-31T18:01:44.966Z"
   },
   {
    "duration": 149,
    "start_time": "2023-08-31T18:01:44.990Z"
   },
   {
    "duration": 1068,
    "start_time": "2023-08-31T18:01:45.144Z"
   },
   {
    "duration": 455,
    "start_time": "2023-08-31T18:01:46.229Z"
   },
   {
    "duration": 14593,
    "start_time": "2023-08-31T18:01:46.686Z"
   },
   {
    "duration": 147,
    "start_time": "2023-08-31T18:02:01.281Z"
   },
   {
    "duration": 10,
    "start_time": "2023-08-31T18:02:01.431Z"
   },
   {
    "duration": 93,
    "start_time": "2023-08-31T18:02:01.443Z"
   },
   {
    "duration": 46,
    "start_time": "2023-08-31T18:02:01.538Z"
   },
   {
    "duration": 823,
    "start_time": "2023-08-31T18:02:01.586Z"
   },
   {
    "duration": 342,
    "start_time": "2023-08-31T18:02:02.415Z"
   },
   {
    "duration": 10361,
    "start_time": "2023-08-31T18:02:02.759Z"
   },
   {
    "duration": 16,
    "start_time": "2023-08-31T18:02:13.127Z"
   },
   {
    "duration": 16,
    "start_time": "2023-08-31T18:02:13.145Z"
   },
   {
    "duration": 850,
    "start_time": "2023-08-31T18:02:13.163Z"
   },
   {
    "duration": 454,
    "start_time": "2023-08-31T18:02:14.031Z"
   },
   {
    "duration": 16255,
    "start_time": "2023-08-31T18:02:14.488Z"
   },
   {
    "duration": 490,
    "start_time": "2023-08-31T18:02:30.745Z"
   },
   {
    "duration": 198,
    "start_time": "2023-08-31T18:02:31.237Z"
   },
   {
    "duration": 7,
    "start_time": "2023-08-31T18:02:31.437Z"
   },
   {
    "duration": 1705,
    "start_time": "2023-09-03T10:09:04.085Z"
   },
   {
    "duration": 83,
    "start_time": "2023-09-03T10:09:05.793Z"
   },
   {
    "duration": 16,
    "start_time": "2023-09-03T10:09:05.878Z"
   },
   {
    "duration": 19,
    "start_time": "2023-09-03T10:09:05.895Z"
   },
   {
    "duration": 4,
    "start_time": "2023-09-03T10:09:05.916Z"
   },
   {
    "duration": 19,
    "start_time": "2023-09-03T10:09:05.921Z"
   },
   {
    "duration": 9,
    "start_time": "2023-09-03T10:09:05.942Z"
   },
   {
    "duration": 12,
    "start_time": "2023-09-03T10:09:05.954Z"
   },
   {
    "duration": 23,
    "start_time": "2023-09-03T10:09:05.968Z"
   },
   {
    "duration": 30,
    "start_time": "2023-09-03T10:09:05.994Z"
   },
   {
    "duration": 25,
    "start_time": "2023-09-03T10:09:06.025Z"
   },
   {
    "duration": 16,
    "start_time": "2023-09-03T10:09:06.052Z"
   },
   {
    "duration": 81,
    "start_time": "2023-09-03T10:09:06.070Z"
   },
   {
    "duration": 796,
    "start_time": "2023-09-03T10:09:06.154Z"
   },
   {
    "duration": 433,
    "start_time": "2023-09-03T10:09:06.952Z"
   },
   {
    "duration": 14112,
    "start_time": "2023-09-03T10:09:07.387Z"
   },
   {
    "duration": 148,
    "start_time": "2023-09-03T10:09:21.501Z"
   },
   {
    "duration": 12,
    "start_time": "2023-09-03T10:09:21.651Z"
   },
   {
    "duration": 33,
    "start_time": "2023-09-03T10:09:21.665Z"
   },
   {
    "duration": 8,
    "start_time": "2023-09-03T10:09:21.700Z"
   },
   {
    "duration": 746,
    "start_time": "2023-09-03T10:09:21.709Z"
   },
   {
    "duration": 397,
    "start_time": "2023-09-03T10:09:22.462Z"
   },
   {
    "duration": 9972,
    "start_time": "2023-09-03T10:09:22.861Z"
   },
   {
    "duration": 15,
    "start_time": "2023-09-03T10:09:32.834Z"
   },
   {
    "duration": 31,
    "start_time": "2023-09-03T10:09:32.851Z"
   },
   {
    "duration": 863,
    "start_time": "2023-09-03T10:09:32.884Z"
   },
   {
    "duration": 464,
    "start_time": "2023-09-03T10:09:33.750Z"
   },
   {
    "duration": 15853,
    "start_time": "2023-09-03T10:09:34.217Z"
   },
   {
    "duration": 496,
    "start_time": "2023-09-03T10:09:50.072Z"
   },
   {
    "duration": 187,
    "start_time": "2023-09-03T10:09:50.570Z"
   },
   {
    "duration": 7,
    "start_time": "2023-09-03T10:09:50.759Z"
   },
   {
    "duration": 83,
    "start_time": "2023-09-03T10:10:55.493Z"
   },
   {
    "duration": 79,
    "start_time": "2023-09-03T10:11:03.911Z"
   },
   {
    "duration": 85,
    "start_time": "2023-09-03T10:11:33.292Z"
   },
   {
    "duration": 4,
    "start_time": "2023-09-03T10:14:33.471Z"
   },
   {
    "duration": 73,
    "start_time": "2023-09-03T10:14:33.478Z"
   },
   {
    "duration": 13,
    "start_time": "2023-09-03T10:14:33.553Z"
   },
   {
    "duration": 51,
    "start_time": "2023-09-03T10:14:33.568Z"
   },
   {
    "duration": 28,
    "start_time": "2023-09-03T10:14:33.621Z"
   },
   {
    "duration": 52,
    "start_time": "2023-09-03T10:14:33.651Z"
   },
   {
    "duration": 20,
    "start_time": "2023-09-03T10:14:33.705Z"
   },
   {
    "duration": 15,
    "start_time": "2023-09-03T10:14:33.726Z"
   },
   {
    "duration": 94,
    "start_time": "2023-09-03T10:14:33.743Z"
   },
   {
    "duration": 0,
    "start_time": "2023-09-03T10:14:33.839Z"
   },
   {
    "duration": 0,
    "start_time": "2023-09-03T10:14:33.841Z"
   },
   {
    "duration": 0,
    "start_time": "2023-09-03T10:14:33.842Z"
   },
   {
    "duration": 0,
    "start_time": "2023-09-03T10:14:33.843Z"
   },
   {
    "duration": 0,
    "start_time": "2023-09-03T10:14:33.845Z"
   },
   {
    "duration": 0,
    "start_time": "2023-09-03T10:14:33.846Z"
   },
   {
    "duration": 0,
    "start_time": "2023-09-03T10:14:33.847Z"
   },
   {
    "duration": 0,
    "start_time": "2023-09-03T10:14:33.849Z"
   },
   {
    "duration": 0,
    "start_time": "2023-09-03T10:14:33.850Z"
   },
   {
    "duration": 0,
    "start_time": "2023-09-03T10:14:33.852Z"
   },
   {
    "duration": 0,
    "start_time": "2023-09-03T10:14:33.854Z"
   },
   {
    "duration": 0,
    "start_time": "2023-09-03T10:14:33.855Z"
   },
   {
    "duration": 0,
    "start_time": "2023-09-03T10:14:33.856Z"
   },
   {
    "duration": 0,
    "start_time": "2023-09-03T10:14:33.857Z"
   },
   {
    "duration": 0,
    "start_time": "2023-09-03T10:14:33.858Z"
   },
   {
    "duration": 0,
    "start_time": "2023-09-03T10:14:33.859Z"
   },
   {
    "duration": 0,
    "start_time": "2023-09-03T10:14:33.861Z"
   },
   {
    "duration": 0,
    "start_time": "2023-09-03T10:14:33.862Z"
   },
   {
    "duration": 0,
    "start_time": "2023-09-03T10:14:33.864Z"
   },
   {
    "duration": 0,
    "start_time": "2023-09-03T10:14:33.865Z"
   },
   {
    "duration": 0,
    "start_time": "2023-09-03T10:14:33.867Z"
   },
   {
    "duration": 0,
    "start_time": "2023-09-03T10:14:33.868Z"
   },
   {
    "duration": 0,
    "start_time": "2023-09-03T10:14:33.869Z"
   },
   {
    "duration": 8,
    "start_time": "2023-09-03T10:16:32.690Z"
   },
   {
    "duration": 11,
    "start_time": "2023-09-03T10:54:53.601Z"
   },
   {
    "duration": 115,
    "start_time": "2023-09-03T10:55:22.897Z"
   },
   {
    "duration": 11,
    "start_time": "2023-09-03T10:55:35.189Z"
   },
   {
    "duration": 3,
    "start_time": "2023-09-03T10:55:42.020Z"
   },
   {
    "duration": 4,
    "start_time": "2023-09-03T10:56:58.912Z"
   },
   {
    "duration": 10,
    "start_time": "2023-09-03T10:57:57.538Z"
   },
   {
    "duration": 3,
    "start_time": "2023-09-03T10:58:03.457Z"
   },
   {
    "duration": 41,
    "start_time": "2023-09-03T11:00:24.944Z"
   },
   {
    "duration": 12,
    "start_time": "2023-09-03T11:00:29.156Z"
   },
   {
    "duration": 15,
    "start_time": "2023-09-03T11:00:33.515Z"
   },
   {
    "duration": 4,
    "start_time": "2023-09-03T11:00:36.975Z"
   },
   {
    "duration": 11,
    "start_time": "2023-09-03T11:00:40.268Z"
   },
   {
    "duration": 7,
    "start_time": "2023-09-03T11:00:43.572Z"
   },
   {
    "duration": 8,
    "start_time": "2023-09-03T11:00:47.010Z"
   },
   {
    "duration": 27,
    "start_time": "2023-09-03T11:00:49.870Z"
   },
   {
    "duration": 3,
    "start_time": "2023-09-03T11:00:52.070Z"
   },
   {
    "duration": 8,
    "start_time": "2023-09-03T11:01:21.978Z"
   },
   {
    "duration": 14,
    "start_time": "2023-09-03T11:01:37.284Z"
   },
   {
    "duration": 15,
    "start_time": "2023-09-03T11:02:20.508Z"
   },
   {
    "duration": 14,
    "start_time": "2023-09-03T11:02:49.913Z"
   },
   {
    "duration": 93,
    "start_time": "2023-09-03T11:03:17.629Z"
   },
   {
    "duration": 17,
    "start_time": "2023-09-03T11:03:29.061Z"
   },
   {
    "duration": 10203,
    "start_time": "2023-09-03T11:04:16.069Z"
   },
   {
    "duration": 4,
    "start_time": "2023-09-03T11:04:26.275Z"
   },
   {
    "duration": 51,
    "start_time": "2023-09-03T11:04:26.282Z"
   },
   {
    "duration": 14,
    "start_time": "2023-09-03T11:04:26.335Z"
   },
   {
    "duration": 22,
    "start_time": "2023-09-03T11:04:26.351Z"
   },
   {
    "duration": 6,
    "start_time": "2023-09-03T11:04:26.374Z"
   },
   {
    "duration": 13,
    "start_time": "2023-09-03T11:04:26.381Z"
   },
   {
    "duration": 6,
    "start_time": "2023-09-03T11:04:26.396Z"
   },
   {
    "duration": 8,
    "start_time": "2023-09-03T11:04:26.403Z"
   },
   {
    "duration": 42,
    "start_time": "2023-09-03T11:04:26.414Z"
   },
   {
    "duration": 0,
    "start_time": "2023-09-03T11:04:26.457Z"
   },
   {
    "duration": 0,
    "start_time": "2023-09-03T11:04:26.459Z"
   },
   {
    "duration": 0,
    "start_time": "2023-09-03T11:04:26.459Z"
   },
   {
    "duration": 0,
    "start_time": "2023-09-03T11:04:26.461Z"
   },
   {
    "duration": 0,
    "start_time": "2023-09-03T11:04:26.462Z"
   },
   {
    "duration": 0,
    "start_time": "2023-09-03T11:04:26.463Z"
   },
   {
    "duration": 0,
    "start_time": "2023-09-03T11:04:26.464Z"
   },
   {
    "duration": 0,
    "start_time": "2023-09-03T11:04:26.465Z"
   },
   {
    "duration": 0,
    "start_time": "2023-09-03T11:04:26.466Z"
   },
   {
    "duration": 0,
    "start_time": "2023-09-03T11:04:26.468Z"
   },
   {
    "duration": 0,
    "start_time": "2023-09-03T11:04:26.469Z"
   },
   {
    "duration": 0,
    "start_time": "2023-09-03T11:04:26.470Z"
   },
   {
    "duration": 0,
    "start_time": "2023-09-03T11:04:26.471Z"
   },
   {
    "duration": 0,
    "start_time": "2023-09-03T11:04:26.472Z"
   },
   {
    "duration": 0,
    "start_time": "2023-09-03T11:04:26.474Z"
   },
   {
    "duration": 0,
    "start_time": "2023-09-03T11:04:26.475Z"
   },
   {
    "duration": 0,
    "start_time": "2023-09-03T11:04:26.476Z"
   },
   {
    "duration": 0,
    "start_time": "2023-09-03T11:04:26.477Z"
   },
   {
    "duration": 0,
    "start_time": "2023-09-03T11:04:26.479Z"
   },
   {
    "duration": 0,
    "start_time": "2023-09-03T11:04:26.480Z"
   },
   {
    "duration": 0,
    "start_time": "2023-09-03T11:04:26.481Z"
   },
   {
    "duration": 0,
    "start_time": "2023-09-03T11:04:26.482Z"
   },
   {
    "duration": 0,
    "start_time": "2023-09-03T11:04:26.483Z"
   },
   {
    "duration": 12,
    "start_time": "2023-09-03T11:10:09.934Z"
   },
   {
    "duration": 14,
    "start_time": "2023-09-03T11:15:37.066Z"
   },
   {
    "duration": 15,
    "start_time": "2023-09-03T11:15:48.943Z"
   },
   {
    "duration": 13,
    "start_time": "2023-09-03T11:16:40.794Z"
   },
   {
    "duration": 13,
    "start_time": "2023-09-03T11:20:00.298Z"
   },
   {
    "duration": 11,
    "start_time": "2023-09-03T11:26:28.017Z"
   },
   {
    "duration": 7,
    "start_time": "2023-09-03T11:27:54.359Z"
   },
   {
    "duration": 16,
    "start_time": "2023-09-03T11:27:57.561Z"
   },
   {
    "duration": 4,
    "start_time": "2023-09-03T11:45:35.772Z"
   },
   {
    "duration": 6,
    "start_time": "2023-09-03T11:47:48.238Z"
   },
   {
    "duration": 13,
    "start_time": "2023-09-03T11:48:18.804Z"
   },
   {
    "duration": 2747,
    "start_time": "2023-09-03T11:48:29.330Z"
   },
   {
    "duration": 5,
    "start_time": "2023-09-03T11:48:32.081Z"
   },
   {
    "duration": 84,
    "start_time": "2023-09-03T11:48:32.088Z"
   },
   {
    "duration": 21,
    "start_time": "2023-09-03T11:48:32.177Z"
   },
   {
    "duration": 29,
    "start_time": "2023-09-03T11:48:32.201Z"
   },
   {
    "duration": 6,
    "start_time": "2023-09-03T11:48:32.233Z"
   },
   {
    "duration": 19,
    "start_time": "2023-09-03T11:48:32.249Z"
   },
   {
    "duration": 18,
    "start_time": "2023-09-03T11:48:32.274Z"
   },
   {
    "duration": 10,
    "start_time": "2023-09-03T11:48:32.294Z"
   },
   {
    "duration": 14,
    "start_time": "2023-09-03T11:48:32.307Z"
   },
   {
    "duration": 32,
    "start_time": "2023-09-03T11:48:32.323Z"
   },
   {
    "duration": 17,
    "start_time": "2023-09-03T11:48:32.357Z"
   },
   {
    "duration": 20,
    "start_time": "2023-09-03T11:48:32.376Z"
   },
   {
    "duration": 0,
    "start_time": "2023-09-03T11:48:32.398Z"
   },
   {
    "duration": 0,
    "start_time": "2023-09-03T11:48:32.400Z"
   },
   {
    "duration": 0,
    "start_time": "2023-09-03T11:48:32.402Z"
   },
   {
    "duration": 0,
    "start_time": "2023-09-03T11:48:32.403Z"
   },
   {
    "duration": 0,
    "start_time": "2023-09-03T11:48:32.405Z"
   },
   {
    "duration": 0,
    "start_time": "2023-09-03T11:48:32.406Z"
   },
   {
    "duration": 0,
    "start_time": "2023-09-03T11:48:32.407Z"
   },
   {
    "duration": 0,
    "start_time": "2023-09-03T11:48:32.409Z"
   },
   {
    "duration": 0,
    "start_time": "2023-09-03T11:48:32.410Z"
   },
   {
    "duration": 0,
    "start_time": "2023-09-03T11:48:32.412Z"
   },
   {
    "duration": 0,
    "start_time": "2023-09-03T11:48:32.447Z"
   },
   {
    "duration": 0,
    "start_time": "2023-09-03T11:48:32.449Z"
   },
   {
    "duration": 0,
    "start_time": "2023-09-03T11:48:32.450Z"
   },
   {
    "duration": 0,
    "start_time": "2023-09-03T11:48:32.456Z"
   },
   {
    "duration": 0,
    "start_time": "2023-09-03T11:48:32.457Z"
   },
   {
    "duration": 0,
    "start_time": "2023-09-03T11:48:32.459Z"
   },
   {
    "duration": 0,
    "start_time": "2023-09-03T11:48:32.460Z"
   },
   {
    "duration": 0,
    "start_time": "2023-09-03T11:48:32.461Z"
   },
   {
    "duration": 0,
    "start_time": "2023-09-03T11:48:32.463Z"
   },
   {
    "duration": 0,
    "start_time": "2023-09-03T11:48:32.464Z"
   },
   {
    "duration": 16,
    "start_time": "2023-09-03T11:57:32.066Z"
   },
   {
    "duration": 18,
    "start_time": "2023-09-03T12:02:43.013Z"
   },
   {
    "duration": 15,
    "start_time": "2023-09-03T12:03:03.273Z"
   },
   {
    "duration": 11,
    "start_time": "2023-09-03T12:10:19.398Z"
   },
   {
    "duration": 13,
    "start_time": "2023-09-03T12:10:25.766Z"
   },
   {
    "duration": 6,
    "start_time": "2023-09-03T12:10:48.262Z"
   },
   {
    "duration": 4,
    "start_time": "2023-09-03T12:11:03.081Z"
   },
   {
    "duration": 2741,
    "start_time": "2023-09-03T12:11:27.502Z"
   },
   {
    "duration": 6,
    "start_time": "2023-09-03T12:11:30.247Z"
   },
   {
    "duration": 86,
    "start_time": "2023-09-03T12:11:30.255Z"
   },
   {
    "duration": 22,
    "start_time": "2023-09-03T12:11:30.344Z"
   },
   {
    "duration": 30,
    "start_time": "2023-09-03T12:11:30.369Z"
   },
   {
    "duration": 24,
    "start_time": "2023-09-03T12:11:30.402Z"
   },
   {
    "duration": 41,
    "start_time": "2023-09-03T12:11:30.429Z"
   },
   {
    "duration": 16,
    "start_time": "2023-09-03T12:11:30.473Z"
   },
   {
    "duration": 30,
    "start_time": "2023-09-03T12:11:30.491Z"
   },
   {
    "duration": 44,
    "start_time": "2023-09-03T12:11:30.523Z"
   },
   {
    "duration": 64,
    "start_time": "2023-09-03T12:11:30.569Z"
   },
   {
    "duration": 66,
    "start_time": "2023-09-03T12:11:30.635Z"
   },
   {
    "duration": 33,
    "start_time": "2023-09-03T12:11:30.703Z"
   },
   {
    "duration": 57,
    "start_time": "2023-09-03T12:11:30.739Z"
   },
   {
    "duration": 33,
    "start_time": "2023-09-03T12:11:30.798Z"
   },
   {
    "duration": 59,
    "start_time": "2023-09-03T12:11:30.833Z"
   },
   {
    "duration": 1,
    "start_time": "2023-09-03T12:11:30.893Z"
   },
   {
    "duration": 0,
    "start_time": "2023-09-03T12:11:30.895Z"
   },
   {
    "duration": 0,
    "start_time": "2023-09-03T12:11:30.896Z"
   },
   {
    "duration": 0,
    "start_time": "2023-09-03T12:11:30.898Z"
   },
   {
    "duration": 0,
    "start_time": "2023-09-03T12:11:30.899Z"
   },
   {
    "duration": 0,
    "start_time": "2023-09-03T12:11:30.901Z"
   },
   {
    "duration": 1,
    "start_time": "2023-09-03T12:11:30.902Z"
   },
   {
    "duration": 0,
    "start_time": "2023-09-03T12:11:30.904Z"
   },
   {
    "duration": 0,
    "start_time": "2023-09-03T12:11:30.906Z"
   },
   {
    "duration": 0,
    "start_time": "2023-09-03T12:11:30.907Z"
   },
   {
    "duration": 0,
    "start_time": "2023-09-03T12:11:30.909Z"
   },
   {
    "duration": 0,
    "start_time": "2023-09-03T12:11:30.911Z"
   },
   {
    "duration": 0,
    "start_time": "2023-09-03T12:11:30.912Z"
   },
   {
    "duration": 0,
    "start_time": "2023-09-03T12:11:30.914Z"
   },
   {
    "duration": 1,
    "start_time": "2023-09-03T12:11:30.915Z"
   },
   {
    "duration": 0,
    "start_time": "2023-09-03T12:11:30.917Z"
   },
   {
    "duration": 0,
    "start_time": "2023-09-03T12:11:30.918Z"
   },
   {
    "duration": 0,
    "start_time": "2023-09-03T12:11:30.919Z"
   },
   {
    "duration": 0,
    "start_time": "2023-09-03T12:11:30.920Z"
   },
   {
    "duration": 0,
    "start_time": "2023-09-03T12:11:30.922Z"
   },
   {
    "duration": 14,
    "start_time": "2023-09-03T12:12:03.570Z"
   },
   {
    "duration": 10,
    "start_time": "2023-09-03T12:13:10.468Z"
   },
   {
    "duration": 3,
    "start_time": "2023-09-03T12:16:25.688Z"
   },
   {
    "duration": 3,
    "start_time": "2023-09-03T12:16:54.927Z"
   },
   {
    "duration": 2408,
    "start_time": "2023-09-03T12:16:59.605Z"
   },
   {
    "duration": 5,
    "start_time": "2023-09-03T12:17:02.016Z"
   },
   {
    "duration": 199,
    "start_time": "2023-09-03T12:17:02.024Z"
   },
   {
    "duration": 14,
    "start_time": "2023-09-03T12:17:02.225Z"
   },
   {
    "duration": 45,
    "start_time": "2023-09-03T12:17:02.241Z"
   },
   {
    "duration": 63,
    "start_time": "2023-09-03T12:17:02.288Z"
   },
   {
    "duration": 73,
    "start_time": "2023-09-03T12:17:02.353Z"
   },
   {
    "duration": 20,
    "start_time": "2023-09-03T12:17:02.429Z"
   },
   {
    "duration": 22,
    "start_time": "2023-09-03T12:17:02.451Z"
   },
   {
    "duration": 22,
    "start_time": "2023-09-03T12:17:02.475Z"
   },
   {
    "duration": 69,
    "start_time": "2023-09-03T12:17:02.499Z"
   },
   {
    "duration": 25,
    "start_time": "2023-09-03T12:17:02.570Z"
   },
   {
    "duration": 40,
    "start_time": "2023-09-03T12:17:02.598Z"
   },
   {
    "duration": 0,
    "start_time": "2023-09-03T12:17:02.641Z"
   },
   {
    "duration": 0,
    "start_time": "2023-09-03T12:17:02.642Z"
   },
   {
    "duration": 0,
    "start_time": "2023-09-03T12:17:02.644Z"
   },
   {
    "duration": 0,
    "start_time": "2023-09-03T12:17:02.646Z"
   },
   {
    "duration": 0,
    "start_time": "2023-09-03T12:17:02.647Z"
   },
   {
    "duration": 0,
    "start_time": "2023-09-03T12:17:02.649Z"
   },
   {
    "duration": 0,
    "start_time": "2023-09-03T12:17:02.651Z"
   },
   {
    "duration": 0,
    "start_time": "2023-09-03T12:17:02.652Z"
   },
   {
    "duration": 0,
    "start_time": "2023-09-03T12:17:02.654Z"
   },
   {
    "duration": 0,
    "start_time": "2023-09-03T12:17:02.655Z"
   },
   {
    "duration": 0,
    "start_time": "2023-09-03T12:17:02.657Z"
   },
   {
    "duration": 0,
    "start_time": "2023-09-03T12:17:02.659Z"
   },
   {
    "duration": 0,
    "start_time": "2023-09-03T12:17:02.660Z"
   },
   {
    "duration": 0,
    "start_time": "2023-09-03T12:17:02.661Z"
   },
   {
    "duration": 0,
    "start_time": "2023-09-03T12:17:02.663Z"
   },
   {
    "duration": 0,
    "start_time": "2023-09-03T12:17:02.664Z"
   },
   {
    "duration": 0,
    "start_time": "2023-09-03T12:17:02.666Z"
   },
   {
    "duration": 0,
    "start_time": "2023-09-03T12:17:02.667Z"
   },
   {
    "duration": 0,
    "start_time": "2023-09-03T12:17:02.669Z"
   },
   {
    "duration": 0,
    "start_time": "2023-09-03T12:17:02.670Z"
   },
   {
    "duration": 0,
    "start_time": "2023-09-03T12:17:02.672Z"
   },
   {
    "duration": 0,
    "start_time": "2023-09-03T12:17:02.673Z"
   },
   {
    "duration": 15,
    "start_time": "2023-09-03T12:17:23.350Z"
   },
   {
    "duration": 14,
    "start_time": "2023-09-03T12:17:41.841Z"
   },
   {
    "duration": 14,
    "start_time": "2023-09-03T12:18:00.553Z"
   },
   {
    "duration": 2310,
    "start_time": "2023-09-03T13:04:02.271Z"
   },
   {
    "duration": 1242,
    "start_time": "2023-09-03T13:04:04.584Z"
   },
   {
    "duration": 42,
    "start_time": "2023-09-03T13:04:05.828Z"
   },
   {
    "duration": 15,
    "start_time": "2023-09-03T13:04:05.873Z"
   },
   {
    "duration": 23,
    "start_time": "2023-09-03T13:04:05.890Z"
   },
   {
    "duration": 7,
    "start_time": "2023-09-03T13:04:05.915Z"
   },
   {
    "duration": 24,
    "start_time": "2023-09-03T13:04:05.923Z"
   },
   {
    "duration": 12,
    "start_time": "2023-09-03T13:04:05.949Z"
   },
   {
    "duration": 18,
    "start_time": "2023-09-03T13:04:05.962Z"
   },
   {
    "duration": 41,
    "start_time": "2023-09-03T13:04:05.983Z"
   },
   {
    "duration": 31,
    "start_time": "2023-09-03T13:04:06.026Z"
   },
   {
    "duration": 56,
    "start_time": "2023-09-03T13:04:06.059Z"
   },
   {
    "duration": 138,
    "start_time": "2023-09-03T13:04:06.117Z"
   },
   {
    "duration": 0,
    "start_time": "2023-09-03T13:04:06.258Z"
   },
   {
    "duration": 0,
    "start_time": "2023-09-03T13:04:06.259Z"
   },
   {
    "duration": 0,
    "start_time": "2023-09-03T13:04:06.260Z"
   },
   {
    "duration": 0,
    "start_time": "2023-09-03T13:04:06.261Z"
   },
   {
    "duration": 0,
    "start_time": "2023-09-03T13:04:06.262Z"
   },
   {
    "duration": 0,
    "start_time": "2023-09-03T13:04:06.263Z"
   },
   {
    "duration": 0,
    "start_time": "2023-09-03T13:04:06.265Z"
   },
   {
    "duration": 0,
    "start_time": "2023-09-03T13:04:06.266Z"
   },
   {
    "duration": 0,
    "start_time": "2023-09-03T13:04:06.267Z"
   },
   {
    "duration": 0,
    "start_time": "2023-09-03T13:04:06.268Z"
   },
   {
    "duration": 0,
    "start_time": "2023-09-03T13:04:06.269Z"
   },
   {
    "duration": 0,
    "start_time": "2023-09-03T13:04:06.271Z"
   },
   {
    "duration": 0,
    "start_time": "2023-09-03T13:04:06.272Z"
   },
   {
    "duration": 0,
    "start_time": "2023-09-03T13:04:06.273Z"
   },
   {
    "duration": 0,
    "start_time": "2023-09-03T13:04:06.274Z"
   },
   {
    "duration": 0,
    "start_time": "2023-09-03T13:04:06.275Z"
   },
   {
    "duration": 0,
    "start_time": "2023-09-03T13:04:06.276Z"
   },
   {
    "duration": 0,
    "start_time": "2023-09-03T13:04:06.277Z"
   },
   {
    "duration": 0,
    "start_time": "2023-09-03T13:04:06.278Z"
   },
   {
    "duration": 0,
    "start_time": "2023-09-03T13:04:06.279Z"
   },
   {
    "duration": 0,
    "start_time": "2023-09-03T13:04:06.280Z"
   },
   {
    "duration": 0,
    "start_time": "2023-09-03T13:04:06.282Z"
   },
   {
    "duration": 16,
    "start_time": "2023-09-03T13:04:44.606Z"
   },
   {
    "duration": 14,
    "start_time": "2023-09-03T13:04:48.177Z"
   },
   {
    "duration": 10,
    "start_time": "2023-09-03T13:06:33.830Z"
   },
   {
    "duration": 3,
    "start_time": "2023-09-03T13:06:39.569Z"
   },
   {
    "duration": 8,
    "start_time": "2023-09-03T13:08:08.568Z"
   },
   {
    "duration": 3,
    "start_time": "2023-09-03T13:08:31.093Z"
   },
   {
    "duration": 23,
    "start_time": "2023-09-03T13:10:55.409Z"
   },
   {
    "duration": 3,
    "start_time": "2023-09-03T13:10:55.521Z"
   },
   {
    "duration": 2475,
    "start_time": "2023-09-03T13:53:35.689Z"
   },
   {
    "duration": 6,
    "start_time": "2023-09-03T13:53:38.166Z"
   },
   {
    "duration": 45,
    "start_time": "2023-09-03T13:53:38.174Z"
   },
   {
    "duration": 13,
    "start_time": "2023-09-03T13:53:38.222Z"
   },
   {
    "duration": 21,
    "start_time": "2023-09-03T13:53:38.237Z"
   },
   {
    "duration": 5,
    "start_time": "2023-09-03T13:53:38.259Z"
   },
   {
    "duration": 17,
    "start_time": "2023-09-03T13:53:38.265Z"
   },
   {
    "duration": 6,
    "start_time": "2023-09-03T13:53:38.283Z"
   },
   {
    "duration": 9,
    "start_time": "2023-09-03T13:53:38.291Z"
   },
   {
    "duration": 4,
    "start_time": "2023-09-03T13:53:38.303Z"
   },
   {
    "duration": 40,
    "start_time": "2023-09-03T13:53:38.309Z"
   },
   {
    "duration": 16,
    "start_time": "2023-09-03T13:53:38.351Z"
   },
   {
    "duration": 12,
    "start_time": "2023-09-03T13:53:38.373Z"
   },
   {
    "duration": 19,
    "start_time": "2023-09-03T13:53:38.386Z"
   },
   {
    "duration": 0,
    "start_time": "2023-09-03T13:53:38.407Z"
   },
   {
    "duration": 0,
    "start_time": "2023-09-03T13:53:38.409Z"
   },
   {
    "duration": 0,
    "start_time": "2023-09-03T13:53:38.410Z"
   },
   {
    "duration": 0,
    "start_time": "2023-09-03T13:53:38.411Z"
   },
   {
    "duration": 0,
    "start_time": "2023-09-03T13:53:38.412Z"
   },
   {
    "duration": 0,
    "start_time": "2023-09-03T13:53:38.413Z"
   },
   {
    "duration": 0,
    "start_time": "2023-09-03T13:53:38.415Z"
   },
   {
    "duration": 0,
    "start_time": "2023-09-03T13:53:38.416Z"
   },
   {
    "duration": 0,
    "start_time": "2023-09-03T13:53:38.417Z"
   },
   {
    "duration": 0,
    "start_time": "2023-09-03T13:53:38.418Z"
   },
   {
    "duration": 0,
    "start_time": "2023-09-03T13:53:38.419Z"
   },
   {
    "duration": 0,
    "start_time": "2023-09-03T13:53:38.449Z"
   },
   {
    "duration": 0,
    "start_time": "2023-09-03T13:53:38.450Z"
   },
   {
    "duration": 0,
    "start_time": "2023-09-03T13:53:38.451Z"
   },
   {
    "duration": 0,
    "start_time": "2023-09-03T13:53:38.452Z"
   },
   {
    "duration": 0,
    "start_time": "2023-09-03T13:53:38.455Z"
   },
   {
    "duration": 0,
    "start_time": "2023-09-03T13:53:38.456Z"
   },
   {
    "duration": 0,
    "start_time": "2023-09-03T13:53:38.457Z"
   },
   {
    "duration": 0,
    "start_time": "2023-09-03T13:53:38.458Z"
   },
   {
    "duration": 0,
    "start_time": "2023-09-03T13:53:38.460Z"
   },
   {
    "duration": 0,
    "start_time": "2023-09-03T13:53:38.461Z"
   },
   {
    "duration": 0,
    "start_time": "2023-09-03T13:53:38.462Z"
   },
   {
    "duration": 4,
    "start_time": "2023-09-03T13:53:52.415Z"
   },
   {
    "duration": 15,
    "start_time": "2023-09-03T13:56:17.761Z"
   },
   {
    "duration": 17,
    "start_time": "2023-09-03T14:16:19.644Z"
   },
   {
    "duration": 15,
    "start_time": "2023-09-03T14:17:03.258Z"
   },
   {
    "duration": 9,
    "start_time": "2023-09-03T14:17:53.297Z"
   },
   {
    "duration": 14,
    "start_time": "2023-09-03T14:21:53.063Z"
   },
   {
    "duration": 15,
    "start_time": "2023-09-03T14:22:10.119Z"
   },
   {
    "duration": 17,
    "start_time": "2023-09-03T14:22:50.021Z"
   },
   {
    "duration": 11,
    "start_time": "2023-09-03T14:23:12.696Z"
   },
   {
    "duration": 5,
    "start_time": "2023-09-03T14:23:26.816Z"
   },
   {
    "duration": 3,
    "start_time": "2023-09-03T14:25:48.237Z"
   },
   {
    "duration": 9,
    "start_time": "2023-09-03T14:26:29.399Z"
   },
   {
    "duration": 4,
    "start_time": "2023-09-03T14:26:33.064Z"
   },
   {
    "duration": 10,
    "start_time": "2023-09-03T14:26:57.033Z"
   },
   {
    "duration": 11,
    "start_time": "2023-09-03T14:27:05.807Z"
   },
   {
    "duration": 9,
    "start_time": "2023-09-03T14:29:53.593Z"
   },
   {
    "duration": 4,
    "start_time": "2023-09-03T14:29:54.956Z"
   },
   {
    "duration": 8,
    "start_time": "2023-09-03T14:30:13.460Z"
   },
   {
    "duration": 9,
    "start_time": "2023-09-03T14:30:44.312Z"
   },
   {
    "duration": 9,
    "start_time": "2023-09-03T14:30:54.264Z"
   },
   {
    "duration": 11,
    "start_time": "2023-09-03T14:31:04.395Z"
   },
   {
    "duration": 4,
    "start_time": "2023-09-03T14:31:06.179Z"
   },
   {
    "duration": 5,
    "start_time": "2023-09-03T14:31:44.167Z"
   },
   {
    "duration": 9,
    "start_time": "2023-09-03T14:32:00.565Z"
   },
   {
    "duration": 9,
    "start_time": "2023-09-03T14:32:27.506Z"
   },
   {
    "duration": 4,
    "start_time": "2023-09-03T14:32:30.010Z"
   },
   {
    "duration": 5,
    "start_time": "2023-09-03T14:32:35.101Z"
   },
   {
    "duration": 13,
    "start_time": "2023-09-03T14:33:02.159Z"
   },
   {
    "duration": 5,
    "start_time": "2023-09-03T14:33:03.770Z"
   },
   {
    "duration": 11,
    "start_time": "2023-09-03T14:33:55.608Z"
   },
   {
    "duration": 10,
    "start_time": "2023-09-03T14:34:45.585Z"
   },
   {
    "duration": 26,
    "start_time": "2023-09-03T14:35:58.503Z"
   },
   {
    "duration": 40,
    "start_time": "2023-09-03T14:36:18.538Z"
   },
   {
    "duration": 35,
    "start_time": "2023-09-03T14:45:31.650Z"
   },
   {
    "duration": 16,
    "start_time": "2023-09-03T14:46:43.887Z"
   },
   {
    "duration": 6,
    "start_time": "2023-09-03T14:47:23.899Z"
   },
   {
    "duration": 7,
    "start_time": "2023-09-03T14:47:38.095Z"
   },
   {
    "duration": 26,
    "start_time": "2023-09-03T14:48:32.932Z"
   },
   {
    "duration": 6,
    "start_time": "2023-09-03T14:48:40.124Z"
   },
   {
    "duration": 6,
    "start_time": "2023-09-03T14:48:44.745Z"
   },
   {
    "duration": 15,
    "start_time": "2023-09-03T14:49:37.407Z"
   },
   {
    "duration": 15,
    "start_time": "2023-09-03T14:50:44.534Z"
   },
   {
    "duration": 37,
    "start_time": "2023-09-03T14:50:56.284Z"
   },
   {
    "duration": 6,
    "start_time": "2023-09-03T14:51:05.951Z"
   },
   {
    "duration": 22,
    "start_time": "2023-09-03T14:51:38.003Z"
   },
   {
    "duration": 26,
    "start_time": "2023-09-03T14:52:51.672Z"
   },
   {
    "duration": 2391,
    "start_time": "2023-09-03T14:53:08.664Z"
   },
   {
    "duration": 4,
    "start_time": "2023-09-03T14:53:11.058Z"
   },
   {
    "duration": 51,
    "start_time": "2023-09-03T14:53:11.064Z"
   },
   {
    "duration": 14,
    "start_time": "2023-09-03T14:53:11.117Z"
   },
   {
    "duration": 15,
    "start_time": "2023-09-03T14:53:11.132Z"
   },
   {
    "duration": 7,
    "start_time": "2023-09-03T14:53:11.149Z"
   },
   {
    "duration": 13,
    "start_time": "2023-09-03T14:53:11.158Z"
   },
   {
    "duration": 6,
    "start_time": "2023-09-03T14:53:11.173Z"
   },
   {
    "duration": 11,
    "start_time": "2023-09-03T14:53:11.180Z"
   },
   {
    "duration": 5,
    "start_time": "2023-09-03T14:53:11.193Z"
   },
   {
    "duration": 11,
    "start_time": "2023-09-03T14:53:11.199Z"
   },
   {
    "duration": 39,
    "start_time": "2023-09-03T14:53:11.211Z"
   },
   {
    "duration": 42,
    "start_time": "2023-09-03T14:53:11.252Z"
   },
   {
    "duration": 12,
    "start_time": "2023-09-03T14:53:11.297Z"
   },
   {
    "duration": 64,
    "start_time": "2023-09-03T14:53:11.311Z"
   },
   {
    "duration": 25,
    "start_time": "2023-09-03T14:53:11.377Z"
   },
   {
    "duration": 0,
    "start_time": "2023-09-03T14:53:11.404Z"
   },
   {
    "duration": 0,
    "start_time": "2023-09-03T14:53:11.405Z"
   },
   {
    "duration": 0,
    "start_time": "2023-09-03T14:53:11.406Z"
   },
   {
    "duration": 0,
    "start_time": "2023-09-03T14:53:11.407Z"
   },
   {
    "duration": 0,
    "start_time": "2023-09-03T14:53:11.409Z"
   },
   {
    "duration": 0,
    "start_time": "2023-09-03T14:53:11.410Z"
   },
   {
    "duration": 0,
    "start_time": "2023-09-03T14:53:11.411Z"
   },
   {
    "duration": 0,
    "start_time": "2023-09-03T14:53:11.412Z"
   },
   {
    "duration": 0,
    "start_time": "2023-09-03T14:53:11.413Z"
   },
   {
    "duration": 0,
    "start_time": "2023-09-03T14:53:11.414Z"
   },
   {
    "duration": 0,
    "start_time": "2023-09-03T14:53:11.415Z"
   },
   {
    "duration": 0,
    "start_time": "2023-09-03T14:53:11.416Z"
   },
   {
    "duration": 0,
    "start_time": "2023-09-03T14:53:11.417Z"
   },
   {
    "duration": 0,
    "start_time": "2023-09-03T14:53:11.418Z"
   },
   {
    "duration": 0,
    "start_time": "2023-09-03T14:53:11.420Z"
   },
   {
    "duration": 0,
    "start_time": "2023-09-03T14:53:11.421Z"
   },
   {
    "duration": 0,
    "start_time": "2023-09-03T14:53:11.422Z"
   },
   {
    "duration": 0,
    "start_time": "2023-09-03T14:53:11.423Z"
   },
   {
    "duration": 2417,
    "start_time": "2023-09-03T14:58:18.976Z"
   },
   {
    "duration": 5,
    "start_time": "2023-09-03T14:58:21.395Z"
   },
   {
    "duration": 62,
    "start_time": "2023-09-03T14:58:21.401Z"
   },
   {
    "duration": 15,
    "start_time": "2023-09-03T14:58:21.466Z"
   },
   {
    "duration": 23,
    "start_time": "2023-09-03T14:58:21.482Z"
   },
   {
    "duration": 11,
    "start_time": "2023-09-03T14:58:21.506Z"
   },
   {
    "duration": 37,
    "start_time": "2023-09-03T14:58:21.518Z"
   },
   {
    "duration": 13,
    "start_time": "2023-09-03T14:58:21.558Z"
   },
   {
    "duration": 44,
    "start_time": "2023-09-03T14:58:21.574Z"
   },
   {
    "duration": 27,
    "start_time": "2023-09-03T14:58:21.621Z"
   },
   {
    "duration": 35,
    "start_time": "2023-09-03T14:58:21.650Z"
   },
   {
    "duration": 20,
    "start_time": "2023-09-03T14:58:21.687Z"
   },
   {
    "duration": 62,
    "start_time": "2023-09-03T14:58:21.709Z"
   },
   {
    "duration": 16,
    "start_time": "2023-09-03T14:58:21.775Z"
   },
   {
    "duration": 43,
    "start_time": "2023-09-03T14:58:21.793Z"
   },
   {
    "duration": 61,
    "start_time": "2023-09-03T14:58:21.837Z"
   },
   {
    "duration": 0,
    "start_time": "2023-09-03T14:58:21.899Z"
   },
   {
    "duration": 0,
    "start_time": "2023-09-03T14:58:21.901Z"
   },
   {
    "duration": 0,
    "start_time": "2023-09-03T14:58:21.902Z"
   },
   {
    "duration": 0,
    "start_time": "2023-09-03T14:58:21.903Z"
   },
   {
    "duration": 0,
    "start_time": "2023-09-03T14:58:21.905Z"
   },
   {
    "duration": 0,
    "start_time": "2023-09-03T14:58:21.906Z"
   },
   {
    "duration": 0,
    "start_time": "2023-09-03T14:58:21.907Z"
   },
   {
    "duration": 0,
    "start_time": "2023-09-03T14:58:21.908Z"
   },
   {
    "duration": 0,
    "start_time": "2023-09-03T14:58:21.909Z"
   },
   {
    "duration": 0,
    "start_time": "2023-09-03T14:58:21.910Z"
   },
   {
    "duration": 0,
    "start_time": "2023-09-03T14:58:21.912Z"
   },
   {
    "duration": 0,
    "start_time": "2023-09-03T14:58:21.913Z"
   },
   {
    "duration": 0,
    "start_time": "2023-09-03T14:58:21.914Z"
   },
   {
    "duration": 0,
    "start_time": "2023-09-03T14:58:21.917Z"
   },
   {
    "duration": 0,
    "start_time": "2023-09-03T14:58:21.918Z"
   },
   {
    "duration": 0,
    "start_time": "2023-09-03T14:58:21.919Z"
   },
   {
    "duration": 0,
    "start_time": "2023-09-03T14:58:21.920Z"
   },
   {
    "duration": 0,
    "start_time": "2023-09-03T14:58:21.921Z"
   },
   {
    "duration": 20,
    "start_time": "2023-09-03T15:02:09.233Z"
   },
   {
    "duration": 2394,
    "start_time": "2023-09-03T15:02:29.000Z"
   },
   {
    "duration": 4,
    "start_time": "2023-09-03T15:02:31.397Z"
   },
   {
    "duration": 81,
    "start_time": "2023-09-03T15:02:31.403Z"
   },
   {
    "duration": 14,
    "start_time": "2023-09-03T15:02:31.486Z"
   },
   {
    "duration": 74,
    "start_time": "2023-09-03T15:02:31.501Z"
   },
   {
    "duration": 42,
    "start_time": "2023-09-03T15:02:31.577Z"
   },
   {
    "duration": 56,
    "start_time": "2023-09-03T15:02:31.620Z"
   },
   {
    "duration": 46,
    "start_time": "2023-09-03T15:02:31.677Z"
   },
   {
    "duration": 40,
    "start_time": "2023-09-03T15:02:31.724Z"
   },
   {
    "duration": 49,
    "start_time": "2023-09-03T15:02:31.767Z"
   },
   {
    "duration": 47,
    "start_time": "2023-09-03T15:02:31.818Z"
   },
   {
    "duration": 37,
    "start_time": "2023-09-03T15:02:31.867Z"
   },
   {
    "duration": 61,
    "start_time": "2023-09-03T15:02:31.906Z"
   },
   {
    "duration": 24,
    "start_time": "2023-09-03T15:02:31.969Z"
   },
   {
    "duration": 58,
    "start_time": "2023-09-03T15:02:31.995Z"
   },
   {
    "duration": 29,
    "start_time": "2023-09-03T15:02:32.055Z"
   },
   {
    "duration": 0,
    "start_time": "2023-09-03T15:02:32.086Z"
   },
   {
    "duration": 0,
    "start_time": "2023-09-03T15:02:32.087Z"
   },
   {
    "duration": 0,
    "start_time": "2023-09-03T15:02:32.088Z"
   },
   {
    "duration": 0,
    "start_time": "2023-09-03T15:02:32.089Z"
   },
   {
    "duration": 0,
    "start_time": "2023-09-03T15:02:32.090Z"
   },
   {
    "duration": 0,
    "start_time": "2023-09-03T15:02:32.092Z"
   },
   {
    "duration": 0,
    "start_time": "2023-09-03T15:02:32.093Z"
   },
   {
    "duration": 0,
    "start_time": "2023-09-03T15:02:32.094Z"
   },
   {
    "duration": 0,
    "start_time": "2023-09-03T15:02:32.095Z"
   },
   {
    "duration": 0,
    "start_time": "2023-09-03T15:02:32.097Z"
   },
   {
    "duration": 0,
    "start_time": "2023-09-03T15:02:32.097Z"
   },
   {
    "duration": 0,
    "start_time": "2023-09-03T15:02:32.099Z"
   },
   {
    "duration": 0,
    "start_time": "2023-09-03T15:02:32.099Z"
   },
   {
    "duration": 0,
    "start_time": "2023-09-03T15:02:32.101Z"
   },
   {
    "duration": 0,
    "start_time": "2023-09-03T15:02:32.102Z"
   },
   {
    "duration": 0,
    "start_time": "2023-09-03T15:02:32.103Z"
   },
   {
    "duration": 0,
    "start_time": "2023-09-03T15:02:32.104Z"
   },
   {
    "duration": 0,
    "start_time": "2023-09-03T15:02:32.105Z"
   },
   {
    "duration": 4,
    "start_time": "2023-09-03T15:03:19.774Z"
   },
   {
    "duration": 40,
    "start_time": "2023-09-03T15:03:54.981Z"
   },
   {
    "duration": 31,
    "start_time": "2023-09-03T15:04:00.019Z"
   },
   {
    "duration": 2331,
    "start_time": "2023-09-03T15:04:10.441Z"
   },
   {
    "duration": 4,
    "start_time": "2023-09-03T15:04:12.775Z"
   },
   {
    "duration": 63,
    "start_time": "2023-09-03T15:04:12.781Z"
   },
   {
    "duration": 14,
    "start_time": "2023-09-03T15:04:12.846Z"
   },
   {
    "duration": 23,
    "start_time": "2023-09-03T15:04:12.861Z"
   },
   {
    "duration": 24,
    "start_time": "2023-09-03T15:04:12.885Z"
   },
   {
    "duration": 49,
    "start_time": "2023-09-03T15:04:12.911Z"
   },
   {
    "duration": 17,
    "start_time": "2023-09-03T15:04:12.962Z"
   },
   {
    "duration": 31,
    "start_time": "2023-09-03T15:04:12.981Z"
   },
   {
    "duration": 25,
    "start_time": "2023-09-03T15:04:13.015Z"
   },
   {
    "duration": 47,
    "start_time": "2023-09-03T15:04:13.042Z"
   },
   {
    "duration": 27,
    "start_time": "2023-09-03T15:04:13.091Z"
   },
   {
    "duration": 57,
    "start_time": "2023-09-03T15:04:13.119Z"
   },
   {
    "duration": 13,
    "start_time": "2023-09-03T15:04:13.178Z"
   },
   {
    "duration": 38,
    "start_time": "2023-09-03T15:04:13.192Z"
   },
   {
    "duration": 41,
    "start_time": "2023-09-03T15:04:13.231Z"
   },
   {
    "duration": 36,
    "start_time": "2023-09-03T15:04:13.273Z"
   },
   {
    "duration": 0,
    "start_time": "2023-09-03T15:04:13.310Z"
   },
   {
    "duration": 0,
    "start_time": "2023-09-03T15:04:13.311Z"
   },
   {
    "duration": 0,
    "start_time": "2023-09-03T15:04:13.312Z"
   },
   {
    "duration": 0,
    "start_time": "2023-09-03T15:04:13.314Z"
   },
   {
    "duration": 0,
    "start_time": "2023-09-03T15:04:13.314Z"
   },
   {
    "duration": 0,
    "start_time": "2023-09-03T15:04:13.315Z"
   },
   {
    "duration": 0,
    "start_time": "2023-09-03T15:04:13.316Z"
   },
   {
    "duration": 0,
    "start_time": "2023-09-03T15:04:13.317Z"
   },
   {
    "duration": 0,
    "start_time": "2023-09-03T15:04:13.318Z"
   },
   {
    "duration": 0,
    "start_time": "2023-09-03T15:04:13.319Z"
   },
   {
    "duration": 0,
    "start_time": "2023-09-03T15:04:13.321Z"
   },
   {
    "duration": 0,
    "start_time": "2023-09-03T15:04:13.322Z"
   },
   {
    "duration": 0,
    "start_time": "2023-09-03T15:04:13.322Z"
   },
   {
    "duration": 0,
    "start_time": "2023-09-03T15:04:13.346Z"
   },
   {
    "duration": 0,
    "start_time": "2023-09-03T15:04:13.348Z"
   },
   {
    "duration": 0,
    "start_time": "2023-09-03T15:04:13.349Z"
   },
   {
    "duration": 0,
    "start_time": "2023-09-03T15:04:13.351Z"
   },
   {
    "duration": 1,
    "start_time": "2023-09-03T15:04:13.351Z"
   },
   {
    "duration": 2410,
    "start_time": "2023-09-03T15:06:14.375Z"
   },
   {
    "duration": 1241,
    "start_time": "2023-09-03T15:06:16.788Z"
   },
   {
    "duration": 44,
    "start_time": "2023-09-03T15:06:18.030Z"
   },
   {
    "duration": 16,
    "start_time": "2023-09-03T15:06:18.076Z"
   },
   {
    "duration": 22,
    "start_time": "2023-09-03T15:06:18.093Z"
   },
   {
    "duration": 5,
    "start_time": "2023-09-03T15:06:18.117Z"
   },
   {
    "duration": 27,
    "start_time": "2023-09-03T15:06:18.125Z"
   },
   {
    "duration": 8,
    "start_time": "2023-09-03T15:06:18.154Z"
   },
   {
    "duration": 12,
    "start_time": "2023-09-03T15:06:18.164Z"
   },
   {
    "duration": 5,
    "start_time": "2023-09-03T15:06:18.178Z"
   },
   {
    "duration": 11,
    "start_time": "2023-09-03T15:06:18.185Z"
   },
   {
    "duration": 13,
    "start_time": "2023-09-03T15:06:18.198Z"
   },
   {
    "duration": 43,
    "start_time": "2023-09-03T15:06:18.247Z"
   },
   {
    "duration": 13,
    "start_time": "2023-09-03T15:06:18.292Z"
   },
   {
    "duration": 41,
    "start_time": "2023-09-03T15:06:18.306Z"
   },
   {
    "duration": 145,
    "start_time": "2023-09-03T15:06:18.349Z"
   },
   {
    "duration": 0,
    "start_time": "2023-09-03T15:06:18.496Z"
   },
   {
    "duration": 0,
    "start_time": "2023-09-03T15:06:18.498Z"
   },
   {
    "duration": 0,
    "start_time": "2023-09-03T15:06:18.499Z"
   },
   {
    "duration": 0,
    "start_time": "2023-09-03T15:06:18.500Z"
   },
   {
    "duration": 0,
    "start_time": "2023-09-03T15:06:18.501Z"
   },
   {
    "duration": 0,
    "start_time": "2023-09-03T15:06:18.502Z"
   },
   {
    "duration": 0,
    "start_time": "2023-09-03T15:06:18.503Z"
   },
   {
    "duration": 0,
    "start_time": "2023-09-03T15:06:18.505Z"
   },
   {
    "duration": 0,
    "start_time": "2023-09-03T15:06:18.506Z"
   },
   {
    "duration": 0,
    "start_time": "2023-09-03T15:06:18.507Z"
   },
   {
    "duration": 0,
    "start_time": "2023-09-03T15:06:18.508Z"
   },
   {
    "duration": 0,
    "start_time": "2023-09-03T15:06:18.509Z"
   },
   {
    "duration": 0,
    "start_time": "2023-09-03T15:06:18.510Z"
   },
   {
    "duration": 0,
    "start_time": "2023-09-03T15:06:18.511Z"
   },
   {
    "duration": 0,
    "start_time": "2023-09-03T15:06:18.512Z"
   },
   {
    "duration": 0,
    "start_time": "2023-09-03T15:06:18.547Z"
   },
   {
    "duration": 0,
    "start_time": "2023-09-03T15:06:18.549Z"
   },
   {
    "duration": 0,
    "start_time": "2023-09-03T15:06:18.550Z"
   },
   {
    "duration": 12,
    "start_time": "2023-09-03T15:06:56.901Z"
   },
   {
    "duration": 17,
    "start_time": "2023-09-03T15:07:46.917Z"
   },
   {
    "duration": 14,
    "start_time": "2023-09-03T15:08:13.860Z"
   },
   {
    "duration": 15,
    "start_time": "2023-09-03T15:08:16.453Z"
   },
   {
    "duration": 16,
    "start_time": "2023-09-03T15:09:52.750Z"
   },
   {
    "duration": 14,
    "start_time": "2023-09-03T15:09:59.173Z"
   },
   {
    "duration": 22,
    "start_time": "2023-09-03T15:10:10.848Z"
   },
   {
    "duration": 775,
    "start_time": "2023-09-03T15:10:21.275Z"
   },
   {
    "duration": 325,
    "start_time": "2023-09-03T15:17:23.947Z"
   },
   {
    "duration": 2295,
    "start_time": "2023-09-03T15:51:10.620Z"
   },
   {
    "duration": 4,
    "start_time": "2023-09-03T15:51:12.918Z"
   },
   {
    "duration": 67,
    "start_time": "2023-09-03T15:51:12.924Z"
   },
   {
    "duration": 15,
    "start_time": "2023-09-03T15:51:12.993Z"
   },
   {
    "duration": 18,
    "start_time": "2023-09-03T15:51:13.011Z"
   },
   {
    "duration": 17,
    "start_time": "2023-09-03T15:51:13.031Z"
   },
   {
    "duration": 20,
    "start_time": "2023-09-03T15:51:13.050Z"
   },
   {
    "duration": 14,
    "start_time": "2023-09-03T15:51:13.072Z"
   },
   {
    "duration": 15,
    "start_time": "2023-09-03T15:51:13.088Z"
   },
   {
    "duration": 21,
    "start_time": "2023-09-03T15:51:13.105Z"
   },
   {
    "duration": 11,
    "start_time": "2023-09-03T15:51:13.128Z"
   },
   {
    "duration": 27,
    "start_time": "2023-09-03T15:51:13.141Z"
   },
   {
    "duration": 45,
    "start_time": "2023-09-03T15:51:13.170Z"
   },
   {
    "duration": 12,
    "start_time": "2023-09-03T15:51:13.220Z"
   },
   {
    "duration": 28,
    "start_time": "2023-09-03T15:51:13.234Z"
   },
   {
    "duration": 14,
    "start_time": "2023-09-03T15:51:13.263Z"
   },
   {
    "duration": 18,
    "start_time": "2023-09-03T15:51:13.279Z"
   },
   {
    "duration": 62,
    "start_time": "2023-09-03T15:51:13.298Z"
   },
   {
    "duration": 489,
    "start_time": "2023-09-03T15:51:13.362Z"
   },
   {
    "duration": 13553,
    "start_time": "2023-09-03T15:51:13.853Z"
   },
   {
    "duration": 147,
    "start_time": "2023-09-03T15:51:27.408Z"
   },
   {
    "duration": 8,
    "start_time": "2023-09-03T15:51:27.557Z"
   },
   {
    "duration": 12,
    "start_time": "2023-09-03T15:51:27.567Z"
   },
   {
    "duration": 14,
    "start_time": "2023-09-03T15:51:27.581Z"
   },
   {
    "duration": 653,
    "start_time": "2023-09-03T15:51:27.597Z"
   },
   {
    "duration": 319,
    "start_time": "2023-09-03T15:51:28.257Z"
   },
   {
    "duration": 9805,
    "start_time": "2023-09-03T15:51:28.578Z"
   },
   {
    "duration": 11,
    "start_time": "2023-09-03T15:51:38.384Z"
   },
   {
    "duration": 10,
    "start_time": "2023-09-03T15:51:38.397Z"
   },
   {
    "duration": 843,
    "start_time": "2023-09-03T15:51:38.409Z"
   },
   {
    "duration": 528,
    "start_time": "2023-09-03T15:51:39.254Z"
   },
   {
    "duration": 2306,
    "start_time": "2023-09-03T15:51:55.620Z"
   },
   {
    "duration": 5,
    "start_time": "2023-09-03T15:51:57.928Z"
   },
   {
    "duration": 46,
    "start_time": "2023-09-03T15:51:57.935Z"
   },
   {
    "duration": 14,
    "start_time": "2023-09-03T15:51:57.983Z"
   },
   {
    "duration": 16,
    "start_time": "2023-09-03T15:51:57.998Z"
   },
   {
    "duration": 4,
    "start_time": "2023-09-03T15:51:58.016Z"
   },
   {
    "duration": 13,
    "start_time": "2023-09-03T15:51:58.021Z"
   },
   {
    "duration": 14,
    "start_time": "2023-09-03T15:51:58.036Z"
   },
   {
    "duration": 7,
    "start_time": "2023-09-03T15:51:58.052Z"
   },
   {
    "duration": 4,
    "start_time": "2023-09-03T15:51:58.060Z"
   },
   {
    "duration": 22,
    "start_time": "2023-09-03T15:51:58.066Z"
   },
   {
    "duration": 21,
    "start_time": "2023-09-03T15:51:58.090Z"
   },
   {
    "duration": 53,
    "start_time": "2023-09-03T15:51:58.113Z"
   },
   {
    "duration": 11,
    "start_time": "2023-09-03T15:51:58.169Z"
   },
   {
    "duration": 26,
    "start_time": "2023-09-03T15:51:58.181Z"
   },
   {
    "duration": 14,
    "start_time": "2023-09-03T15:51:58.209Z"
   },
   {
    "duration": 34,
    "start_time": "2023-09-03T15:51:58.225Z"
   },
   {
    "duration": 92,
    "start_time": "2023-09-03T15:51:58.261Z"
   },
   {
    "duration": 446,
    "start_time": "2023-09-03T15:51:58.356Z"
   },
   {
    "duration": 13260,
    "start_time": "2023-09-03T15:51:58.804Z"
   },
   {
    "duration": 135,
    "start_time": "2023-09-03T15:52:12.066Z"
   },
   {
    "duration": 8,
    "start_time": "2023-09-03T15:52:12.202Z"
   },
   {
    "duration": 11,
    "start_time": "2023-09-03T15:52:12.212Z"
   },
   {
    "duration": 27,
    "start_time": "2023-09-03T15:52:12.225Z"
   },
   {
    "duration": 895,
    "start_time": "2023-09-03T15:52:12.253Z"
   },
   {
    "duration": 316,
    "start_time": "2023-09-03T15:52:13.153Z"
   },
   {
    "duration": 9485,
    "start_time": "2023-09-03T15:52:13.470Z"
   },
   {
    "duration": 11,
    "start_time": "2023-09-03T15:52:22.957Z"
   },
   {
    "duration": 43,
    "start_time": "2023-09-03T15:52:22.970Z"
   },
   {
    "duration": 833,
    "start_time": "2023-09-03T15:52:23.015Z"
   },
   {
    "duration": 457,
    "start_time": "2023-09-03T15:52:23.850Z"
   },
   {
    "duration": 15007,
    "start_time": "2023-09-03T15:52:24.309Z"
   },
   {
    "duration": 435,
    "start_time": "2023-09-03T15:52:39.318Z"
   },
   {
    "duration": 176,
    "start_time": "2023-09-03T15:52:39.754Z"
   },
   {
    "duration": 17,
    "start_time": "2023-09-03T15:52:39.932Z"
   },
   {
    "duration": 13888,
    "start_time": "2023-09-03T15:54:05.675Z"
   },
   {
    "duration": 113,
    "start_time": "2023-09-03T15:55:30.387Z"
   },
   {
    "duration": 9,
    "start_time": "2023-09-03T15:55:33.554Z"
   },
   {
    "duration": 12,
    "start_time": "2023-09-03T15:55:40.804Z"
   },
   {
    "duration": 13,
    "start_time": "2023-09-03T15:56:14.797Z"
   },
   {
    "duration": 9,
    "start_time": "2023-09-03T15:56:18.207Z"
   },
   {
    "duration": 151,
    "start_time": "2023-09-03T15:58:45.387Z"
   },
   {
    "duration": 81,
    "start_time": "2023-09-03T15:59:04.386Z"
   },
   {
    "duration": 510,
    "start_time": "2023-09-03T16:00:21.938Z"
   },
   {
    "duration": 32,
    "start_time": "2023-09-03T16:01:59.067Z"
   },
   {
    "duration": 210,
    "start_time": "2023-09-03T16:03:12.443Z"
   },
   {
    "duration": 7927,
    "start_time": "2023-09-03T16:04:02.975Z"
   },
   {
    "duration": 14,
    "start_time": "2023-09-03T16:04:45.391Z"
   },
   {
    "duration": 14,
    "start_time": "2023-09-03T16:05:46.460Z"
   },
   {
    "duration": 29,
    "start_time": "2023-09-03T16:06:50.696Z"
   },
   {
    "duration": 4101,
    "start_time": "2023-09-03T16:09:22.095Z"
   },
   {
    "duration": 542,
    "start_time": "2023-09-03T16:09:30.808Z"
   },
   {
    "duration": 20,
    "start_time": "2023-09-03T16:10:53.379Z"
   },
   {
    "duration": 40,
    "start_time": "2023-09-03T16:11:41.646Z"
   },
   {
    "duration": 10,
    "start_time": "2023-09-03T16:14:24.780Z"
   },
   {
    "duration": 10,
    "start_time": "2023-09-03T16:17:33.404Z"
   },
   {
    "duration": 7,
    "start_time": "2023-09-03T16:17:47.156Z"
   },
   {
    "duration": 5,
    "start_time": "2023-09-03T16:18:11.000Z"
   },
   {
    "duration": 678,
    "start_time": "2023-09-03T16:19:35.770Z"
   },
   {
    "duration": 12,
    "start_time": "2023-09-03T16:20:29.142Z"
   },
   {
    "duration": 8,
    "start_time": "2023-09-03T16:20:36.156Z"
   },
   {
    "duration": 34,
    "start_time": "2023-09-03T16:22:20.007Z"
   },
   {
    "duration": 535,
    "start_time": "2023-09-03T16:24:27.786Z"
   },
   {
    "duration": 603,
    "start_time": "2023-09-03T16:25:05.323Z"
   },
   {
    "duration": 2859,
    "start_time": "2023-09-03T17:12:04.085Z"
   },
   {
    "duration": 2809,
    "start_time": "2023-09-03T17:12:06.947Z"
   },
   {
    "duration": 6,
    "start_time": "2023-09-03T17:12:09.759Z"
   },
   {
    "duration": 71,
    "start_time": "2023-09-03T17:12:09.767Z"
   },
   {
    "duration": 16,
    "start_time": "2023-09-03T17:12:09.841Z"
   },
   {
    "duration": 22,
    "start_time": "2023-09-03T17:12:09.859Z"
   },
   {
    "duration": 11,
    "start_time": "2023-09-03T17:12:09.883Z"
   },
   {
    "duration": 17,
    "start_time": "2023-09-03T17:12:09.895Z"
   },
   {
    "duration": 8,
    "start_time": "2023-09-03T17:12:09.914Z"
   },
   {
    "duration": 31,
    "start_time": "2023-09-03T17:12:09.924Z"
   },
   {
    "duration": 5,
    "start_time": "2023-09-03T17:12:09.958Z"
   },
   {
    "duration": 25,
    "start_time": "2023-09-03T17:12:09.966Z"
   },
   {
    "duration": 15,
    "start_time": "2023-09-03T17:12:09.992Z"
   },
   {
    "duration": 75,
    "start_time": "2023-09-03T17:12:10.011Z"
   },
   {
    "duration": 15,
    "start_time": "2023-09-03T17:12:10.090Z"
   },
   {
    "duration": 40,
    "start_time": "2023-09-03T17:12:10.107Z"
   },
   {
    "duration": 26,
    "start_time": "2023-09-03T17:12:10.149Z"
   },
   {
    "duration": 42,
    "start_time": "2023-09-03T17:12:10.178Z"
   },
   {
    "duration": 32,
    "start_time": "2023-09-03T17:12:10.222Z"
   },
   {
    "duration": 536,
    "start_time": "2023-09-03T17:12:10.256Z"
   },
   {
    "duration": 14610,
    "start_time": "2023-09-03T17:12:10.795Z"
   },
   {
    "duration": 145,
    "start_time": "2023-09-03T17:12:25.407Z"
   },
   {
    "duration": 10,
    "start_time": "2023-09-03T17:12:25.554Z"
   },
   {
    "duration": 20,
    "start_time": "2023-09-03T17:12:25.565Z"
   },
   {
    "duration": 6,
    "start_time": "2023-09-03T17:12:25.587Z"
   },
   {
    "duration": 67,
    "start_time": "2023-09-03T17:12:25.594Z"
   },
   {
    "duration": 207,
    "start_time": "2023-09-03T17:12:25.748Z"
   },
   {
    "duration": 8232,
    "start_time": "2023-09-03T17:12:25.957Z"
   },
   {
    "duration": 33,
    "start_time": "2023-09-03T17:12:34.191Z"
   },
   {
    "duration": 5,
    "start_time": "2023-09-03T17:12:34.226Z"
   },
   {
    "duration": 40,
    "start_time": "2023-09-03T17:12:34.247Z"
   },
   {
    "duration": 690,
    "start_time": "2023-09-03T17:12:34.352Z"
   },
   {
    "duration": 16078,
    "start_time": "2023-09-03T17:12:35.047Z"
   },
   {
    "duration": 365,
    "start_time": "2023-09-03T17:12:51.127Z"
   },
   {
    "duration": 174,
    "start_time": "2023-09-03T17:12:51.494Z"
   },
   {
    "duration": 7,
    "start_time": "2023-09-03T17:12:51.670Z"
   },
   {
    "duration": 682,
    "start_time": "2023-09-03T17:25:34.780Z"
   },
   {
    "duration": 622,
    "start_time": "2023-09-03T17:27:32.995Z"
   },
   {
    "duration": 592,
    "start_time": "2023-09-03T17:29:07.602Z"
   },
   {
    "duration": 170,
    "start_time": "2023-09-03T17:29:24.672Z"
   },
   {
    "duration": 7,
    "start_time": "2023-09-03T17:29:29.521Z"
   },
   {
    "duration": 5,
    "start_time": "2023-09-03T17:31:00.947Z"
   },
   {
    "duration": 2585,
    "start_time": "2023-09-03T18:21:24.176Z"
   },
   {
    "duration": 2561,
    "start_time": "2023-09-03T18:21:26.765Z"
   },
   {
    "duration": 5,
    "start_time": "2023-09-03T18:21:29.328Z"
   },
   {
    "duration": 63,
    "start_time": "2023-09-03T18:21:29.335Z"
   },
   {
    "duration": 13,
    "start_time": "2023-09-03T18:21:29.401Z"
   },
   {
    "duration": 15,
    "start_time": "2023-09-03T18:21:29.416Z"
   },
   {
    "duration": 10,
    "start_time": "2023-09-03T18:21:29.433Z"
   },
   {
    "duration": 31,
    "start_time": "2023-09-03T18:21:29.444Z"
   },
   {
    "duration": 6,
    "start_time": "2023-09-03T18:21:29.477Z"
   },
   {
    "duration": 15,
    "start_time": "2023-09-03T18:21:29.485Z"
   },
   {
    "duration": 5,
    "start_time": "2023-09-03T18:21:29.502Z"
   },
   {
    "duration": 14,
    "start_time": "2023-09-03T18:21:29.509Z"
   },
   {
    "duration": 24,
    "start_time": "2023-09-03T18:21:29.525Z"
   },
   {
    "duration": 49,
    "start_time": "2023-09-03T18:21:29.556Z"
   },
   {
    "duration": 13,
    "start_time": "2023-09-03T18:21:29.607Z"
   },
   {
    "duration": 42,
    "start_time": "2023-09-03T18:21:29.622Z"
   },
   {
    "duration": 17,
    "start_time": "2023-09-03T18:21:29.666Z"
   },
   {
    "duration": 27,
    "start_time": "2023-09-03T18:21:29.685Z"
   },
   {
    "duration": 50,
    "start_time": "2023-09-03T18:21:29.713Z"
   },
   {
    "duration": 449,
    "start_time": "2023-09-03T18:21:29.848Z"
   },
   {
    "duration": 14420,
    "start_time": "2023-09-03T18:21:30.299Z"
   },
   {
    "duration": 143,
    "start_time": "2023-09-03T18:21:44.720Z"
   },
   {
    "duration": 9,
    "start_time": "2023-09-03T18:21:44.865Z"
   },
   {
    "duration": 36,
    "start_time": "2023-09-03T18:21:44.876Z"
   },
   {
    "duration": 18,
    "start_time": "2023-09-03T18:21:44.914Z"
   },
   {
    "duration": 72,
    "start_time": "2023-09-03T18:21:44.934Z"
   },
   {
    "duration": 361,
    "start_time": "2023-09-03T18:21:45.009Z"
   },
   {
    "duration": 8059,
    "start_time": "2023-09-03T18:21:45.373Z"
   },
   {
    "duration": 48,
    "start_time": "2023-09-03T18:21:53.434Z"
   },
   {
    "duration": 5,
    "start_time": "2023-09-03T18:21:53.484Z"
   },
   {
    "duration": 70,
    "start_time": "2023-09-03T18:21:53.491Z"
   },
   {
    "duration": 714,
    "start_time": "2023-09-03T18:21:53.563Z"
   },
   {
    "duration": 16076,
    "start_time": "2023-09-03T18:21:54.279Z"
   },
   {
    "duration": 658,
    "start_time": "2023-09-03T18:22:10.357Z"
   },
   {
    "duration": 184,
    "start_time": "2023-09-03T18:22:11.017Z"
   },
   {
    "duration": 6,
    "start_time": "2023-09-03T18:22:11.203Z"
   },
   {
    "duration": 7,
    "start_time": "2023-09-03T18:22:27.491Z"
   },
   {
    "duration": 11,
    "start_time": "2023-09-03T18:24:00.354Z"
   },
   {
    "duration": 9,
    "start_time": "2023-09-03T18:24:48.121Z"
   },
   {
    "duration": 7,
    "start_time": "2023-09-03T18:35:58.528Z"
   },
   {
    "duration": 9,
    "start_time": "2023-09-03T18:39:38.056Z"
   },
   {
    "duration": 7774,
    "start_time": "2023-09-04T11:25:27.383Z"
   },
   {
    "duration": 4411,
    "start_time": "2023-09-04T11:25:35.160Z"
   },
   {
    "duration": 1423,
    "start_time": "2023-09-04T11:25:39.574Z"
   },
   {
    "duration": 85,
    "start_time": "2023-09-04T11:25:40.999Z"
   },
   {
    "duration": 14,
    "start_time": "2023-09-04T11:25:41.086Z"
   },
   {
    "duration": 32,
    "start_time": "2023-09-04T11:25:41.102Z"
   },
   {
    "duration": 8,
    "start_time": "2023-09-04T11:25:41.135Z"
   },
   {
    "duration": 40,
    "start_time": "2023-09-04T11:25:41.144Z"
   },
   {
    "duration": 16,
    "start_time": "2023-09-04T11:25:41.186Z"
   },
   {
    "duration": 52,
    "start_time": "2023-09-04T11:25:41.204Z"
   },
   {
    "duration": 6,
    "start_time": "2023-09-04T11:25:41.258Z"
   },
   {
    "duration": 20,
    "start_time": "2023-09-04T11:25:41.267Z"
   },
   {
    "duration": 29,
    "start_time": "2023-09-04T11:25:41.290Z"
   },
   {
    "duration": 59,
    "start_time": "2023-09-04T11:25:41.325Z"
   },
   {
    "duration": 29,
    "start_time": "2023-09-04T11:25:41.386Z"
   },
   {
    "duration": 17,
    "start_time": "2023-09-04T11:25:41.417Z"
   },
   {
    "duration": 14,
    "start_time": "2023-09-04T11:25:41.437Z"
   },
   {
    "duration": 59,
    "start_time": "2023-09-04T11:25:41.453Z"
   },
   {
    "duration": 102,
    "start_time": "2023-09-04T11:25:41.515Z"
   },
   {
    "duration": 409,
    "start_time": "2023-09-04T11:25:41.620Z"
   },
   {
    "duration": 13124,
    "start_time": "2023-09-04T11:25:42.031Z"
   },
   {
    "duration": 155,
    "start_time": "2023-09-04T11:25:55.157Z"
   },
   {
    "duration": 12,
    "start_time": "2023-09-04T11:25:55.314Z"
   },
   {
    "duration": 12,
    "start_time": "2023-09-04T11:25:55.329Z"
   },
   {
    "duration": 25,
    "start_time": "2023-09-04T11:25:55.343Z"
   },
   {
    "duration": 142,
    "start_time": "2023-09-04T11:25:55.370Z"
   },
   {
    "duration": 256,
    "start_time": "2023-09-04T11:25:55.515Z"
   },
   {
    "duration": 7109,
    "start_time": "2023-09-04T11:25:55.773Z"
   },
   {
    "duration": 42,
    "start_time": "2023-09-04T11:26:02.884Z"
   },
   {
    "duration": 5,
    "start_time": "2023-09-04T11:26:02.928Z"
   },
   {
    "duration": 73,
    "start_time": "2023-09-04T11:26:02.935Z"
   },
   {
    "duration": 618,
    "start_time": "2023-09-04T11:26:03.011Z"
   },
   {
    "duration": 129,
    "start_time": "2023-09-04T11:26:03.630Z"
   },
   {
    "duration": 0,
    "start_time": "2023-09-04T11:26:03.761Z"
   },
   {
    "duration": 0,
    "start_time": "2023-09-04T11:26:03.762Z"
   },
   {
    "duration": 0,
    "start_time": "2023-09-04T11:26:03.764Z"
   },
   {
    "duration": 0,
    "start_time": "2023-09-04T11:26:03.765Z"
   },
   {
    "duration": 0,
    "start_time": "2023-09-04T11:26:03.766Z"
   },
   {
    "duration": 2443,
    "start_time": "2023-09-04T11:43:40.972Z"
   },
   {
    "duration": 2532,
    "start_time": "2023-09-04T11:43:43.418Z"
   },
   {
    "duration": 5,
    "start_time": "2023-09-04T11:43:45.952Z"
   },
   {
    "duration": 61,
    "start_time": "2023-09-04T11:43:45.959Z"
   },
   {
    "duration": 15,
    "start_time": "2023-09-04T11:43:46.023Z"
   },
   {
    "duration": 17,
    "start_time": "2023-09-04T11:43:46.040Z"
   },
   {
    "duration": 7,
    "start_time": "2023-09-04T11:43:46.059Z"
   },
   {
    "duration": 17,
    "start_time": "2023-09-04T11:43:46.067Z"
   },
   {
    "duration": 28,
    "start_time": "2023-09-04T11:43:46.086Z"
   },
   {
    "duration": 7,
    "start_time": "2023-09-04T11:43:46.116Z"
   },
   {
    "duration": 5,
    "start_time": "2023-09-04T11:43:46.125Z"
   },
   {
    "duration": 11,
    "start_time": "2023-09-04T11:43:46.131Z"
   },
   {
    "duration": 12,
    "start_time": "2023-09-04T11:43:46.144Z"
   },
   {
    "duration": 92,
    "start_time": "2023-09-04T11:43:46.159Z"
   },
   {
    "duration": 11,
    "start_time": "2023-09-04T11:43:46.252Z"
   },
   {
    "duration": 16,
    "start_time": "2023-09-04T11:43:46.265Z"
   },
   {
    "duration": 37,
    "start_time": "2023-09-04T11:43:46.283Z"
   },
   {
    "duration": 26,
    "start_time": "2023-09-04T11:43:46.322Z"
   },
   {
    "duration": 67,
    "start_time": "2023-09-04T11:43:46.350Z"
   },
   {
    "duration": 453,
    "start_time": "2023-09-04T11:43:46.419Z"
   },
   {
    "duration": 13004,
    "start_time": "2023-09-04T11:43:46.874Z"
   },
   {
    "duration": 133,
    "start_time": "2023-09-04T11:43:59.880Z"
   },
   {
    "duration": 9,
    "start_time": "2023-09-04T11:44:00.014Z"
   },
   {
    "duration": 27,
    "start_time": "2023-09-04T11:44:00.025Z"
   },
   {
    "duration": 19,
    "start_time": "2023-09-04T11:44:00.054Z"
   },
   {
    "duration": 43,
    "start_time": "2023-09-04T11:44:00.074Z"
   },
   {
    "duration": 359,
    "start_time": "2023-09-04T11:44:00.119Z"
   },
   {
    "duration": 6981,
    "start_time": "2023-09-04T11:44:00.480Z"
   },
   {
    "duration": 33,
    "start_time": "2023-09-04T11:44:07.463Z"
   },
   {
    "duration": 6,
    "start_time": "2023-09-04T11:44:07.508Z"
   },
   {
    "duration": 98,
    "start_time": "2023-09-04T11:44:07.516Z"
   },
   {
    "duration": 621,
    "start_time": "2023-09-04T11:44:07.616Z"
   },
   {
    "duration": 16,
    "start_time": "2023-09-04T11:44:08.239Z"
   },
   {
    "duration": 0,
    "start_time": "2023-09-04T11:44:08.257Z"
   },
   {
    "duration": 0,
    "start_time": "2023-09-04T11:44:08.258Z"
   },
   {
    "duration": 0,
    "start_time": "2023-09-04T11:44:08.259Z"
   },
   {
    "duration": 0,
    "start_time": "2023-09-04T11:44:08.260Z"
   },
   {
    "duration": 0,
    "start_time": "2023-09-04T11:44:08.262Z"
   },
   {
    "duration": 20641,
    "start_time": "2023-09-04T11:46:03.541Z"
   },
   {
    "duration": 12,
    "start_time": "2023-09-04T11:47:10.610Z"
   },
   {
    "duration": 330,
    "start_time": "2023-09-04T11:47:26.647Z"
   },
   {
    "duration": 2428,
    "start_time": "2023-09-04T11:47:49.913Z"
   },
   {
    "duration": 2473,
    "start_time": "2023-09-04T11:47:52.344Z"
   },
   {
    "duration": 1342,
    "start_time": "2023-09-04T11:47:54.819Z"
   },
   {
    "duration": 47,
    "start_time": "2023-09-04T11:47:56.163Z"
   },
   {
    "duration": 15,
    "start_time": "2023-09-04T11:47:56.213Z"
   },
   {
    "duration": 19,
    "start_time": "2023-09-04T11:47:56.230Z"
   },
   {
    "duration": 26,
    "start_time": "2023-09-04T11:47:56.252Z"
   },
   {
    "duration": 28,
    "start_time": "2023-09-04T11:47:56.280Z"
   },
   {
    "duration": 13,
    "start_time": "2023-09-04T11:47:56.310Z"
   },
   {
    "duration": 22,
    "start_time": "2023-09-04T11:47:56.325Z"
   },
   {
    "duration": 5,
    "start_time": "2023-09-04T11:47:56.349Z"
   },
   {
    "duration": 24,
    "start_time": "2023-09-04T11:47:56.356Z"
   },
   {
    "duration": 14,
    "start_time": "2023-09-04T11:47:56.382Z"
   },
   {
    "duration": 46,
    "start_time": "2023-09-04T11:47:56.411Z"
   },
   {
    "duration": 12,
    "start_time": "2023-09-04T11:47:56.459Z"
   },
   {
    "duration": 41,
    "start_time": "2023-09-04T11:47:56.473Z"
   },
   {
    "duration": 14,
    "start_time": "2023-09-04T11:47:56.516Z"
   },
   {
    "duration": 25,
    "start_time": "2023-09-04T11:47:56.532Z"
   },
   {
    "duration": 61,
    "start_time": "2023-09-04T11:47:56.560Z"
   },
   {
    "duration": 436,
    "start_time": "2023-09-04T11:47:56.623Z"
   },
   {
    "duration": 13087,
    "start_time": "2023-09-04T11:47:57.061Z"
   },
   {
    "duration": 143,
    "start_time": "2023-09-04T11:48:10.150Z"
   },
   {
    "duration": 15,
    "start_time": "2023-09-04T11:48:10.295Z"
   },
   {
    "duration": 14,
    "start_time": "2023-09-04T11:48:10.312Z"
   },
   {
    "duration": 43,
    "start_time": "2023-09-04T11:48:10.328Z"
   },
   {
    "duration": 47,
    "start_time": "2023-09-04T11:48:10.373Z"
   },
   {
    "duration": 352,
    "start_time": "2023-09-04T11:48:10.423Z"
   },
   {
    "duration": 7153,
    "start_time": "2023-09-04T11:48:10.777Z"
   },
   {
    "duration": 32,
    "start_time": "2023-09-04T11:48:17.932Z"
   },
   {
    "duration": 5,
    "start_time": "2023-09-04T11:48:17.966Z"
   },
   {
    "duration": 141,
    "start_time": "2023-09-04T11:48:17.973Z"
   },
   {
    "duration": 649,
    "start_time": "2023-09-04T11:48:18.117Z"
   },
   {
    "duration": 20977,
    "start_time": "2023-09-04T11:48:18.768Z"
   },
   {
    "duration": 333,
    "start_time": "2023-09-04T11:48:39.747Z"
   },
   {
    "duration": 7,
    "start_time": "2023-09-04T11:48:40.082Z"
   },
   {
    "duration": 158,
    "start_time": "2023-09-04T11:48:40.090Z"
   },
   {
    "duration": 8,
    "start_time": "2023-09-04T11:48:40.249Z"
   },
   {
    "duration": 9,
    "start_time": "2023-09-04T11:48:40.259Z"
   },
   {
    "duration": 14,
    "start_time": "2023-09-04T11:57:51.360Z"
   },
   {
    "duration": 6,
    "start_time": "2023-09-04T11:59:01.149Z"
   },
   {
    "duration": 33,
    "start_time": "2023-09-04T12:00:17.080Z"
   },
   {
    "duration": 181,
    "start_time": "2023-09-04T12:00:36.699Z"
   },
   {
    "duration": 176,
    "start_time": "2023-09-04T12:00:54.803Z"
   },
   {
    "duration": 12,
    "start_time": "2023-09-04T12:05:55.130Z"
   },
   {
    "duration": 6,
    "start_time": "2023-09-04T12:05:57.131Z"
   },
   {
    "duration": 17,
    "start_time": "2023-09-04T12:06:10.045Z"
   },
   {
    "duration": 6,
    "start_time": "2023-09-04T12:06:11.765Z"
   },
   {
    "duration": 5,
    "start_time": "2023-09-04T12:06:22.243Z"
   },
   {
    "duration": 13,
    "start_time": "2023-09-04T12:09:17.339Z"
   },
   {
    "duration": 5,
    "start_time": "2023-09-04T12:09:19.683Z"
   },
   {
    "duration": 13,
    "start_time": "2023-09-04T12:11:00.150Z"
   },
   {
    "duration": 6,
    "start_time": "2023-09-04T12:11:02.860Z"
   },
   {
    "duration": 12,
    "start_time": "2023-09-04T12:12:35.547Z"
   },
   {
    "duration": 6,
    "start_time": "2023-09-04T12:13:04.707Z"
   },
   {
    "duration": 40,
    "start_time": "2023-09-04T12:13:49.942Z"
   },
   {
    "duration": 5,
    "start_time": "2023-09-04T12:14:19.131Z"
   },
   {
    "duration": 23,
    "start_time": "2023-09-04T12:14:33.028Z"
   },
   {
    "duration": 280,
    "start_time": "2023-09-04T12:15:17.174Z"
   },
   {
    "duration": 33,
    "start_time": "2023-09-04T12:20:49.919Z"
   },
   {
    "duration": 5,
    "start_time": "2023-09-04T12:20:50.482Z"
   },
   {
    "duration": 28,
    "start_time": "2023-09-04T12:21:00.832Z"
   },
   {
    "duration": 535,
    "start_time": "2023-09-04T12:21:08.635Z"
   },
   {
    "duration": 548,
    "start_time": "2023-09-04T12:21:18.604Z"
   },
   {
    "duration": 2349,
    "start_time": "2023-09-04T12:36:44.644Z"
   },
   {
    "duration": 2352,
    "start_time": "2023-09-04T12:36:46.995Z"
   },
   {
    "duration": 5,
    "start_time": "2023-09-04T12:36:49.350Z"
   },
   {
    "duration": 65,
    "start_time": "2023-09-04T12:36:49.356Z"
   },
   {
    "duration": 15,
    "start_time": "2023-09-04T12:36:49.423Z"
   },
   {
    "duration": 16,
    "start_time": "2023-09-04T12:36:49.440Z"
   },
   {
    "duration": 8,
    "start_time": "2023-09-04T12:36:49.458Z"
   },
   {
    "duration": 15,
    "start_time": "2023-09-04T12:36:49.468Z"
   },
   {
    "duration": 30,
    "start_time": "2023-09-04T12:36:49.485Z"
   },
   {
    "duration": 10,
    "start_time": "2023-09-04T12:36:49.517Z"
   },
   {
    "duration": 5,
    "start_time": "2023-09-04T12:36:49.528Z"
   },
   {
    "duration": 10,
    "start_time": "2023-09-04T12:36:49.535Z"
   },
   {
    "duration": 38,
    "start_time": "2023-09-04T12:36:49.547Z"
   },
   {
    "duration": 44,
    "start_time": "2023-09-04T12:36:49.588Z"
   },
   {
    "duration": 11,
    "start_time": "2023-09-04T12:36:49.634Z"
   },
   {
    "duration": 21,
    "start_time": "2023-09-04T12:36:49.646Z"
   },
   {
    "duration": 18,
    "start_time": "2023-09-04T12:36:49.668Z"
   },
   {
    "duration": 35,
    "start_time": "2023-09-04T12:36:49.688Z"
   },
   {
    "duration": 85,
    "start_time": "2023-09-04T12:36:49.724Z"
   },
   {
    "duration": 418,
    "start_time": "2023-09-04T12:36:49.813Z"
   },
   {
    "duration": 12847,
    "start_time": "2023-09-04T12:36:50.233Z"
   },
   {
    "duration": 130,
    "start_time": "2023-09-04T12:37:03.081Z"
   },
   {
    "duration": 9,
    "start_time": "2023-09-04T12:37:03.212Z"
   },
   {
    "duration": 12,
    "start_time": "2023-09-04T12:37:03.222Z"
   },
   {
    "duration": 5,
    "start_time": "2023-09-04T12:37:03.236Z"
   },
   {
    "duration": 68,
    "start_time": "2023-09-04T12:37:03.243Z"
   },
   {
    "duration": 256,
    "start_time": "2023-09-04T12:37:03.313Z"
   },
   {
    "duration": 7060,
    "start_time": "2023-09-04T12:37:03.571Z"
   },
   {
    "duration": 31,
    "start_time": "2023-09-04T12:37:10.634Z"
   },
   {
    "duration": 6,
    "start_time": "2023-09-04T12:37:10.666Z"
   },
   {
    "duration": 46,
    "start_time": "2023-09-04T12:37:10.673Z"
   },
   {
    "duration": 695,
    "start_time": "2023-09-04T12:37:10.721Z"
   },
   {
    "duration": 20912,
    "start_time": "2023-09-04T12:37:11.418Z"
   },
   {
    "duration": 44,
    "start_time": "2023-09-04T12:37:32.332Z"
   },
   {
    "duration": 6,
    "start_time": "2023-09-04T12:37:32.378Z"
   },
   {
    "duration": 61,
    "start_time": "2023-09-04T12:37:32.386Z"
   },
   {
    "duration": 394,
    "start_time": "2023-09-04T12:37:32.511Z"
   },
   {
    "duration": 306,
    "start_time": "2023-09-04T12:37:32.909Z"
   },
   {
    "duration": 7,
    "start_time": "2023-09-04T12:37:33.216Z"
   },
   {
    "duration": 149,
    "start_time": "2023-09-04T12:37:33.224Z"
   },
   {
    "duration": 5,
    "start_time": "2023-09-04T12:37:33.377Z"
   },
   {
    "duration": 6,
    "start_time": "2023-09-04T12:37:33.383Z"
   },
   {
    "duration": 20561,
    "start_time": "2023-09-04T12:39:05.337Z"
   },
   {
    "duration": 11516,
    "start_time": "2023-09-04T12:39:27.069Z"
   },
   {
    "duration": 80076,
    "start_time": "2023-09-04T12:50:55.691Z"
   },
   {
    "duration": 46373,
    "start_time": "2023-09-04T12:54:19.393Z"
   },
   {
    "duration": 23289,
    "start_time": "2023-09-04T12:57:09.551Z"
   },
   {
    "duration": 43126,
    "start_time": "2023-09-04T12:58:06.619Z"
   },
   {
    "duration": 2407,
    "start_time": "2023-09-04T13:00:39.130Z"
   },
   {
    "duration": 2359,
    "start_time": "2023-09-04T13:00:41.540Z"
   },
   {
    "duration": 1326,
    "start_time": "2023-09-04T13:00:43.901Z"
   },
   {
    "duration": 44,
    "start_time": "2023-09-04T13:00:45.230Z"
   },
   {
    "duration": 16,
    "start_time": "2023-09-04T13:00:45.275Z"
   },
   {
    "duration": 26,
    "start_time": "2023-09-04T13:00:45.293Z"
   },
   {
    "duration": 5,
    "start_time": "2023-09-04T13:00:45.321Z"
   },
   {
    "duration": 20,
    "start_time": "2023-09-04T13:00:45.328Z"
   },
   {
    "duration": 7,
    "start_time": "2023-09-04T13:00:45.349Z"
   },
   {
    "duration": 22,
    "start_time": "2023-09-04T13:00:45.359Z"
   },
   {
    "duration": 13,
    "start_time": "2023-09-04T13:00:45.383Z"
   },
   {
    "duration": 16,
    "start_time": "2023-09-04T13:00:45.409Z"
   },
   {
    "duration": 12,
    "start_time": "2023-09-04T13:00:45.427Z"
   },
   {
    "duration": 44,
    "start_time": "2023-09-04T13:00:45.441Z"
   },
   {
    "duration": 12,
    "start_time": "2023-09-04T13:00:45.509Z"
   },
   {
    "duration": 19,
    "start_time": "2023-09-04T13:00:45.522Z"
   },
   {
    "duration": 13,
    "start_time": "2023-09-04T13:00:45.543Z"
   },
   {
    "duration": 19,
    "start_time": "2023-09-04T13:00:45.558Z"
   },
   {
    "duration": 129,
    "start_time": "2023-09-04T13:00:45.579Z"
   },
   {
    "duration": 415,
    "start_time": "2023-09-04T13:00:45.712Z"
   },
   {
    "duration": 12827,
    "start_time": "2023-09-04T13:00:46.129Z"
   },
   {
    "duration": 46994,
    "start_time": "2023-09-04T13:00:58.958Z"
   },
   {
    "duration": 146,
    "start_time": "2023-09-04T13:01:45.954Z"
   },
   {
    "duration": 17,
    "start_time": "2023-09-04T13:01:46.101Z"
   },
   {
    "duration": 39,
    "start_time": "2023-09-04T13:01:46.120Z"
   },
   {
    "duration": 8,
    "start_time": "2023-09-04T13:01:46.161Z"
   },
   {
    "duration": 44,
    "start_time": "2023-09-04T13:01:46.170Z"
   },
   {
    "duration": 361,
    "start_time": "2023-09-04T13:01:46.226Z"
   },
   {
    "duration": 7187,
    "start_time": "2023-09-04T13:01:46.589Z"
   },
   {
    "duration": 42676,
    "start_time": "2023-09-04T13:01:53.777Z"
   },
   {
    "duration": 33,
    "start_time": "2023-09-04T13:02:36.455Z"
   },
   {
    "duration": 20,
    "start_time": "2023-09-04T13:02:36.489Z"
   },
   {
    "duration": 30,
    "start_time": "2023-09-04T13:02:36.511Z"
   },
   {
    "duration": 613,
    "start_time": "2023-09-04T13:02:36.613Z"
   },
   {
    "duration": 20637,
    "start_time": "2023-09-04T13:02:37.228Z"
   },
   {
    "duration": 80167,
    "start_time": "2023-09-04T13:02:57.866Z"
   },
   {
    "duration": 39,
    "start_time": "2023-09-04T13:04:18.035Z"
   },
   {
    "duration": 5,
    "start_time": "2023-09-04T13:04:18.075Z"
   },
   {
    "duration": 37,
    "start_time": "2023-09-04T13:04:18.082Z"
   },
   {
    "duration": 459,
    "start_time": "2023-09-04T13:04:18.121Z"
   },
   {
    "duration": 11526,
    "start_time": "2023-09-04T13:04:18.582Z"
   },
   {
    "duration": 318,
    "start_time": "2023-09-04T13:04:30.110Z"
   },
   {
    "duration": 7,
    "start_time": "2023-09-04T13:04:30.430Z"
   },
   {
    "duration": 228,
    "start_time": "2023-09-04T13:04:30.438Z"
   },
   {
    "duration": 6,
    "start_time": "2023-09-04T13:04:30.668Z"
   },
   {
    "duration": 63,
    "start_time": "2023-09-04T13:04:30.675Z"
   },
   {
    "duration": 555,
    "start_time": "2023-09-04T13:04:30.742Z"
   },
   {
    "duration": 340,
    "start_time": "2023-09-04T13:06:15.699Z"
   },
   {
    "duration": 57738,
    "start_time": "2023-09-04T13:07:30.732Z"
   },
   {
    "duration": 2561,
    "start_time": "2023-09-04T13:09:49.187Z"
   },
   {
    "duration": 2397,
    "start_time": "2023-09-04T13:09:51.751Z"
   },
   {
    "duration": 5,
    "start_time": "2023-09-04T13:09:54.150Z"
   },
   {
    "duration": 80,
    "start_time": "2023-09-04T13:09:54.157Z"
   },
   {
    "duration": 24,
    "start_time": "2023-09-04T13:09:54.239Z"
   },
   {
    "duration": 49,
    "start_time": "2023-09-04T13:09:54.265Z"
   },
   {
    "duration": 29,
    "start_time": "2023-09-04T13:09:54.316Z"
   },
   {
    "duration": 38,
    "start_time": "2023-09-04T13:09:54.347Z"
   },
   {
    "duration": 27,
    "start_time": "2023-09-04T13:09:54.387Z"
   },
   {
    "duration": 34,
    "start_time": "2023-09-04T13:09:54.417Z"
   },
   {
    "duration": 29,
    "start_time": "2023-09-04T13:09:54.452Z"
   },
   {
    "duration": 28,
    "start_time": "2023-09-04T13:09:54.483Z"
   },
   {
    "duration": 40,
    "start_time": "2023-09-04T13:09:54.513Z"
   },
   {
    "duration": 58,
    "start_time": "2023-09-04T13:09:54.555Z"
   },
   {
    "duration": 12,
    "start_time": "2023-09-04T13:09:54.615Z"
   },
   {
    "duration": 29,
    "start_time": "2023-09-04T13:09:54.629Z"
   },
   {
    "duration": 31,
    "start_time": "2023-09-04T13:09:54.659Z"
   },
   {
    "duration": 36,
    "start_time": "2023-09-04T13:09:54.691Z"
   },
   {
    "duration": 82,
    "start_time": "2023-09-04T13:09:54.729Z"
   },
   {
    "duration": 405,
    "start_time": "2023-09-04T13:09:54.818Z"
   },
   {
    "duration": 13113,
    "start_time": "2023-09-04T13:09:55.225Z"
   },
   {
    "duration": 5542,
    "start_time": "2023-09-04T13:10:08.340Z"
   },
   {
    "duration": 0,
    "start_time": "2023-09-04T13:10:13.884Z"
   },
   {
    "duration": 0,
    "start_time": "2023-09-04T13:10:13.885Z"
   },
   {
    "duration": 0,
    "start_time": "2023-09-04T13:10:13.886Z"
   },
   {
    "duration": 0,
    "start_time": "2023-09-04T13:10:13.887Z"
   },
   {
    "duration": 0,
    "start_time": "2023-09-04T13:10:13.888Z"
   },
   {
    "duration": 0,
    "start_time": "2023-09-04T13:10:13.889Z"
   },
   {
    "duration": 0,
    "start_time": "2023-09-04T13:10:13.891Z"
   },
   {
    "duration": 0,
    "start_time": "2023-09-04T13:10:13.909Z"
   },
   {
    "duration": 0,
    "start_time": "2023-09-04T13:10:13.910Z"
   },
   {
    "duration": 0,
    "start_time": "2023-09-04T13:10:13.911Z"
   },
   {
    "duration": 0,
    "start_time": "2023-09-04T13:10:13.913Z"
   },
   {
    "duration": 0,
    "start_time": "2023-09-04T13:10:13.914Z"
   },
   {
    "duration": 0,
    "start_time": "2023-09-04T13:10:13.915Z"
   },
   {
    "duration": 0,
    "start_time": "2023-09-04T13:10:13.916Z"
   },
   {
    "duration": 0,
    "start_time": "2023-09-04T13:10:13.917Z"
   },
   {
    "duration": 0,
    "start_time": "2023-09-04T13:10:13.919Z"
   },
   {
    "duration": 0,
    "start_time": "2023-09-04T13:10:13.920Z"
   },
   {
    "duration": 0,
    "start_time": "2023-09-04T13:10:13.921Z"
   },
   {
    "duration": 0,
    "start_time": "2023-09-04T13:10:13.922Z"
   },
   {
    "duration": 2403,
    "start_time": "2023-09-04T13:11:31.620Z"
   },
   {
    "duration": 2396,
    "start_time": "2023-09-04T13:11:34.026Z"
   },
   {
    "duration": 6,
    "start_time": "2023-09-04T13:11:36.424Z"
   },
   {
    "duration": 64,
    "start_time": "2023-09-04T13:11:36.431Z"
   },
   {
    "duration": 14,
    "start_time": "2023-09-04T13:11:36.497Z"
   },
   {
    "duration": 44,
    "start_time": "2023-09-04T13:11:36.512Z"
   },
   {
    "duration": 7,
    "start_time": "2023-09-04T13:11:36.558Z"
   },
   {
    "duration": 13,
    "start_time": "2023-09-04T13:11:36.567Z"
   },
   {
    "duration": 6,
    "start_time": "2023-09-04T13:11:36.582Z"
   },
   {
    "duration": 7,
    "start_time": "2023-09-04T13:11:36.590Z"
   },
   {
    "duration": 5,
    "start_time": "2023-09-04T13:11:36.599Z"
   },
   {
    "duration": 10,
    "start_time": "2023-09-04T13:11:36.609Z"
   },
   {
    "duration": 11,
    "start_time": "2023-09-04T13:11:36.621Z"
   },
   {
    "duration": 48,
    "start_time": "2023-09-04T13:11:36.636Z"
   },
   {
    "duration": 33,
    "start_time": "2023-09-04T13:11:36.686Z"
   },
   {
    "duration": 16,
    "start_time": "2023-09-04T13:11:36.720Z"
   },
   {
    "duration": 14,
    "start_time": "2023-09-04T13:11:36.737Z"
   },
   {
    "duration": 21,
    "start_time": "2023-09-04T13:11:36.752Z"
   },
   {
    "duration": 52,
    "start_time": "2023-09-04T13:11:36.775Z"
   },
   {
    "duration": 470,
    "start_time": "2023-09-04T13:11:36.829Z"
   },
   {
    "duration": 13096,
    "start_time": "2023-09-04T13:11:37.301Z"
   },
   {
    "duration": 47815,
    "start_time": "2023-09-04T13:11:50.399Z"
   },
   {
    "duration": 133,
    "start_time": "2023-09-04T13:12:38.215Z"
   },
   {
    "duration": 9,
    "start_time": "2023-09-04T13:12:38.350Z"
   },
   {
    "duration": 105,
    "start_time": "2023-09-04T13:12:38.360Z"
   },
   {
    "duration": 5,
    "start_time": "2023-09-04T13:12:38.467Z"
   },
   {
    "duration": 37,
    "start_time": "2023-09-04T13:12:38.474Z"
   },
   {
    "duration": 300,
    "start_time": "2023-09-04T13:12:38.513Z"
   },
   {
    "duration": 7370,
    "start_time": "2023-09-04T13:12:38.816Z"
   },
   {
    "duration": 43655,
    "start_time": "2023-09-04T13:12:46.188Z"
   },
   {
    "duration": 32,
    "start_time": "2023-09-04T13:13:29.845Z"
   },
   {
    "duration": 5,
    "start_time": "2023-09-04T13:13:29.879Z"
   },
   {
    "duration": 47,
    "start_time": "2023-09-04T13:13:29.886Z"
   },
   {
    "duration": 684,
    "start_time": "2023-09-04T13:13:29.936Z"
   },
   {
    "duration": 20976,
    "start_time": "2023-09-04T13:13:30.622Z"
   },
   {
    "duration": 80724,
    "start_time": "2023-09-04T13:13:51.600Z"
   },
   {
    "duration": 399,
    "start_time": "2023-09-04T13:15:12.325Z"
   },
   {
    "duration": 7,
    "start_time": "2023-09-04T13:15:12.726Z"
   },
   {
    "duration": 176,
    "start_time": "2023-09-04T13:15:12.735Z"
   },
   {
    "duration": 7,
    "start_time": "2023-09-04T13:15:12.913Z"
   },
   {
    "duration": 18,
    "start_time": "2023-09-04T13:15:12.924Z"
   },
   {
    "duration": 6543,
    "start_time": "2023-09-04T15:49:13.821Z"
   },
   {
    "duration": 3731,
    "start_time": "2023-09-04T15:49:20.366Z"
   },
   {
    "duration": 1298,
    "start_time": "2023-09-04T15:49:24.099Z"
   },
   {
    "duration": 82,
    "start_time": "2023-09-04T15:49:25.399Z"
   },
   {
    "duration": 12,
    "start_time": "2023-09-04T15:49:25.483Z"
   },
   {
    "duration": 19,
    "start_time": "2023-09-04T15:49:25.496Z"
   },
   {
    "duration": 15,
    "start_time": "2023-09-04T15:49:25.517Z"
   },
   {
    "duration": 29,
    "start_time": "2023-09-04T15:49:25.533Z"
   },
   {
    "duration": 13,
    "start_time": "2023-09-04T15:49:25.563Z"
   },
   {
    "duration": 17,
    "start_time": "2023-09-04T15:49:25.577Z"
   },
   {
    "duration": 37,
    "start_time": "2023-09-04T15:49:25.596Z"
   },
   {
    "duration": 21,
    "start_time": "2023-09-04T15:49:25.634Z"
   },
   {
    "duration": 26,
    "start_time": "2023-09-04T15:49:25.657Z"
   },
   {
    "duration": 62,
    "start_time": "2023-09-04T15:49:25.686Z"
   },
   {
    "duration": 14,
    "start_time": "2023-09-04T15:49:25.749Z"
   },
   {
    "duration": 30,
    "start_time": "2023-09-04T15:49:25.765Z"
   },
   {
    "duration": 30,
    "start_time": "2023-09-04T15:49:25.797Z"
   },
   {
    "duration": 37,
    "start_time": "2023-09-04T15:49:25.829Z"
   },
   {
    "duration": 20,
    "start_time": "2023-09-04T15:49:25.868Z"
   },
   {
    "duration": 414,
    "start_time": "2023-09-04T15:49:25.889Z"
   },
   {
    "duration": 10884,
    "start_time": "2023-09-04T15:49:26.305Z"
   },
   {
    "duration": 40105,
    "start_time": "2023-09-04T15:49:37.191Z"
   },
   {
    "duration": 217,
    "start_time": "2023-09-04T15:50:17.350Z"
   },
   {
    "duration": 7,
    "start_time": "2023-09-04T15:50:17.569Z"
   },
   {
    "duration": 77,
    "start_time": "2023-09-04T15:50:17.578Z"
   },
   {
    "duration": 5,
    "start_time": "2023-09-04T15:50:17.657Z"
   },
   {
    "duration": 93,
    "start_time": "2023-09-04T15:50:17.663Z"
   },
   {
    "duration": 435,
    "start_time": "2023-09-04T15:50:17.759Z"
   },
   {
    "duration": 6112,
    "start_time": "2023-09-04T15:50:18.196Z"
   },
   {
    "duration": 37008,
    "start_time": "2023-09-04T15:50:24.310Z"
   },
   {
    "duration": 34,
    "start_time": "2023-09-04T15:51:01.320Z"
   },
   {
    "duration": 40,
    "start_time": "2023-09-04T15:51:01.356Z"
   },
   {
    "duration": 150,
    "start_time": "2023-09-04T15:51:01.397Z"
   },
   {
    "duration": 665,
    "start_time": "2023-09-04T15:51:01.549Z"
   },
   {
    "duration": 17447,
    "start_time": "2023-09-04T15:51:02.216Z"
   },
   {
    "duration": 67782,
    "start_time": "2023-09-04T15:51:19.665Z"
   },
   {
    "duration": 303,
    "start_time": "2023-09-04T15:52:27.449Z"
   },
   {
    "duration": 8,
    "start_time": "2023-09-04T15:52:27.753Z"
   },
   {
    "duration": 155,
    "start_time": "2023-09-04T15:52:27.763Z"
   },
   {
    "duration": 7,
    "start_time": "2023-09-04T15:52:27.921Z"
   },
   {
    "duration": 21,
    "start_time": "2023-09-04T15:52:27.932Z"
   },
   {
    "duration": 398,
    "start_time": "2023-09-04T15:54:16.115Z"
   },
   {
    "duration": 512,
    "start_time": "2023-09-04T15:54:26.606Z"
   },
   {
    "duration": 71823,
    "start_time": "2023-09-04T15:54:56.939Z"
   },
   {
    "duration": 416,
    "start_time": "2023-09-04T15:56:54.840Z"
   },
   {
    "duration": 10766,
    "start_time": "2023-09-04T15:59:27.455Z"
   },
   {
    "duration": 143296,
    "start_time": "2023-09-04T16:01:21.999Z"
   },
   {
    "duration": 6284,
    "start_time": "2023-09-04T16:16:29.423Z"
   },
   {
    "duration": 158440,
    "start_time": "2023-09-04T16:17:35.935Z"
   },
   {
    "duration": 86654,
    "start_time": "2023-09-04T16:20:14.377Z"
   },
   {
    "duration": 6996,
    "start_time": "2023-09-04T17:41:33.446Z"
   },
   {
    "duration": 3572,
    "start_time": "2023-09-04T17:41:40.444Z"
   },
   {
    "duration": 1355,
    "start_time": "2023-09-04T17:41:44.018Z"
   },
   {
    "duration": 164,
    "start_time": "2023-09-04T17:41:45.375Z"
   },
   {
    "duration": 12,
    "start_time": "2023-09-04T17:41:45.541Z"
   },
   {
    "duration": 18,
    "start_time": "2023-09-04T17:41:45.554Z"
   },
   {
    "duration": 4,
    "start_time": "2023-09-04T17:41:45.574Z"
   },
   {
    "duration": 12,
    "start_time": "2023-09-04T17:41:45.580Z"
   },
   {
    "duration": 6,
    "start_time": "2023-09-04T17:41:45.593Z"
   },
   {
    "duration": 6,
    "start_time": "2023-09-04T17:41:45.601Z"
   },
   {
    "duration": 4,
    "start_time": "2023-09-04T17:41:45.609Z"
   },
   {
    "duration": 42,
    "start_time": "2023-09-04T17:41:45.615Z"
   },
   {
    "duration": 12,
    "start_time": "2023-09-04T17:41:45.659Z"
   },
   {
    "duration": 48,
    "start_time": "2023-09-04T17:41:45.673Z"
   },
   {
    "duration": 34,
    "start_time": "2023-09-04T17:41:45.722Z"
   },
   {
    "duration": 15,
    "start_time": "2023-09-04T17:41:45.758Z"
   },
   {
    "duration": 13,
    "start_time": "2023-09-04T17:41:45.774Z"
   },
   {
    "duration": 18,
    "start_time": "2023-09-04T17:41:45.789Z"
   },
   {
    "duration": 147,
    "start_time": "2023-09-04T17:41:45.809Z"
   },
   {
    "duration": 342,
    "start_time": "2023-09-04T17:41:45.958Z"
   },
   {
    "duration": 154871,
    "start_time": "2023-09-04T17:41:46.302Z"
   },
   {
    "duration": 143,
    "start_time": "2023-09-04T17:44:21.174Z"
   },
   {
    "duration": 9,
    "start_time": "2023-09-04T17:44:21.319Z"
   },
   {
    "duration": 29,
    "start_time": "2023-09-04T17:44:21.330Z"
   },
   {
    "duration": 6,
    "start_time": "2023-09-04T17:44:21.360Z"
   },
   {
    "duration": 20,
    "start_time": "2023-09-04T17:44:21.368Z"
   },
   {
    "duration": 235,
    "start_time": "2023-09-04T17:44:21.458Z"
   },
   {
    "duration": 84865,
    "start_time": "2023-09-04T17:44:21.695Z"
   },
   {
    "duration": 38,
    "start_time": "2023-09-04T17:45:46.562Z"
   },
   {
    "duration": 5,
    "start_time": "2023-09-04T17:45:46.601Z"
   },
   {
    "duration": 50,
    "start_time": "2023-09-04T17:45:46.608Z"
   },
   {
    "duration": 610,
    "start_time": "2023-09-04T17:45:46.660Z"
   },
   {
    "duration": 54913,
    "start_time": "2023-09-04T17:45:47.272Z"
   },
   {
    "duration": 1,
    "start_time": "2023-09-04T17:46:42.186Z"
   },
   {
    "duration": 0,
    "start_time": "2023-09-04T17:46:42.188Z"
   },
   {
    "duration": 0,
    "start_time": "2023-09-04T17:46:42.189Z"
   },
   {
    "duration": 0,
    "start_time": "2023-09-04T17:46:42.190Z"
   },
   {
    "duration": 0,
    "start_time": "2023-09-04T17:46:42.191Z"
   },
   {
    "duration": 136821,
    "start_time": "2023-09-04T17:47:22.866Z"
   },
   {
    "duration": 36246,
    "start_time": "2023-09-04T17:51:31.393Z"
   },
   {
    "duration": 52120,
    "start_time": "2023-09-04T17:53:03.281Z"
   },
   {
    "duration": 29753,
    "start_time": "2023-09-04T17:55:39.073Z"
   },
   {
    "duration": 72933,
    "start_time": "2023-09-04T17:58:26.150Z"
   },
   {
    "duration": 72356,
    "start_time": "2023-09-04T18:00:07.695Z"
   },
   {
    "duration": 96118,
    "start_time": "2023-09-04T18:01:44.098Z"
   },
   {
    "duration": 254334,
    "start_time": "2023-09-04T18:04:11.927Z"
   },
   {
    "duration": 164818,
    "start_time": "2023-09-04T18:08:26.263Z"
   },
   {
    "duration": 93445,
    "start_time": "2023-09-04T18:11:11.083Z"
   },
   {
    "duration": 302,
    "start_time": "2023-09-04T18:14:43.913Z"
   },
   {
    "duration": 1029572,
    "start_time": "2023-09-04T18:15:09.004Z"
   },
   {
    "duration": 36955,
    "start_time": "2023-09-04T18:32:25.665Z"
   },
   {
    "duration": 54371,
    "start_time": "2023-09-04T18:33:18.021Z"
   },
   {
    "duration": 66629,
    "start_time": "2023-09-04T18:34:35.030Z"
   },
   {
    "duration": 96030,
    "start_time": "2023-09-04T18:36:05.328Z"
   },
   {
    "duration": 179648,
    "start_time": "2023-09-04T18:38:35.867Z"
   },
   {
    "duration": 1341,
    "start_time": "2023-09-04T18:42:16.073Z"
   },
   {
    "duration": 58079,
    "start_time": "2023-09-04T18:43:12.578Z"
   },
   {
    "duration": 79190,
    "start_time": "2023-09-04T18:45:16.688Z"
   },
   {
    "duration": 184981,
    "start_time": "2023-09-04T18:47:27.290Z"
   },
   {
    "duration": 118556,
    "start_time": "2023-09-04T18:50:32.273Z"
   },
   {
    "duration": 64878,
    "start_time": "2023-09-04T18:52:30.831Z"
   },
   {
    "duration": 1178,
    "start_time": "2023-09-04T18:53:35.711Z"
   },
   {
    "duration": 10,
    "start_time": "2023-09-04T18:56:28.076Z"
   },
   {
    "duration": 4,
    "start_time": "2023-09-04T18:56:51.014Z"
   },
   {
    "duration": 1342,
    "start_time": "2023-09-04T18:58:38.850Z"
   },
   {
    "duration": 281,
    "start_time": "2023-09-04T18:58:51.594Z"
   },
   {
    "duration": 1221,
    "start_time": "2023-09-04T18:59:08.769Z"
   },
   {
    "duration": 6,
    "start_time": "2023-09-04T18:59:26.721Z"
   },
   {
    "duration": 12318,
    "start_time": "2023-09-06T06:55:45.566Z"
   },
   {
    "duration": 4856,
    "start_time": "2023-09-06T06:55:57.887Z"
   },
   {
    "duration": 1654,
    "start_time": "2023-09-06T06:56:02.745Z"
   },
   {
    "duration": 163,
    "start_time": "2023-09-06T06:56:04.402Z"
   },
   {
    "duration": 14,
    "start_time": "2023-09-06T06:56:04.567Z"
   },
   {
    "duration": 20,
    "start_time": "2023-09-06T06:56:04.582Z"
   },
   {
    "duration": 11,
    "start_time": "2023-09-06T06:56:04.604Z"
   },
   {
    "duration": 26,
    "start_time": "2023-09-06T06:56:04.617Z"
   },
   {
    "duration": 10,
    "start_time": "2023-09-06T06:56:04.645Z"
   },
   {
    "duration": 35,
    "start_time": "2023-09-06T06:56:04.666Z"
   },
   {
    "duration": 8,
    "start_time": "2023-09-06T06:56:04.703Z"
   },
   {
    "duration": 25,
    "start_time": "2023-09-06T06:56:04.713Z"
   },
   {
    "duration": 58,
    "start_time": "2023-09-06T06:56:04.740Z"
   },
   {
    "duration": 43,
    "start_time": "2023-09-06T06:56:04.800Z"
   },
   {
    "duration": 12,
    "start_time": "2023-09-06T06:56:04.845Z"
   },
   {
    "duration": 21,
    "start_time": "2023-09-06T06:56:04.860Z"
   },
   {
    "duration": 14,
    "start_time": "2023-09-06T06:56:04.883Z"
   },
   {
    "duration": 21,
    "start_time": "2023-09-06T06:56:04.899Z"
   },
   {
    "duration": 52,
    "start_time": "2023-09-06T06:56:04.921Z"
   },
   {
    "duration": 465,
    "start_time": "2023-09-06T06:56:04.976Z"
   },
   {
    "duration": 130534,
    "start_time": "2023-09-06T06:56:05.443Z"
   },
   {
    "duration": 138,
    "start_time": "2023-09-06T06:58:15.979Z"
   },
   {
    "duration": 8,
    "start_time": "2023-09-06T06:58:16.119Z"
   },
   {
    "duration": 10,
    "start_time": "2023-09-06T06:58:16.129Z"
   },
   {
    "duration": 10,
    "start_time": "2023-09-06T06:58:16.140Z"
   },
   {
    "duration": 21,
    "start_time": "2023-09-06T06:58:16.167Z"
   },
   {
    "duration": 253,
    "start_time": "2023-09-06T06:58:16.269Z"
   },
   {
    "duration": 72324,
    "start_time": "2023-09-06T06:58:16.525Z"
   },
   {
    "duration": 44,
    "start_time": "2023-09-06T06:59:28.851Z"
   },
   {
    "duration": 6,
    "start_time": "2023-09-06T06:59:28.897Z"
   },
   {
    "duration": 67,
    "start_time": "2023-09-06T06:59:28.905Z"
   },
   {
    "duration": 660,
    "start_time": "2023-09-06T06:59:28.974Z"
   },
   {
    "duration": 214798,
    "start_time": "2023-09-06T06:59:29.636Z"
   },
   {
    "duration": 1387,
    "start_time": "2023-09-06T07:03:04.436Z"
   },
   {
    "duration": 5,
    "start_time": "2023-09-06T07:03:05.824Z"
   },
   {
    "duration": 34,
    "start_time": "2023-09-06T07:03:05.831Z"
   },
   {
    "duration": 270,
    "start_time": "2023-09-06T07:03:05.866Z"
   },
   {
    "duration": 5,
    "start_time": "2023-09-06T07:03:06.138Z"
   },
   {
    "duration": 39,
    "start_time": "2023-09-06T07:03:06.145Z"
   },
   {
    "duration": 8,
    "start_time": "2023-09-06T07:08:39.155Z"
   },
   {
    "duration": 9,
    "start_time": "2023-09-06T07:08:54.855Z"
   },
   {
    "duration": 117,
    "start_time": "2023-09-06T07:15:06.892Z"
   },
   {
    "duration": 15063,
    "start_time": "2023-09-06T07:15:10.822Z"
   },
   {
    "duration": 0,
    "start_time": "2023-09-06T07:15:25.887Z"
   },
   {
    "duration": 132470,
    "start_time": "2023-09-06T07:18:55.163Z"
   },
   {
    "duration": 4,
    "start_time": "2023-09-06T07:22:10.872Z"
   },
   {
    "duration": 74505,
    "start_time": "2023-09-06T07:23:04.222Z"
   },
   {
    "duration": 3,
    "start_time": "2023-09-06T07:24:24.996Z"
   },
   {
    "duration": 219973,
    "start_time": "2023-09-06T07:26:39.988Z"
   },
   {
    "duration": 3,
    "start_time": "2023-09-06T07:31:15.250Z"
   },
   {
    "duration": 1509,
    "start_time": "2023-09-06T07:31:31.804Z"
   },
   {
    "duration": 1430,
    "start_time": "2023-09-06T07:31:43.035Z"
   },
   {
    "duration": 217,
    "start_time": "2023-09-06T07:35:03.050Z"
   },
   {
    "duration": 13,
    "start_time": "2023-09-06T07:40:22.667Z"
   },
   {
    "duration": 1369,
    "start_time": "2023-09-06T07:41:17.049Z"
   },
   {
    "duration": 58,
    "start_time": "2023-09-06T07:42:01.387Z"
   },
   {
    "duration": 116,
    "start_time": "2023-09-06T07:46:43.363Z"
   },
   {
    "duration": 13,
    "start_time": "2023-09-06T07:46:55.465Z"
   },
   {
    "duration": 9,
    "start_time": "2023-09-06T07:49:33.470Z"
   },
   {
    "duration": 11,
    "start_time": "2023-09-06T07:53:15.579Z"
   },
   {
    "duration": 3,
    "start_time": "2023-09-06T07:53:41.963Z"
   },
   {
    "duration": 12,
    "start_time": "2023-09-06T07:53:50.959Z"
   },
   {
    "duration": 1340,
    "start_time": "2023-09-06T07:56:48.771Z"
   },
   {
    "duration": 57,
    "start_time": "2023-09-06T07:57:18.655Z"
   },
   {
    "duration": 14394,
    "start_time": "2023-09-06T10:00:51.245Z"
   },
   {
    "duration": 5882,
    "start_time": "2023-09-06T10:01:05.643Z"
   },
   {
    "duration": 1941,
    "start_time": "2023-09-06T10:01:11.527Z"
   },
   {
    "duration": 180,
    "start_time": "2023-09-06T10:01:13.470Z"
   },
   {
    "duration": 22,
    "start_time": "2023-09-06T10:01:13.654Z"
   },
   {
    "duration": 41,
    "start_time": "2023-09-06T10:01:13.678Z"
   },
   {
    "duration": 8,
    "start_time": "2023-09-06T10:01:13.722Z"
   },
   {
    "duration": 25,
    "start_time": "2023-09-06T10:01:13.733Z"
   },
   {
    "duration": 24,
    "start_time": "2023-09-06T10:01:13.760Z"
   },
   {
    "duration": 31,
    "start_time": "2023-09-06T10:01:13.786Z"
   },
   {
    "duration": 39,
    "start_time": "2023-09-06T10:01:13.820Z"
   },
   {
    "duration": 39,
    "start_time": "2023-09-06T10:01:13.862Z"
   },
   {
    "duration": 41,
    "start_time": "2023-09-06T10:01:13.904Z"
   },
   {
    "duration": 288,
    "start_time": "2023-09-06T10:01:13.949Z"
   },
   {
    "duration": 11,
    "start_time": "2023-09-06T10:01:14.240Z"
   },
   {
    "duration": 26,
    "start_time": "2023-09-06T10:01:14.253Z"
   },
   {
    "duration": 45,
    "start_time": "2023-09-06T10:01:14.280Z"
   },
   {
    "duration": 61,
    "start_time": "2023-09-06T10:01:14.327Z"
   },
   {
    "duration": 95,
    "start_time": "2023-09-06T10:01:14.390Z"
   },
   {
    "duration": 542,
    "start_time": "2023-09-06T10:01:14.506Z"
   },
   {
    "duration": 185382,
    "start_time": "2023-09-06T10:01:15.050Z"
   },
   {
    "duration": 3,
    "start_time": "2023-09-06T10:04:20.434Z"
   },
   {
    "duration": 186,
    "start_time": "2023-09-06T10:04:20.439Z"
   },
   {
    "duration": 9,
    "start_time": "2023-09-06T10:04:20.627Z"
   },
   {
    "duration": 19,
    "start_time": "2023-09-06T10:04:20.637Z"
   },
   {
    "duration": 58,
    "start_time": "2023-09-06T10:04:20.658Z"
   },
   {
    "duration": 33,
    "start_time": "2023-09-06T10:04:20.718Z"
   },
   {
    "duration": 298,
    "start_time": "2023-09-06T10:04:20.785Z"
   },
   {
    "duration": 90713,
    "start_time": "2023-09-06T10:04:21.086Z"
   },
   {
    "duration": 5,
    "start_time": "2023-09-06T10:05:51.812Z"
   },
   {
    "duration": 71,
    "start_time": "2023-09-06T10:05:51.820Z"
   },
   {
    "duration": 8,
    "start_time": "2023-09-06T10:05:51.894Z"
   },
   {
    "duration": 94,
    "start_time": "2023-09-06T10:05:51.904Z"
   },
   {
    "duration": 719,
    "start_time": "2023-09-06T10:05:52.006Z"
   },
   {
    "duration": 237580,
    "start_time": "2023-09-06T10:05:52.731Z"
   },
   {
    "duration": 0,
    "start_time": "2023-09-06T10:09:50.314Z"
   },
   {
    "duration": 0,
    "start_time": "2023-09-06T10:09:50.315Z"
   },
   {
    "duration": 0,
    "start_time": "2023-09-06T10:09:50.320Z"
   },
   {
    "duration": 0,
    "start_time": "2023-09-06T10:09:50.321Z"
   },
   {
    "duration": 0,
    "start_time": "2023-09-06T10:09:50.322Z"
   },
   {
    "duration": 0,
    "start_time": "2023-09-06T10:09:50.323Z"
   },
   {
    "duration": 0,
    "start_time": "2023-09-06T10:09:50.324Z"
   },
   {
    "duration": 0,
    "start_time": "2023-09-06T10:09:50.325Z"
   },
   {
    "duration": 273075,
    "start_time": "2023-09-06T10:09:55.218Z"
   },
   {
    "duration": 271322,
    "start_time": "2023-09-06T10:15:33.009Z"
   },
   {
    "duration": 3,
    "start_time": "2023-09-06T10:21:09.909Z"
   },
   {
    "duration": 1703,
    "start_time": "2023-09-06T10:21:13.813Z"
   },
   {
    "duration": 12,
    "start_time": "2023-09-06T10:21:18.811Z"
   },
   {
    "duration": 9,
    "start_time": "2023-09-06T10:21:21.354Z"
   },
   {
    "duration": 13,
    "start_time": "2023-09-06T10:21:38.034Z"
   },
   {
    "duration": 212,
    "start_time": "2023-09-06T10:21:49.516Z"
   },
   {
    "duration": 6,
    "start_time": "2023-09-06T10:21:55.335Z"
   },
   {
    "duration": 10,
    "start_time": "2023-09-06T10:22:09.048Z"
   },
   {
    "duration": 417,
    "start_time": "2023-09-06T10:22:14.023Z"
   },
   {
    "duration": 434,
    "start_time": "2023-09-06T10:22:20.754Z"
   },
   {
    "duration": 472,
    "start_time": "2023-09-06T10:22:31.774Z"
   },
   {
    "duration": 541,
    "start_time": "2023-09-06T10:23:39.153Z"
   },
   {
    "duration": 515,
    "start_time": "2023-09-06T10:24:21.033Z"
   },
   {
    "duration": 1071,
    "start_time": "2023-09-06T10:30:09.198Z"
   },
   {
    "duration": 1083,
    "start_time": "2023-09-06T10:34:21.212Z"
   },
   {
    "duration": 1117,
    "start_time": "2023-09-06T10:34:41.209Z"
   },
   {
    "duration": 2869,
    "start_time": "2023-09-06T10:40:03.756Z"
   },
   {
    "duration": 2856,
    "start_time": "2023-09-06T10:40:06.627Z"
   },
   {
    "duration": 6,
    "start_time": "2023-09-06T10:40:09.486Z"
   },
   {
    "duration": 80,
    "start_time": "2023-09-06T10:40:09.495Z"
   },
   {
    "duration": 23,
    "start_time": "2023-09-06T10:40:09.576Z"
   },
   {
    "duration": 44,
    "start_time": "2023-09-06T10:40:09.601Z"
   },
   {
    "duration": 28,
    "start_time": "2023-09-06T10:40:09.647Z"
   },
   {
    "duration": 39,
    "start_time": "2023-09-06T10:40:09.677Z"
   },
   {
    "duration": 28,
    "start_time": "2023-09-06T10:40:09.719Z"
   },
   {
    "duration": 26,
    "start_time": "2023-09-06T10:40:09.752Z"
   },
   {
    "duration": 62,
    "start_time": "2023-09-06T10:40:09.784Z"
   },
   {
    "duration": 56,
    "start_time": "2023-09-06T10:40:09.848Z"
   },
   {
    "duration": 107,
    "start_time": "2023-09-06T10:40:09.909Z"
   },
   {
    "duration": 124,
    "start_time": "2023-09-06T10:40:10.018Z"
   },
   {
    "duration": 39,
    "start_time": "2023-09-06T10:40:10.144Z"
   },
   {
    "duration": 40,
    "start_time": "2023-09-06T10:40:10.184Z"
   },
   {
    "duration": 48,
    "start_time": "2023-09-06T10:40:10.226Z"
   },
   {
    "duration": 142,
    "start_time": "2023-09-06T10:40:10.276Z"
   },
   {
    "duration": 106,
    "start_time": "2023-09-06T10:40:10.420Z"
   },
   {
    "duration": 440,
    "start_time": "2023-09-06T10:40:10.588Z"
   },
   {
    "duration": 159475,
    "start_time": "2023-09-06T10:40:11.030Z"
   },
   {
    "duration": 6,
    "start_time": "2023-09-06T10:42:50.508Z"
   },
   {
    "duration": 143,
    "start_time": "2023-09-06T10:42:50.516Z"
   },
   {
    "duration": 8,
    "start_time": "2023-09-06T10:42:50.661Z"
   },
   {
    "duration": 28,
    "start_time": "2023-09-06T10:42:50.681Z"
   },
   {
    "duration": 39,
    "start_time": "2023-09-06T10:42:50.711Z"
   },
   {
    "duration": 43,
    "start_time": "2023-09-06T10:42:50.751Z"
   },
   {
    "duration": 322,
    "start_time": "2023-09-06T10:42:50.799Z"
   },
   {
    "duration": 88635,
    "start_time": "2023-09-06T10:42:51.124Z"
   },
   {
    "duration": 4,
    "start_time": "2023-09-06T10:44:19.761Z"
   },
   {
    "duration": 60,
    "start_time": "2023-09-06T10:44:19.767Z"
   },
   {
    "duration": 6,
    "start_time": "2023-09-06T10:44:19.829Z"
   },
   {
    "duration": 54,
    "start_time": "2023-09-06T10:44:19.837Z"
   },
   {
    "duration": 763,
    "start_time": "2023-09-06T10:44:19.893Z"
   },
   {
    "duration": 276683,
    "start_time": "2023-09-06T10:44:20.658Z"
   },
   {
    "duration": 4,
    "start_time": "2023-09-06T10:48:57.344Z"
   },
   {
    "duration": 1833,
    "start_time": "2023-09-06T10:48:57.353Z"
   },
   {
    "duration": 9,
    "start_time": "2023-09-06T10:48:59.189Z"
   },
   {
    "duration": 16,
    "start_time": "2023-09-06T10:48:59.201Z"
   },
   {
    "duration": 228,
    "start_time": "2023-09-06T10:48:59.219Z"
   },
   {
    "duration": 6,
    "start_time": "2023-09-06T10:48:59.448Z"
   },
   {
    "duration": 1218,
    "start_time": "2023-09-06T10:48:59.456Z"
   },
   {
    "duration": 7441,
    "start_time": "2023-09-06T18:38:27.936Z"
   },
   {
    "duration": 4044,
    "start_time": "2023-09-06T18:38:35.379Z"
   },
   {
    "duration": 1454,
    "start_time": "2023-09-06T18:38:39.424Z"
   },
   {
    "duration": 168,
    "start_time": "2023-09-06T18:38:40.881Z"
   },
   {
    "duration": 16,
    "start_time": "2023-09-06T18:38:41.051Z"
   },
   {
    "duration": 20,
    "start_time": "2023-09-06T18:38:41.069Z"
   },
   {
    "duration": 5,
    "start_time": "2023-09-06T18:38:41.091Z"
   },
   {
    "duration": 13,
    "start_time": "2023-09-06T18:38:41.098Z"
   },
   {
    "duration": 7,
    "start_time": "2023-09-06T18:38:41.113Z"
   },
   {
    "duration": 38,
    "start_time": "2023-09-06T18:38:41.124Z"
   },
   {
    "duration": 5,
    "start_time": "2023-09-06T18:38:41.164Z"
   },
   {
    "duration": 10,
    "start_time": "2023-09-06T18:38:41.171Z"
   },
   {
    "duration": 13,
    "start_time": "2023-09-06T18:38:41.183Z"
   },
   {
    "duration": 76,
    "start_time": "2023-09-06T18:38:41.198Z"
   },
   {
    "duration": 11,
    "start_time": "2023-09-06T18:38:41.275Z"
   },
   {
    "duration": 25,
    "start_time": "2023-09-06T18:38:41.288Z"
   },
   {
    "duration": 14,
    "start_time": "2023-09-06T18:38:41.315Z"
   },
   {
    "duration": 36,
    "start_time": "2023-09-06T18:38:41.331Z"
   },
   {
    "duration": 87,
    "start_time": "2023-09-06T18:38:41.369Z"
   },
   {
    "duration": 402,
    "start_time": "2023-09-06T18:38:41.464Z"
   },
   {
    "duration": 127561,
    "start_time": "2023-09-06T18:38:41.868Z"
   },
   {
    "duration": 5,
    "start_time": "2023-09-06T18:40:49.430Z"
   },
   {
    "duration": 136,
    "start_time": "2023-09-06T18:40:49.436Z"
   },
   {
    "duration": 9,
    "start_time": "2023-09-06T18:40:49.574Z"
   },
   {
    "duration": 18,
    "start_time": "2023-09-06T18:40:49.584Z"
   },
   {
    "duration": 17,
    "start_time": "2023-09-06T18:40:49.604Z"
   },
   {
    "duration": 39,
    "start_time": "2023-09-06T18:40:49.623Z"
   },
   {
    "duration": 338,
    "start_time": "2023-09-06T18:40:49.667Z"
   },
   {
    "duration": 69658,
    "start_time": "2023-09-06T18:40:50.008Z"
   },
   {
    "duration": 3,
    "start_time": "2023-09-06T18:41:59.668Z"
   },
   {
    "duration": 55,
    "start_time": "2023-09-06T18:41:59.673Z"
   },
   {
    "duration": 5,
    "start_time": "2023-09-06T18:41:59.730Z"
   },
   {
    "duration": 56,
    "start_time": "2023-09-06T18:41:59.737Z"
   },
   {
    "duration": 676,
    "start_time": "2023-09-06T18:41:59.796Z"
   },
   {
    "duration": 7387,
    "start_time": "2024-02-10T13:43:55.184Z"
   },
   {
    "duration": 2466,
    "start_time": "2024-02-10T13:47:14.530Z"
   },
   {
    "duration": 1456,
    "start_time": "2024-02-10T13:47:16.998Z"
   },
   {
    "duration": 154,
    "start_time": "2024-02-10T13:47:18.456Z"
   },
   {
    "duration": 13,
    "start_time": "2024-02-10T13:47:18.612Z"
   },
   {
    "duration": 18,
    "start_time": "2024-02-10T13:47:18.627Z"
   },
   {
    "duration": 10,
    "start_time": "2024-02-10T13:47:18.646Z"
   },
   {
    "duration": 19,
    "start_time": "2024-02-10T13:47:18.658Z"
   },
   {
    "duration": 7,
    "start_time": "2024-02-10T13:47:18.679Z"
   },
   {
    "duration": 10,
    "start_time": "2024-02-10T13:47:18.687Z"
   },
   {
    "duration": 5,
    "start_time": "2024-02-10T13:47:18.700Z"
   },
   {
    "duration": 11,
    "start_time": "2024-02-10T13:47:18.707Z"
   },
   {
    "duration": 12,
    "start_time": "2024-02-10T13:47:18.720Z"
   },
   {
    "duration": 161,
    "start_time": "2024-02-10T13:47:18.734Z"
   },
   {
    "duration": 0,
    "start_time": "2024-02-10T13:47:18.897Z"
   },
   {
    "duration": 0,
    "start_time": "2024-02-10T13:47:18.899Z"
   },
   {
    "duration": 0,
    "start_time": "2024-02-10T13:47:18.901Z"
   },
   {
    "duration": 0,
    "start_time": "2024-02-10T13:47:18.902Z"
   },
   {
    "duration": 0,
    "start_time": "2024-02-10T13:47:18.903Z"
   },
   {
    "duration": 0,
    "start_time": "2024-02-10T13:47:18.905Z"
   },
   {
    "duration": 0,
    "start_time": "2024-02-10T13:47:18.906Z"
   },
   {
    "duration": 0,
    "start_time": "2024-02-10T13:47:18.907Z"
   },
   {
    "duration": 0,
    "start_time": "2024-02-10T13:47:18.909Z"
   },
   {
    "duration": 0,
    "start_time": "2024-02-10T13:47:18.910Z"
   },
   {
    "duration": 0,
    "start_time": "2024-02-10T13:47:18.912Z"
   },
   {
    "duration": 0,
    "start_time": "2024-02-10T13:47:18.913Z"
   },
   {
    "duration": 0,
    "start_time": "2024-02-10T13:47:18.915Z"
   },
   {
    "duration": 0,
    "start_time": "2024-02-10T13:47:18.916Z"
   },
   {
    "duration": 0,
    "start_time": "2024-02-10T13:47:18.918Z"
   },
   {
    "duration": 0,
    "start_time": "2024-02-10T13:47:18.919Z"
   },
   {
    "duration": 0,
    "start_time": "2024-02-10T13:47:18.921Z"
   },
   {
    "duration": 0,
    "start_time": "2024-02-10T13:47:18.922Z"
   },
   {
    "duration": 0,
    "start_time": "2024-02-10T13:47:18.923Z"
   },
   {
    "duration": 0,
    "start_time": "2024-02-10T13:47:18.925Z"
   },
   {
    "duration": 0,
    "start_time": "2024-02-10T13:47:18.926Z"
   },
   {
    "duration": 0,
    "start_time": "2024-02-10T13:47:18.928Z"
   },
   {
    "duration": 0,
    "start_time": "2024-02-10T13:47:18.929Z"
   },
   {
    "duration": 0,
    "start_time": "2024-02-10T13:47:18.930Z"
   },
   {
    "duration": 0,
    "start_time": "2024-02-10T13:47:18.932Z"
   },
   {
    "duration": 0,
    "start_time": "2024-02-10T13:47:18.933Z"
   },
   {
    "duration": 0,
    "start_time": "2024-02-10T13:47:18.934Z"
   },
   {
    "duration": 0,
    "start_time": "2024-02-10T13:47:18.988Z"
   },
   {
    "duration": 40,
    "start_time": "2024-02-10T13:48:03.234Z"
   },
   {
    "duration": 6451,
    "start_time": "2024-02-10T13:49:32.244Z"
   },
   {
    "duration": 2526,
    "start_time": "2024-02-10T13:49:58.945Z"
   },
   {
    "duration": 2462,
    "start_time": "2024-02-10T13:50:04.050Z"
   },
   {
    "duration": 21,
    "start_time": "2024-02-10T13:50:48.387Z"
   },
   {
    "duration": 11,
    "start_time": "2024-02-10T13:52:38.518Z"
   },
   {
    "duration": 4,
    "start_time": "2024-02-10T13:52:46.798Z"
   },
   {
    "duration": 44,
    "start_time": "2024-02-10T13:56:34.548Z"
   },
   {
    "duration": 11,
    "start_time": "2024-02-10T13:56:38.056Z"
   },
   {
    "duration": 16,
    "start_time": "2024-02-10T13:56:40.484Z"
   },
   {
    "duration": 13,
    "start_time": "2024-02-10T13:56:40.940Z"
   },
   {
    "duration": 20,
    "start_time": "2024-02-10T13:56:41.481Z"
   },
   {
    "duration": 81,
    "start_time": "2024-02-10T13:56:42.707Z"
   },
   {
    "duration": 330,
    "start_time": "2024-02-10T13:56:43.078Z"
   },
   {
    "duration": 150240,
    "start_time": "2024-02-10T13:56:43.557Z"
   },
   {
    "duration": 3,
    "start_time": "2024-02-10T13:59:13.798Z"
   },
   {
    "duration": 153,
    "start_time": "2024-02-10T13:59:13.802Z"
   },
   {
    "duration": 8,
    "start_time": "2024-02-10T13:59:13.957Z"
   },
   {
    "duration": 28,
    "start_time": "2024-02-10T13:59:13.966Z"
   },
   {
    "duration": 4,
    "start_time": "2024-02-10T13:59:13.996Z"
   },
   {
    "duration": 88,
    "start_time": "2024-02-10T13:59:14.002Z"
   },
   {
    "duration": 296,
    "start_time": "2024-02-10T13:59:14.093Z"
   },
   {
    "duration": 19,
    "start_time": "2024-02-10T13:59:42.781Z"
   },
   {
    "duration": 189,
    "start_time": "2024-02-10T13:59:43.276Z"
   },
   {
    "duration": 80939,
    "start_time": "2024-02-10T13:59:43.939Z"
   },
   {
    "duration": 3,
    "start_time": "2024-02-10T14:01:04.879Z"
   },
   {
    "duration": 38,
    "start_time": "2024-02-10T14:01:04.888Z"
   },
   {
    "duration": 5,
    "start_time": "2024-02-10T14:01:04.928Z"
   },
   {
    "duration": 61,
    "start_time": "2024-02-10T14:01:04.935Z"
   },
   {
    "duration": 672,
    "start_time": "2024-02-10T14:01:05.089Z"
   },
   {
    "duration": 2500,
    "start_time": "2024-02-10T14:12:44.295Z"
   },
   {
    "duration": 2446,
    "start_time": "2024-02-10T14:12:46.797Z"
   },
   {
    "duration": 1208,
    "start_time": "2024-02-10T14:12:49.245Z"
   },
   {
    "duration": 44,
    "start_time": "2024-02-10T14:12:50.454Z"
   },
   {
    "duration": 12,
    "start_time": "2024-02-10T14:12:50.500Z"
   },
   {
    "duration": 18,
    "start_time": "2024-02-10T14:12:50.514Z"
   },
   {
    "duration": 4,
    "start_time": "2024-02-10T14:12:50.533Z"
   },
   {
    "duration": 13,
    "start_time": "2024-02-10T14:12:50.538Z"
   },
   {
    "duration": 6,
    "start_time": "2024-02-10T14:12:50.552Z"
   },
   {
    "duration": 17,
    "start_time": "2024-02-10T14:12:50.559Z"
   },
   {
    "duration": 13,
    "start_time": "2024-02-10T14:12:50.577Z"
   },
   {
    "duration": 10,
    "start_time": "2024-02-10T14:12:50.592Z"
   },
   {
    "duration": 11,
    "start_time": "2024-02-10T14:12:50.604Z"
   },
   {
    "duration": 126,
    "start_time": "2024-02-10T14:12:50.618Z"
   },
   {
    "duration": 0,
    "start_time": "2024-02-10T14:12:50.745Z"
   },
   {
    "duration": 0,
    "start_time": "2024-02-10T14:12:50.746Z"
   },
   {
    "duration": 0,
    "start_time": "2024-02-10T14:12:50.748Z"
   },
   {
    "duration": 0,
    "start_time": "2024-02-10T14:12:50.749Z"
   },
   {
    "duration": 0,
    "start_time": "2024-02-10T14:12:50.750Z"
   },
   {
    "duration": 0,
    "start_time": "2024-02-10T14:12:50.751Z"
   },
   {
    "duration": 0,
    "start_time": "2024-02-10T14:12:50.752Z"
   },
   {
    "duration": 0,
    "start_time": "2024-02-10T14:12:50.753Z"
   },
   {
    "duration": 0,
    "start_time": "2024-02-10T14:12:50.754Z"
   },
   {
    "duration": 0,
    "start_time": "2024-02-10T14:12:50.755Z"
   },
   {
    "duration": 0,
    "start_time": "2024-02-10T14:12:50.756Z"
   },
   {
    "duration": 0,
    "start_time": "2024-02-10T14:12:50.757Z"
   },
   {
    "duration": 0,
    "start_time": "2024-02-10T14:12:50.758Z"
   },
   {
    "duration": 0,
    "start_time": "2024-02-10T14:12:50.759Z"
   },
   {
    "duration": 0,
    "start_time": "2024-02-10T14:12:50.760Z"
   },
   {
    "duration": 0,
    "start_time": "2024-02-10T14:12:50.761Z"
   },
   {
    "duration": 0,
    "start_time": "2024-02-10T14:12:50.763Z"
   },
   {
    "duration": 0,
    "start_time": "2024-02-10T14:12:50.764Z"
   },
   {
    "duration": 0,
    "start_time": "2024-02-10T14:12:50.765Z"
   },
   {
    "duration": 0,
    "start_time": "2024-02-10T14:12:50.765Z"
   },
   {
    "duration": 0,
    "start_time": "2024-02-10T14:12:50.766Z"
   },
   {
    "duration": 0,
    "start_time": "2024-02-10T14:12:50.768Z"
   },
   {
    "duration": 0,
    "start_time": "2024-02-10T14:12:50.769Z"
   },
   {
    "duration": 0,
    "start_time": "2024-02-10T14:12:50.788Z"
   },
   {
    "duration": 0,
    "start_time": "2024-02-10T14:12:50.789Z"
   },
   {
    "duration": 0,
    "start_time": "2024-02-10T14:12:50.790Z"
   },
   {
    "duration": 0,
    "start_time": "2024-02-10T14:12:50.791Z"
   },
   {
    "duration": 0,
    "start_time": "2024-02-10T14:12:50.792Z"
   },
   {
    "duration": 44,
    "start_time": "2024-02-10T14:16:44.304Z"
   },
   {
    "duration": 2448,
    "start_time": "2024-02-10T14:16:56.151Z"
   },
   {
    "duration": 2568,
    "start_time": "2024-02-10T14:16:58.601Z"
   },
   {
    "duration": 1323,
    "start_time": "2024-02-10T14:17:01.171Z"
   },
   {
    "duration": 42,
    "start_time": "2024-02-10T14:17:02.496Z"
   },
   {
    "duration": 13,
    "start_time": "2024-02-10T14:17:02.541Z"
   },
   {
    "duration": 41,
    "start_time": "2024-02-10T14:17:02.556Z"
   },
   {
    "duration": 80,
    "start_time": "2024-02-10T14:17:02.599Z"
   },
   {
    "duration": 41,
    "start_time": "2024-02-10T14:17:02.681Z"
   },
   {
    "duration": 23,
    "start_time": "2024-02-10T14:17:02.723Z"
   },
   {
    "duration": 9,
    "start_time": "2024-02-10T14:17:02.747Z"
   },
   {
    "duration": 31,
    "start_time": "2024-02-10T14:17:02.758Z"
   },
   {
    "duration": 15,
    "start_time": "2024-02-10T14:17:02.791Z"
   },
   {
    "duration": 40,
    "start_time": "2024-02-10T14:17:02.808Z"
   },
   {
    "duration": 53,
    "start_time": "2024-02-10T14:17:02.851Z"
   },
   {
    "duration": 12,
    "start_time": "2024-02-10T14:17:02.906Z"
   },
   {
    "duration": 16,
    "start_time": "2024-02-10T14:17:02.920Z"
   },
   {
    "duration": 31,
    "start_time": "2024-02-10T14:17:02.937Z"
   },
   {
    "duration": 30,
    "start_time": "2024-02-10T14:17:02.970Z"
   },
   {
    "duration": 89,
    "start_time": "2024-02-10T14:17:03.001Z"
   },
   {
    "duration": 401,
    "start_time": "2024-02-10T14:17:03.092Z"
   },
   {
    "duration": 130326,
    "start_time": "2024-02-10T14:17:03.494Z"
   },
   {
    "duration": 3,
    "start_time": "2024-02-10T14:19:13.821Z"
   },
   {
    "duration": 147,
    "start_time": "2024-02-10T14:19:13.825Z"
   },
   {
    "duration": 14,
    "start_time": "2024-02-10T14:19:13.974Z"
   },
   {
    "duration": 11,
    "start_time": "2024-02-10T14:19:13.990Z"
   },
   {
    "duration": 5,
    "start_time": "2024-02-10T14:19:14.003Z"
   },
   {
    "duration": 78,
    "start_time": "2024-02-10T14:19:14.009Z"
   },
   {
    "duration": 262,
    "start_time": "2024-02-10T14:19:14.090Z"
   },
   {
    "duration": 71571,
    "start_time": "2024-02-10T14:19:14.354Z"
   },
   {
    "duration": 3,
    "start_time": "2024-02-10T14:20:25.927Z"
   },
   {
    "duration": 33,
    "start_time": "2024-02-10T14:20:25.931Z"
   },
   {
    "duration": 6,
    "start_time": "2024-02-10T14:20:25.966Z"
   },
   {
    "duration": 36,
    "start_time": "2024-02-10T14:20:25.988Z"
   },
   {
    "duration": 607,
    "start_time": "2024-02-10T14:20:26.089Z"
   },
   {
    "duration": 215331,
    "start_time": "2024-02-10T14:20:26.697Z"
   },
   {
    "duration": 3,
    "start_time": "2024-02-10T14:24:02.029Z"
   },
   {
    "duration": 1417,
    "start_time": "2024-02-10T14:24:02.034Z"
   },
   {
    "duration": 5,
    "start_time": "2024-02-10T14:24:03.452Z"
   },
   {
    "duration": 36,
    "start_time": "2024-02-10T14:24:03.459Z"
   },
   {
    "duration": 208,
    "start_time": "2024-02-10T14:24:03.496Z"
   },
   {
    "duration": 5,
    "start_time": "2024-02-10T14:24:03.708Z"
   },
   {
    "duration": 977,
    "start_time": "2024-02-10T14:24:03.714Z"
   }
  ],
  "kernelspec": {
   "display_name": "Python 3 (ipykernel)",
   "language": "python",
   "name": "python3"
  },
  "language_info": {
   "codemirror_mode": {
    "name": "ipython",
    "version": 3
   },
   "file_extension": ".py",
   "mimetype": "text/x-python",
   "name": "python",
   "nbconvert_exporter": "python",
   "pygments_lexer": "ipython3",
   "version": "3.9.18"
  },
  "toc": {
   "base_numbering": 1,
   "nav_menu": {},
   "number_sections": true,
   "sideBar": true,
   "skip_h1_title": true,
   "title_cell": "Содержание",
   "title_sidebar": "Contents",
   "toc_cell": true,
   "toc_position": {
    "height": "calc(100% - 180px)",
    "left": "10px",
    "top": "150px",
    "width": "275px"
   },
   "toc_section_display": true,
   "toc_window_display": false
  }
 },
 "nbformat": 4,
 "nbformat_minor": 4
}
